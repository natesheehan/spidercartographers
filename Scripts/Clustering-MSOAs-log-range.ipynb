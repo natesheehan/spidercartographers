{
 "cells": [
  {
   "cell_type": "markdown",
   "metadata": {},
   "source": [
    "## clustering python notebook"
   ]
  },
  {
   "cell_type": "code",
   "execution_count": 1,
   "metadata": {},
   "outputs": [
    {
     "data": {
      "text/plain": [
       "'/Users/Hussein/Documents/Code Repos/spidercartographers/Scripts'"
      ]
     },
     "execution_count": 1,
     "metadata": {},
     "output_type": "execute_result"
    }
   ],
   "source": [
    "import os \n",
    "os.getcwd()"
   ]
  },
  {
   "cell_type": "code",
   "execution_count": 2,
   "metadata": {},
   "outputs": [],
   "source": [
    "# importing libraries required\n",
    "import pandas as pd\n",
    "import plotly.express as px\n",
    "import sklearn.preprocessing as preprocessing\n",
    "from sklearn.cluster import DBSCAN\n",
    "from sklearn import metrics\n",
    "from sklearn.cluster import KMeans\n",
    "import matplotlib.pyplot as plt\n",
    "import random\n",
    "from sklearn.cluster import AgglomerativeClustering\n",
    "from sklearn import neighbors\n",
    "import numpy as np\n",
    "\n",
    "# run this command too - just to allow more data to be displayed than default\n",
    "pd.set_option('display.max_rows', 200)\n",
    "# this one ensures graphs properly display in the notebook\n",
    "%matplotlib inline"
   ]
  },
  {
   "cell_type": "code",
   "execution_count": 3,
   "metadata": {
    "scrolled": true
   },
   "outputs": [
    {
     "data": {
      "text/html": [
       "<div>\n",
       "<style scoped>\n",
       "    .dataframe tbody tr th:only-of-type {\n",
       "        vertical-align: middle;\n",
       "    }\n",
       "\n",
       "    .dataframe tbody tr th {\n",
       "        vertical-align: top;\n",
       "    }\n",
       "\n",
       "    .dataframe thead th {\n",
       "        text-align: right;\n",
       "    }\n",
       "</style>\n",
       "<table border=\"1\" class=\"dataframe\">\n",
       "  <thead>\n",
       "    <tr style=\"text-align: right;\">\n",
       "      <th></th>\n",
       "      <th>work_from_home_perc</th>\n",
       "      <th>underground_metro_perc</th>\n",
       "      <th>train_perc</th>\n",
       "      <th>bus_perc</th>\n",
       "      <th>motorcycle_perc</th>\n",
       "      <th>bicycle_perc</th>\n",
       "      <th>on_foot_perc</th>\n",
       "      <th>other_perc</th>\n",
       "      <th>car_perc</th>\n",
       "      <th>MSOA</th>\n",
       "    </tr>\n",
       "  </thead>\n",
       "  <tbody>\n",
       "    <tr>\n",
       "      <th>0</th>\n",
       "      <td>0.635840</td>\n",
       "      <td>0.869858</td>\n",
       "      <td>0.684665</td>\n",
       "      <td>0.621735</td>\n",
       "      <td>0.575936</td>\n",
       "      <td>0.686268</td>\n",
       "      <td>0.966821</td>\n",
       "      <td>0.624982</td>\n",
       "      <td>0.000000</td>\n",
       "      <td>E02000001</td>\n",
       "    </tr>\n",
       "    <tr>\n",
       "      <th>1</th>\n",
       "      <td>0.315872</td>\n",
       "      <td>0.850990</td>\n",
       "      <td>0.745625</td>\n",
       "      <td>0.797453</td>\n",
       "      <td>0.704265</td>\n",
       "      <td>0.464110</td>\n",
       "      <td>0.322098</td>\n",
       "      <td>0.513816</td>\n",
       "      <td>0.823196</td>\n",
       "      <td>E02000002</td>\n",
       "    </tr>\n",
       "    <tr>\n",
       "      <th>2</th>\n",
       "      <td>0.344648</td>\n",
       "      <td>0.827113</td>\n",
       "      <td>0.875875</td>\n",
       "      <td>0.738637</td>\n",
       "      <td>0.653394</td>\n",
       "      <td>0.396107</td>\n",
       "      <td>0.388434</td>\n",
       "      <td>0.505432</td>\n",
       "      <td>0.786408</td>\n",
       "      <td>E02000003</td>\n",
       "    </tr>\n",
       "    <tr>\n",
       "      <th>3</th>\n",
       "      <td>0.313882</td>\n",
       "      <td>0.800047</td>\n",
       "      <td>0.821695</td>\n",
       "      <td>0.727347</td>\n",
       "      <td>0.743940</td>\n",
       "      <td>0.464247</td>\n",
       "      <td>0.426412</td>\n",
       "      <td>0.502136</td>\n",
       "      <td>0.839826</td>\n",
       "      <td>E02000004</td>\n",
       "    </tr>\n",
       "    <tr>\n",
       "      <th>4</th>\n",
       "      <td>0.308900</td>\n",
       "      <td>0.823645</td>\n",
       "      <td>0.805177</td>\n",
       "      <td>0.801575</td>\n",
       "      <td>0.711271</td>\n",
       "      <td>0.493413</td>\n",
       "      <td>0.370187</td>\n",
       "      <td>0.307639</td>\n",
       "      <td>0.812594</td>\n",
       "      <td>E02000005</td>\n",
       "    </tr>\n",
       "    <tr>\n",
       "      <th>...</th>\n",
       "      <td>...</td>\n",
       "      <td>...</td>\n",
       "      <td>...</td>\n",
       "      <td>...</td>\n",
       "      <td>...</td>\n",
       "      <td>...</td>\n",
       "      <td>...</td>\n",
       "      <td>...</td>\n",
       "      <td>...</td>\n",
       "      <td>...</td>\n",
       "    </tr>\n",
       "    <tr>\n",
       "      <th>7196</th>\n",
       "      <td>0.405591</td>\n",
       "      <td>0.075570</td>\n",
       "      <td>0.472746</td>\n",
       "      <td>0.533623</td>\n",
       "      <td>0.663863</td>\n",
       "      <td>0.573050</td>\n",
       "      <td>0.524632</td>\n",
       "      <td>0.456895</td>\n",
       "      <td>0.957011</td>\n",
       "      <td>W02000419</td>\n",
       "    </tr>\n",
       "    <tr>\n",
       "      <th>7197</th>\n",
       "      <td>0.599592</td>\n",
       "      <td>0.304294</td>\n",
       "      <td>0.407845</td>\n",
       "      <td>0.542823</td>\n",
       "      <td>0.582659</td>\n",
       "      <td>0.484430</td>\n",
       "      <td>0.279357</td>\n",
       "      <td>0.539044</td>\n",
       "      <td>0.966741</td>\n",
       "      <td>W02000420</td>\n",
       "    </tr>\n",
       "    <tr>\n",
       "      <th>7198</th>\n",
       "      <td>0.837007</td>\n",
       "      <td>0.266048</td>\n",
       "      <td>0.275627</td>\n",
       "      <td>0.418837</td>\n",
       "      <td>0.618877</td>\n",
       "      <td>0.414390</td>\n",
       "      <td>0.278863</td>\n",
       "      <td>0.490967</td>\n",
       "      <td>0.930941</td>\n",
       "      <td>W02000421</td>\n",
       "    </tr>\n",
       "    <tr>\n",
       "      <th>7199</th>\n",
       "      <td>0.294551</td>\n",
       "      <td>0.205715</td>\n",
       "      <td>0.671375</td>\n",
       "      <td>0.687895</td>\n",
       "      <td>0.426283</td>\n",
       "      <td>0.618911</td>\n",
       "      <td>0.716829</td>\n",
       "      <td>0.508853</td>\n",
       "      <td>0.884869</td>\n",
       "      <td>W02000422</td>\n",
       "    </tr>\n",
       "    <tr>\n",
       "      <th>7200</th>\n",
       "      <td>0.303201</td>\n",
       "      <td>0.357396</td>\n",
       "      <td>0.689381</td>\n",
       "      <td>0.707986</td>\n",
       "      <td>0.343540</td>\n",
       "      <td>0.646606</td>\n",
       "      <td>0.818575</td>\n",
       "      <td>0.604600</td>\n",
       "      <td>0.820331</td>\n",
       "      <td>W02000423</td>\n",
       "    </tr>\n",
       "  </tbody>\n",
       "</table>\n",
       "<p>7201 rows × 10 columns</p>\n",
       "</div>"
      ],
      "text/plain": [
       "      work_from_home_perc  underground_metro_perc  train_perc  bus_perc  \\\n",
       "0                0.635840                0.869858    0.684665  0.621735   \n",
       "1                0.315872                0.850990    0.745625  0.797453   \n",
       "2                0.344648                0.827113    0.875875  0.738637   \n",
       "3                0.313882                0.800047    0.821695  0.727347   \n",
       "4                0.308900                0.823645    0.805177  0.801575   \n",
       "...                   ...                     ...         ...       ...   \n",
       "7196             0.405591                0.075570    0.472746  0.533623   \n",
       "7197             0.599592                0.304294    0.407845  0.542823   \n",
       "7198             0.837007                0.266048    0.275627  0.418837   \n",
       "7199             0.294551                0.205715    0.671375  0.687895   \n",
       "7200             0.303201                0.357396    0.689381  0.707986   \n",
       "\n",
       "      motorcycle_perc  bicycle_perc  on_foot_perc  other_perc  car_perc  \\\n",
       "0            0.575936      0.686268      0.966821    0.624982  0.000000   \n",
       "1            0.704265      0.464110      0.322098    0.513816  0.823196   \n",
       "2            0.653394      0.396107      0.388434    0.505432  0.786408   \n",
       "3            0.743940      0.464247      0.426412    0.502136  0.839826   \n",
       "4            0.711271      0.493413      0.370187    0.307639  0.812594   \n",
       "...               ...           ...           ...         ...       ...   \n",
       "7196         0.663863      0.573050      0.524632    0.456895  0.957011   \n",
       "7197         0.582659      0.484430      0.279357    0.539044  0.966741   \n",
       "7198         0.618877      0.414390      0.278863    0.490967  0.930941   \n",
       "7199         0.426283      0.618911      0.716829    0.508853  0.884869   \n",
       "7200         0.343540      0.646606      0.818575    0.604600  0.820331   \n",
       "\n",
       "           MSOA  \n",
       "0     E02000001  \n",
       "1     E02000002  \n",
       "2     E02000003  \n",
       "3     E02000004  \n",
       "4     E02000005  \n",
       "...         ...  \n",
       "7196  W02000419  \n",
       "7197  W02000420  \n",
       "7198  W02000421  \n",
       "7199  W02000422  \n",
       "7200  W02000423  \n",
       "\n",
       "[7201 rows x 10 columns]"
      ]
     },
     "execution_count": 3,
     "metadata": {},
     "output_type": "execute_result"
    }
   ],
   "source": [
    "#put the data into a dataframe\n",
    "yj = pd.read_csv('Data/transport_log_then_range.csv')\n",
    "#check that is has been read correctly\n",
    "yj"
   ]
  },
  {
   "cell_type": "code",
   "execution_count": 4,
   "metadata": {},
   "outputs": [
    {
     "data": {
      "text/plain": [
       "work_from_home_perc       0\n",
       "underground_metro_perc    0\n",
       "train_perc                0\n",
       "bus_perc                  0\n",
       "motorcycle_perc           0\n",
       "bicycle_perc              0\n",
       "on_foot_perc              0\n",
       "other_perc                0\n",
       "car_perc                  0\n",
       "MSOA                      0\n",
       "dtype: int64"
      ]
     },
     "execution_count": 4,
     "metadata": {},
     "output_type": "execute_result"
    }
   ],
   "source": [
    "yj.isna().sum() "
   ]
  },
  {
   "cell_type": "code",
   "execution_count": 5,
   "metadata": {},
   "outputs": [],
   "source": [
    "# store the MSOA column \n",
    "MSOA = yj[['MSOA']]"
   ]
  },
  {
   "cell_type": "code",
   "execution_count": 6,
   "metadata": {},
   "outputs": [
    {
     "data": {
      "text/html": [
       "<div>\n",
       "<style scoped>\n",
       "    .dataframe tbody tr th:only-of-type {\n",
       "        vertical-align: middle;\n",
       "    }\n",
       "\n",
       "    .dataframe tbody tr th {\n",
       "        vertical-align: top;\n",
       "    }\n",
       "\n",
       "    .dataframe thead th {\n",
       "        text-align: right;\n",
       "    }\n",
       "</style>\n",
       "<table border=\"1\" class=\"dataframe\">\n",
       "  <thead>\n",
       "    <tr style=\"text-align: right;\">\n",
       "      <th></th>\n",
       "      <th>work_from_home_perc</th>\n",
       "      <th>underground_metro_perc</th>\n",
       "      <th>train_perc</th>\n",
       "      <th>bus_perc</th>\n",
       "      <th>motorcycle_perc</th>\n",
       "      <th>bicycle_perc</th>\n",
       "      <th>on_foot_perc</th>\n",
       "      <th>other_perc</th>\n",
       "      <th>car_perc</th>\n",
       "    </tr>\n",
       "  </thead>\n",
       "  <tbody>\n",
       "    <tr>\n",
       "      <th>0</th>\n",
       "      <td>0.635840</td>\n",
       "      <td>0.869858</td>\n",
       "      <td>0.684665</td>\n",
       "      <td>0.621735</td>\n",
       "      <td>0.575936</td>\n",
       "      <td>0.686268</td>\n",
       "      <td>0.966821</td>\n",
       "      <td>0.624982</td>\n",
       "      <td>0.000000</td>\n",
       "    </tr>\n",
       "    <tr>\n",
       "      <th>1</th>\n",
       "      <td>0.315872</td>\n",
       "      <td>0.850990</td>\n",
       "      <td>0.745625</td>\n",
       "      <td>0.797453</td>\n",
       "      <td>0.704265</td>\n",
       "      <td>0.464110</td>\n",
       "      <td>0.322098</td>\n",
       "      <td>0.513816</td>\n",
       "      <td>0.823196</td>\n",
       "    </tr>\n",
       "    <tr>\n",
       "      <th>2</th>\n",
       "      <td>0.344648</td>\n",
       "      <td>0.827113</td>\n",
       "      <td>0.875875</td>\n",
       "      <td>0.738637</td>\n",
       "      <td>0.653394</td>\n",
       "      <td>0.396107</td>\n",
       "      <td>0.388434</td>\n",
       "      <td>0.505432</td>\n",
       "      <td>0.786408</td>\n",
       "    </tr>\n",
       "    <tr>\n",
       "      <th>3</th>\n",
       "      <td>0.313882</td>\n",
       "      <td>0.800047</td>\n",
       "      <td>0.821695</td>\n",
       "      <td>0.727347</td>\n",
       "      <td>0.743940</td>\n",
       "      <td>0.464247</td>\n",
       "      <td>0.426412</td>\n",
       "      <td>0.502136</td>\n",
       "      <td>0.839826</td>\n",
       "    </tr>\n",
       "    <tr>\n",
       "      <th>4</th>\n",
       "      <td>0.308900</td>\n",
       "      <td>0.823645</td>\n",
       "      <td>0.805177</td>\n",
       "      <td>0.801575</td>\n",
       "      <td>0.711271</td>\n",
       "      <td>0.493413</td>\n",
       "      <td>0.370187</td>\n",
       "      <td>0.307639</td>\n",
       "      <td>0.812594</td>\n",
       "    </tr>\n",
       "    <tr>\n",
       "      <th>...</th>\n",
       "      <td>...</td>\n",
       "      <td>...</td>\n",
       "      <td>...</td>\n",
       "      <td>...</td>\n",
       "      <td>...</td>\n",
       "      <td>...</td>\n",
       "      <td>...</td>\n",
       "      <td>...</td>\n",
       "      <td>...</td>\n",
       "    </tr>\n",
       "    <tr>\n",
       "      <th>7196</th>\n",
       "      <td>0.405591</td>\n",
       "      <td>0.075570</td>\n",
       "      <td>0.472746</td>\n",
       "      <td>0.533623</td>\n",
       "      <td>0.663863</td>\n",
       "      <td>0.573050</td>\n",
       "      <td>0.524632</td>\n",
       "      <td>0.456895</td>\n",
       "      <td>0.957011</td>\n",
       "    </tr>\n",
       "    <tr>\n",
       "      <th>7197</th>\n",
       "      <td>0.599592</td>\n",
       "      <td>0.304294</td>\n",
       "      <td>0.407845</td>\n",
       "      <td>0.542823</td>\n",
       "      <td>0.582659</td>\n",
       "      <td>0.484430</td>\n",
       "      <td>0.279357</td>\n",
       "      <td>0.539044</td>\n",
       "      <td>0.966741</td>\n",
       "    </tr>\n",
       "    <tr>\n",
       "      <th>7198</th>\n",
       "      <td>0.837007</td>\n",
       "      <td>0.266048</td>\n",
       "      <td>0.275627</td>\n",
       "      <td>0.418837</td>\n",
       "      <td>0.618877</td>\n",
       "      <td>0.414390</td>\n",
       "      <td>0.278863</td>\n",
       "      <td>0.490967</td>\n",
       "      <td>0.930941</td>\n",
       "    </tr>\n",
       "    <tr>\n",
       "      <th>7199</th>\n",
       "      <td>0.294551</td>\n",
       "      <td>0.205715</td>\n",
       "      <td>0.671375</td>\n",
       "      <td>0.687895</td>\n",
       "      <td>0.426283</td>\n",
       "      <td>0.618911</td>\n",
       "      <td>0.716829</td>\n",
       "      <td>0.508853</td>\n",
       "      <td>0.884869</td>\n",
       "    </tr>\n",
       "    <tr>\n",
       "      <th>7200</th>\n",
       "      <td>0.303201</td>\n",
       "      <td>0.357396</td>\n",
       "      <td>0.689381</td>\n",
       "      <td>0.707986</td>\n",
       "      <td>0.343540</td>\n",
       "      <td>0.646606</td>\n",
       "      <td>0.818575</td>\n",
       "      <td>0.604600</td>\n",
       "      <td>0.820331</td>\n",
       "    </tr>\n",
       "  </tbody>\n",
       "</table>\n",
       "<p>7201 rows × 9 columns</p>\n",
       "</div>"
      ],
      "text/plain": [
       "      work_from_home_perc  underground_metro_perc  train_perc  bus_perc  \\\n",
       "0                0.635840                0.869858    0.684665  0.621735   \n",
       "1                0.315872                0.850990    0.745625  0.797453   \n",
       "2                0.344648                0.827113    0.875875  0.738637   \n",
       "3                0.313882                0.800047    0.821695  0.727347   \n",
       "4                0.308900                0.823645    0.805177  0.801575   \n",
       "...                   ...                     ...         ...       ...   \n",
       "7196             0.405591                0.075570    0.472746  0.533623   \n",
       "7197             0.599592                0.304294    0.407845  0.542823   \n",
       "7198             0.837007                0.266048    0.275627  0.418837   \n",
       "7199             0.294551                0.205715    0.671375  0.687895   \n",
       "7200             0.303201                0.357396    0.689381  0.707986   \n",
       "\n",
       "      motorcycle_perc  bicycle_perc  on_foot_perc  other_perc  car_perc  \n",
       "0            0.575936      0.686268      0.966821    0.624982  0.000000  \n",
       "1            0.704265      0.464110      0.322098    0.513816  0.823196  \n",
       "2            0.653394      0.396107      0.388434    0.505432  0.786408  \n",
       "3            0.743940      0.464247      0.426412    0.502136  0.839826  \n",
       "4            0.711271      0.493413      0.370187    0.307639  0.812594  \n",
       "...               ...           ...           ...         ...       ...  \n",
       "7196         0.663863      0.573050      0.524632    0.456895  0.957011  \n",
       "7197         0.582659      0.484430      0.279357    0.539044  0.966741  \n",
       "7198         0.618877      0.414390      0.278863    0.490967  0.930941  \n",
       "7199         0.426283      0.618911      0.716829    0.508853  0.884869  \n",
       "7200         0.343540      0.646606      0.818575    0.604600  0.820331  \n",
       "\n",
       "[7201 rows x 9 columns]"
      ]
     },
     "execution_count": 6,
     "metadata": {},
     "output_type": "execute_result"
    }
   ],
   "source": [
    "# drop non numeric columns\n",
    "yj.drop(['MSOA'], axis=1, inplace=True)\n",
    "yj"
   ]
  },
  {
   "cell_type": "markdown",
   "metadata": {},
   "source": [
    "## DBSCAN"
   ]
  },
  {
   "cell_type": "code",
   "execution_count": 7,
   "metadata": {},
   "outputs": [
    {
     "data": {
      "text/plain": [
       "array([[0.        , 0.19822901],\n",
       "       [0.        , 0.09056533],\n",
       "       [0.        , 0.05513228],\n",
       "       ...,\n",
       "       [0.        , 0.09599171],\n",
       "       [0.        , 0.18851133],\n",
       "       [0.        , 0.17826686]])"
      ]
     },
     "execution_count": 7,
     "metadata": {},
     "output_type": "execute_result"
    }
   ],
   "source": [
    "# We need to select the epsilon and min_smaples parameters\n",
    "\n",
    "# https://towardsdatascience.com/machine-learning-clustering-dbscan-determine-the-optimal-value-for-epsilon-eps-python-example-3100091cfbc\n",
    "# eps: Two points are considered neighbors if the distance between the two points is below the threshold epsilon.\n",
    "# min_samples: The minimum number of neighbors a given point should have in order to be classified as a core point. \n",
    "from sklearn import neighbors\n",
    "\n",
    "neigh = neighbors.NearestNeighbors(n_neighbors=2)\n",
    "nbrs = neigh.fit(yj)\n",
    "distances, indices = nbrs.kneighbors(yj)\n",
    "distances"
   ]
  },
  {
   "cell_type": "code",
   "execution_count": 8,
   "metadata": {},
   "outputs": [
    {
     "data": {
      "text/plain": [
       "[<matplotlib.lines.Line2D at 0x108f7c7b8>]"
      ]
     },
     "execution_count": 8,
     "metadata": {},
     "output_type": "execute_result"
    },
    {
     "data": {
      "image/png": "[encoded data removed]",
      "text/plain": [
       "<Figure size 432x288 with 1 Axes>"
      ]
     },
     "metadata": {
      "needs_background": "light"
     },
     "output_type": "display_data"
    }
   ],
   "source": [
    "# sort and plot the results\n",
    "distances = np.sort(distances, axis=0)\n",
    "distances = distances[:,1]\n",
    "plt.plot(distances)"
   ]
  },
  {
   "cell_type": "code",
   "execution_count": 9,
   "metadata": {},
   "outputs": [
    {
     "data": {
      "text/plain": [
       "DBSCAN(algorithm='auto', eps=0.2, leaf_size=30, metric='euclidean',\n",
       "       metric_params=None, min_samples=5, n_jobs=None, p=None)"
      ]
     },
     "execution_count": 9,
     "metadata": {},
     "output_type": "execute_result"
    }
   ],
   "source": [
    "# create DBSCAN cluster object\n",
    "\n",
    "# the eps is at the point of maximum curvature in the graph above\n",
    "dbscan = DBSCAN(eps=0.2, min_samples=5) \n",
    "\n",
    "#algorith to be used by the NearestNeighbors module to compute pointwise distance and find neighest neighbours - see NN module documentation\n",
    "# run the .fit() function on the scaled dataset\n",
    "dbscan.fit(yj) \n",
    "\n"
   ]
  },
  {
   "cell_type": "code",
   "execution_count": 10,
   "metadata": {},
   "outputs": [
    {
     "data": {
      "text/plain": [
       "3"
      ]
     },
     "execution_count": 10,
     "metadata": {},
     "output_type": "execute_result"
    }
   ],
   "source": [
    "#Get the labels from the clusters\n",
    "dbscan_labels = dbscan.labels_\n",
    "#dbscan_labels\n",
    "# to get number of clusters\n",
    "len(set(dbscan_labels)) - (1 if -1 in dbscan_labels else 0)"
   ]
  },
  {
   "cell_type": "code",
   "execution_count": 11,
   "metadata": {},
   "outputs": [
    {
     "data": {
      "text/plain": [
       "0.059738515545464936"
      ]
     },
     "execution_count": 11,
     "metadata": {},
     "output_type": "execute_result"
    }
   ],
   "source": [
    "#check the silhouette score\n",
    "# A silhouette score ranges from -1 to 1, with -1 being the worst score possible and 1 \n",
    "# being the best score. Silhouette scores of 0 suggest overlapping clusters.\n",
    "metrics.silhouette_score(yj, dbscan_labels)"
   ]
  },
  {
   "cell_type": "code",
   "execution_count": 12,
   "metadata": {},
   "outputs": [
    {
     "data": {
      "text/plain": [
       " 0    6948\n",
       "-1     246\n",
       " 1       4\n",
       " 2       3\n",
       "Name: label, dtype: int64"
      ]
     },
     "execution_count": 12,
     "metadata": {},
     "output_type": "execute_result"
    }
   ],
   "source": [
    "#assign the labels to the original dataframe\n",
    "yj_range_DB =yj.assign(label = dbscan_labels)\n",
    "\n",
    "#and check the value counts\n",
    "yj_range_DB.label.value_counts()"
   ]
  },
  {
   "cell_type": "code",
   "execution_count": 13,
   "metadata": {},
   "outputs": [],
   "source": [
    "# re-insert MSOA column\n",
    "yj_range_DB =pd.concat([MSOA, yj_range_DB], axis='columns')\n",
    "#save to csv\n",
    "yj_range_DB.to_csv('Data/Clustering_Results/log_range_st_DBSCAN.csv')"
   ]
  },
  {
   "cell_type": "markdown",
   "metadata": {},
   "source": [
    "## kmeans clustering"
   ]
  },
  {
   "cell_type": "code",
   "execution_count": 14,
   "metadata": {},
   "outputs": [
    {
     "data": {
      "image/png": "[encoded data removed]",
      "text/plain": [
       "<Figure size 432x288 with 1 Axes>"
      ]
     },
     "metadata": {
      "needs_background": "light"
     },
     "output_type": "display_data"
    }
   ],
   "source": [
    "#elbow plot over multiple k's\n",
    "\n",
    "#calculate SSE for a range of number of cluster\n",
    "\n",
    "list_SSE = []\n",
    "min_k = 1\n",
    "max_k = 10\n",
    "range_k = range(min_k, max_k+1)\n",
    "for i in range_k:\n",
    "    km = KMeans(\n",
    "        n_clusters=i, init='random',\n",
    "        n_init=10, max_iter=300,\n",
    "        tol=1e-04, random_state=0\n",
    "    )\n",
    "    km.fit(yj)\n",
    "    # inertia is a concept in physics. Roughly it means SSE of clustering.\n",
    "    list_SSE.append(km.inertia_)\n",
    "\n",
    "# plot\n",
    "plt.plot(range_k, list_SSE, marker='o')\n",
    "plt.xlabel('Number of clusters')\n",
    "plt.ylabel('SSE')\n",
    "plt.show()"
   ]
  },
  {
   "cell_type": "code",
   "execution_count": 15,
   "metadata": {},
   "outputs": [],
   "source": [
    "#set the number of clusters to explore\n",
    "k_cluster = 3\n",
    "#set the random seed\n",
    "random_seed = 1\n",
    "#random state: int, default = None\n",
    "#determines random number generation for ecntroid intialisation, use an int to make the randomness deterministic"
   ]
  },
  {
   "cell_type": "code",
   "execution_count": 16,
   "metadata": {},
   "outputs": [
    {
     "data": {
      "text/plain": [
       "KMeans(algorithm='auto', copy_x=True, init='k-means++', max_iter=300,\n",
       "       n_clusters=3, n_init=10, n_jobs=None, precompute_distances='auto',\n",
       "       random_state=1, tol=0.0001, verbose=0)"
      ]
     },
     "execution_count": 16,
     "metadata": {},
     "output_type": "execute_result"
    }
   ],
   "source": [
    "#get the method for kmeans\n",
    "kmeans_method = KMeans(n_clusters=k_cluster,random_state=random_seed)\n",
    "#apply the fit to the scaled dataset\n",
    "kmeans_method.fit(yj)"
   ]
  },
  {
   "cell_type": "code",
   "execution_count": 17,
   "metadata": {},
   "outputs": [],
   "source": [
    "#assign the labels to original databse\n",
    "yj_range_kmeans = yj.assign(label = kmeans_method.labels_)"
   ]
  },
  {
   "cell_type": "code",
   "execution_count": 18,
   "metadata": {},
   "outputs": [],
   "source": [
    "# re-insert MSOA column\n",
    "yj_range_kmeans =pd.concat([MSOA, yj_range_kmeans], axis='columns')\n",
    "#save to csv\n",
    "yj_range_kmeans.to_csv('Data/Clustering_Results/log_range_st_kmeans.csv')"
   ]
  },
  {
   "cell_type": "code",
   "execution_count": 19,
   "metadata": {},
   "outputs": [],
   "source": [
    "# #silhouette score over multiple k's\n",
    "\n",
    "# #empty array to hold the silhouette scores\n",
    "# silhouette = []\n",
    "\n",
    "# #iterate over the number of clusters from 2 to 10\n",
    "# for i in range(2, 10):\n",
    "#     #create an empty array to store the average\n",
    "#     average = []\n",
    "#     #repeat the kmeans clustering 10 times\n",
    "#     for x in range(1, 10):\n",
    "#         #setting the number of clusters as i\n",
    "#         k_cluster = i\n",
    "#         #create a random integer for the random seed\n",
    "#         random_seed = random.randint(1,101)\n",
    "#         #run the kmeans analysis\n",
    "#         kmeans_method = KMeans(n_clusters=k_cluster,random_state=random_seed)\n",
    "#         #fit it to the scaled dataset\n",
    "#         kmeans_method.fit(yj)\n",
    "#         #get the labels\n",
    "#         labels = kmeans_method.labels_\n",
    "#         #get the silhouette score\n",
    "#         a = metrics.silhouette_score(yj, labels)\n",
    "#         #append it to the average list\n",
    "#         average.append(a)\n",
    "#     #get the silhouette score and append it to the silhouette \n",
    "#     silhouette.append(sum(average)/len(average))\n",
    "    \n",
    "# #plot the silhouette score\n",
    "# plt.plot(silhouette)"
   ]
  },
  {
   "cell_type": "markdown",
   "metadata": {},
   "source": [
    "## Agglomerative clustering"
   ]
  },
  {
   "cell_type": "code",
   "execution_count": 20,
   "metadata": {},
   "outputs": [
    {
     "data": {
      "text/plain": [
       "AgglomerativeClustering(affinity='euclidean', compute_full_tree='auto',\n",
       "                        connectivity=None, distance_threshold=None,\n",
       "                        linkage='ward', memory=None, n_clusters=3,\n",
       "                        pooling_func='deprecated')"
      ]
     },
     "execution_count": 20,
     "metadata": {},
     "output_type": "execute_result"
    }
   ],
   "source": [
    "#set the number of clusters expected (from elbow diagram in kmeans part)\n",
    "n_clusters = 3\n",
    "\n",
    "#get the hierarchy method\n",
    "hierarchy = AgglomerativeClustering(n_clusters = n_clusters)\n",
    "\n",
    "#fit it to the data\n",
    "hierarchy.fit(yj)"
   ]
  },
  {
   "cell_type": "code",
   "execution_count": 21,
   "metadata": {},
   "outputs": [],
   "source": [
    "#assign labels to the original data\n",
    "yj_range_hierarchy = yj.assign(label = hierarchy.labels_)"
   ]
  },
  {
   "cell_type": "code",
   "execution_count": 22,
   "metadata": {},
   "outputs": [
    {
     "data": {
      "text/plain": [
       "0.2010209330048266"
      ]
     },
     "execution_count": 22,
     "metadata": {},
     "output_type": "execute_result"
    }
   ],
   "source": [
    "hierarchy_labels = hierarchy.labels_\n",
    "\n",
    "#check the silhouette score\n",
    "metrics.silhouette_score(yj, hierarchy_labels)"
   ]
  },
  {
   "cell_type": "code",
   "execution_count": 23,
   "metadata": {},
   "outputs": [],
   "source": [
    "# re-insert MSOA column\n",
    "yj_range_hierarchy =pd.concat([MSOA, yj_range_hierarchy], axis='columns')\n",
    "#save to csv\n",
    "yj_range_hierarchy.to_csv('Data/Clustering_Results/log_range_st_heirarchy.csv')"
   ]
  },
  {
   "cell_type": "code",
   "execution_count": null,
   "metadata": {},
   "outputs": [],
   "source": []
  }
 ],
 "metadata": {
  "kernelspec": {
   "display_name": "Python 3",
   "language": "python",
   "name": "python3"
  },
  "language_info": {
   "codemirror_mode": {
    "name": "ipython",
    "version": 3
   },
   "file_extension": ".py",
   "mimetype": "text/x-python",
   "name": "python",
   "nbconvert_exporter": "python",
   "pygments_lexer": "ipython3",
   "version": "3.7.1"
  }
 },
 "nbformat": 4,
 "nbformat_minor": 2
}
