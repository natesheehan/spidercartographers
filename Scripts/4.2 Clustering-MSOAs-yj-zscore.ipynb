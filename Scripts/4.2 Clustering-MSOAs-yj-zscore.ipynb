{
 "cells": [
  {
   "cell_type": "markdown",
   "metadata": {},
   "source": [
    "## clustering python notebook"
   ]
  },
  {
   "cell_type": "code",
   "execution_count": 1,
   "metadata": {},
   "outputs": [
    {
     "data": {
      "text/plain": [
       "'/Users/Hussein/Documents/Code Repos/spidercartographers/Scripts'"
      ]
     },
     "execution_count": 1,
     "metadata": {},
     "output_type": "execute_result"
    }
   ],
   "source": [
    "import os \n",
    "os.getcwd()"
   ]
  },
  {
   "cell_type": "code",
   "execution_count": 2,
   "metadata": {},
   "outputs": [],
   "source": [
    "# importing libraries required\n",
    "import pandas as pd\n",
    "import plotly.express as px\n",
    "import sklearn.preprocessing as preprocessing\n",
    "from sklearn.cluster import DBSCAN\n",
    "from sklearn import metrics\n",
    "from sklearn.cluster import KMeans\n",
    "import matplotlib.pyplot as plt\n",
    "import random\n",
    "from sklearn.cluster import AgglomerativeClustering\n",
    "from sklearn import neighbors\n",
    "import numpy as np\n",
    "\n",
    "# run this command too - just to allow more data to be displayed than default\n",
    "pd.set_option('display.max_rows', 200)\n",
    "# this one ensures graphs properly display in the notebook\n",
    "%matplotlib inline"
   ]
  },
  {
   "cell_type": "code",
   "execution_count": 3,
   "metadata": {
    "scrolled": true
   },
   "outputs": [
    {
     "data": {
      "text/html": [
       "<div>\n",
       "<style scoped>\n",
       "    .dataframe tbody tr th:only-of-type {\n",
       "        vertical-align: middle;\n",
       "    }\n",
       "\n",
       "    .dataframe tbody tr th {\n",
       "        vertical-align: top;\n",
       "    }\n",
       "\n",
       "    .dataframe thead th {\n",
       "        text-align: right;\n",
       "    }\n",
       "</style>\n",
       "<table border=\"1\" class=\"dataframe\">\n",
       "  <thead>\n",
       "    <tr style=\"text-align: right;\">\n",
       "      <th></th>\n",
       "      <th>Unnamed: 0</th>\n",
       "      <th>MSOA</th>\n",
       "      <th>yj_HH_owning_cars_perc</th>\n",
       "      <th>yj_work_from_home_perc</th>\n",
       "      <th>yj_underground_metro_perc</th>\n",
       "      <th>yj_train_perc</th>\n",
       "      <th>yj_bus_perc</th>\n",
       "      <th>yj_bicycle_perc</th>\n",
       "      <th>yj_on_foot_perc</th>\n",
       "      <th>yj_avg_time_from_origin_car_UNWEIGHTED</th>\n",
       "      <th>yj_avg_time_car</th>\n",
       "      <th>yj_avg_time_from_origin_bus_UNWEIGHTED</th>\n",
       "      <th>yj_avg_time_bus</th>\n",
       "      <th>yj_avg_time_from_origin_rail_UNWEIGHTED</th>\n",
       "      <th>yj_avg_time_rail</th>\n",
       "      <th>yj_car_perc</th>\n",
       "    </tr>\n",
       "  </thead>\n",
       "  <tbody>\n",
       "    <tr>\n",
       "      <th>0</th>\n",
       "      <td>0</td>\n",
       "      <td>E02000001</td>\n",
       "      <td>-2.078686</td>\n",
       "      <td>1.094545</td>\n",
       "      <td>1.965725</td>\n",
       "      <td>0.756826</td>\n",
       "      <td>0.058967</td>\n",
       "      <td>1.275285</td>\n",
       "      <td>2.541451</td>\n",
       "      <td>NaN</td>\n",
       "      <td>1.481788</td>\n",
       "      <td>NaN</td>\n",
       "      <td>-1.337881</td>\n",
       "      <td>NaN</td>\n",
       "      <td>-0.941110</td>\n",
       "      <td>-2.112126</td>\n",
       "    </tr>\n",
       "    <tr>\n",
       "      <th>1</th>\n",
       "      <td>1</td>\n",
       "      <td>E02000002</td>\n",
       "      <td>-1.009171</td>\n",
       "      <td>-1.009040</td>\n",
       "      <td>1.957405</td>\n",
       "      <td>1.108707</td>\n",
       "      <td>1.222531</td>\n",
       "      <td>-0.534930</td>\n",
       "      <td>-0.984309</td>\n",
       "      <td>NaN</td>\n",
       "      <td>-0.456789</td>\n",
       "      <td>NaN</td>\n",
       "      <td>0.386653</td>\n",
       "      <td>NaN</td>\n",
       "      <td>-0.443501</td>\n",
       "      <td>-1.111678</td>\n",
       "    </tr>\n",
       "    <tr>\n",
       "      <th>2</th>\n",
       "      <td>2</td>\n",
       "      <td>E02000003</td>\n",
       "      <td>-0.623687</td>\n",
       "      <td>-0.780242</td>\n",
       "      <td>1.943847</td>\n",
       "      <td>1.734370</td>\n",
       "      <td>0.828451</td>\n",
       "      <td>-1.106924</td>\n",
       "      <td>-0.540533</td>\n",
       "      <td>NaN</td>\n",
       "      <td>-0.760907</td>\n",
       "      <td>NaN</td>\n",
       "      <td>0.414225</td>\n",
       "      <td>NaN</td>\n",
       "      <td>-0.445279</td>\n",
       "      <td>-1.374803</td>\n",
       "    </tr>\n",
       "    <tr>\n",
       "      <th>3</th>\n",
       "      <td>3</td>\n",
       "      <td>E02000004</td>\n",
       "      <td>-0.106580</td>\n",
       "      <td>-1.025167</td>\n",
       "      <td>1.923226</td>\n",
       "      <td>1.495577</td>\n",
       "      <td>0.753078</td>\n",
       "      <td>-0.533747</td>\n",
       "      <td>-0.292659</td>\n",
       "      <td>NaN</td>\n",
       "      <td>-0.555122</td>\n",
       "      <td>NaN</td>\n",
       "      <td>-0.237495</td>\n",
       "      <td>NaN</td>\n",
       "      <td>-0.514662</td>\n",
       "      <td>-0.963451</td>\n",
       "    </tr>\n",
       "    <tr>\n",
       "      <th>4</th>\n",
       "      <td>4</td>\n",
       "      <td>E02000005</td>\n",
       "      <td>-0.796578</td>\n",
       "      <td>-1.065720</td>\n",
       "      <td>1.941546</td>\n",
       "      <td>1.416714</td>\n",
       "      <td>1.250196</td>\n",
       "      <td>-0.280787</td>\n",
       "      <td>-0.661333</td>\n",
       "      <td>NaN</td>\n",
       "      <td>-0.998789</td>\n",
       "      <td>NaN</td>\n",
       "      <td>0.135678</td>\n",
       "      <td>NaN</td>\n",
       "      <td>-0.484465</td>\n",
       "      <td>-1.195965</td>\n",
       "    </tr>\n",
       "    <tr>\n",
       "      <th>...</th>\n",
       "      <td>...</td>\n",
       "      <td>...</td>\n",
       "      <td>...</td>\n",
       "      <td>...</td>\n",
       "      <td>...</td>\n",
       "      <td>...</td>\n",
       "      <td>...</td>\n",
       "      <td>...</td>\n",
       "      <td>...</td>\n",
       "      <td>...</td>\n",
       "      <td>...</td>\n",
       "      <td>...</td>\n",
       "      <td>...</td>\n",
       "      <td>...</td>\n",
       "      <td>...</td>\n",
       "      <td>...</td>\n",
       "    </tr>\n",
       "    <tr>\n",
       "      <th>7196</th>\n",
       "      <td>7196</td>\n",
       "      <td>W02000419</td>\n",
       "      <td>0.101249</td>\n",
       "      <td>-0.322619</td>\n",
       "      <td>-0.929960</td>\n",
       "      <td>-0.612976</td>\n",
       "      <td>-0.491386</td>\n",
       "      <td>0.402422</td>\n",
       "      <td>0.322708</td>\n",
       "      <td>NaN</td>\n",
       "      <td>-0.265651</td>\n",
       "      <td>NaN</td>\n",
       "      <td>-1.214749</td>\n",
       "      <td>NaN</td>\n",
       "      <td>1.738647</td>\n",
       "      <td>0.938470</td>\n",
       "    </tr>\n",
       "    <tr>\n",
       "      <th>7197</th>\n",
       "      <td>7197</td>\n",
       "      <td>W02000420</td>\n",
       "      <td>1.144891</td>\n",
       "      <td>0.902061</td>\n",
       "      <td>-0.445428</td>\n",
       "      <td>-0.998451</td>\n",
       "      <td>-0.435735</td>\n",
       "      <td>-0.358857</td>\n",
       "      <td>-1.275943</td>\n",
       "      <td>NaN</td>\n",
       "      <td>1.011251</td>\n",
       "      <td>NaN</td>\n",
       "      <td>-0.349478</td>\n",
       "      <td>NaN</td>\n",
       "      <td>1.220594</td>\n",
       "      <td>1.196903</td>\n",
       "    </tr>\n",
       "    <tr>\n",
       "      <th>7198</th>\n",
       "      <td>7198</td>\n",
       "      <td>W02000421</td>\n",
       "      <td>1.093962</td>\n",
       "      <td>1.984056</td>\n",
       "      <td>-0.587092</td>\n",
       "      <td>-1.603167</td>\n",
       "      <td>-1.136411</td>\n",
       "      <td>-0.957006</td>\n",
       "      <td>-1.279329</td>\n",
       "      <td>NaN</td>\n",
       "      <td>1.948483</td>\n",
       "      <td>NaN</td>\n",
       "      <td>1.184156</td>\n",
       "      <td>NaN</td>\n",
       "      <td>2.020649</td>\n",
       "      <td>0.341567</td>\n",
       "    </tr>\n",
       "    <tr>\n",
       "      <th>7199</th>\n",
       "      <td>7199</td>\n",
       "      <td>W02000422</td>\n",
       "      <td>0.433334</td>\n",
       "      <td>-1.183888</td>\n",
       "      <td>-0.749961</td>\n",
       "      <td>0.675719</td>\n",
       "      <td>0.491015</td>\n",
       "      <td>0.775006</td>\n",
       "      <td>1.401139</td>\n",
       "      <td>NaN</td>\n",
       "      <td>0.601903</td>\n",
       "      <td>NaN</td>\n",
       "      <td>-1.476719</td>\n",
       "      <td>NaN</td>\n",
       "      <td>1.482596</td>\n",
       "      <td>-0.441150</td>\n",
       "    </tr>\n",
       "    <tr>\n",
       "      <th>7200</th>\n",
       "      <td>7200</td>\n",
       "      <td>W02000423</td>\n",
       "      <td>-0.993786</td>\n",
       "      <td>-1.112405</td>\n",
       "      <td>-0.191294</td>\n",
       "      <td>0.785260</td>\n",
       "      <td>0.624175</td>\n",
       "      <td>0.988226</td>\n",
       "      <td>1.900336</td>\n",
       "      <td>NaN</td>\n",
       "      <td>0.577961</td>\n",
       "      <td>NaN</td>\n",
       "      <td>-0.130780</td>\n",
       "      <td>NaN</td>\n",
       "      <td>0.625038</td>\n",
       "      <td>-1.135195</td>\n",
       "    </tr>\n",
       "  </tbody>\n",
       "</table>\n",
       "<p>7201 rows × 16 columns</p>\n",
       "</div>"
      ],
      "text/plain": [
       "      Unnamed: 0       MSOA  yj_HH_owning_cars_perc  yj_work_from_home_perc  \\\n",
       "0              0  E02000001               -2.078686                1.094545   \n",
       "1              1  E02000002               -1.009171               -1.009040   \n",
       "2              2  E02000003               -0.623687               -0.780242   \n",
       "3              3  E02000004               -0.106580               -1.025167   \n",
       "4              4  E02000005               -0.796578               -1.065720   \n",
       "...          ...        ...                     ...                     ...   \n",
       "7196        7196  W02000419                0.101249               -0.322619   \n",
       "7197        7197  W02000420                1.144891                0.902061   \n",
       "7198        7198  W02000421                1.093962                1.984056   \n",
       "7199        7199  W02000422                0.433334               -1.183888   \n",
       "7200        7200  W02000423               -0.993786               -1.112405   \n",
       "\n",
       "      yj_underground_metro_perc  yj_train_perc  yj_bus_perc  yj_bicycle_perc  \\\n",
       "0                      1.965725       0.756826     0.058967         1.275285   \n",
       "1                      1.957405       1.108707     1.222531        -0.534930   \n",
       "2                      1.943847       1.734370     0.828451        -1.106924   \n",
       "3                      1.923226       1.495577     0.753078        -0.533747   \n",
       "4                      1.941546       1.416714     1.250196        -0.280787   \n",
       "...                         ...            ...          ...              ...   \n",
       "7196                  -0.929960      -0.612976    -0.491386         0.402422   \n",
       "7197                  -0.445428      -0.998451    -0.435735        -0.358857   \n",
       "7198                  -0.587092      -1.603167    -1.136411        -0.957006   \n",
       "7199                  -0.749961       0.675719     0.491015         0.775006   \n",
       "7200                  -0.191294       0.785260     0.624175         0.988226   \n",
       "\n",
       "      yj_on_foot_perc  yj_avg_time_from_origin_car_UNWEIGHTED  \\\n",
       "0            2.541451                                     NaN   \n",
       "1           -0.984309                                     NaN   \n",
       "2           -0.540533                                     NaN   \n",
       "3           -0.292659                                     NaN   \n",
       "4           -0.661333                                     NaN   \n",
       "...               ...                                     ...   \n",
       "7196         0.322708                                     NaN   \n",
       "7197        -1.275943                                     NaN   \n",
       "7198        -1.279329                                     NaN   \n",
       "7199         1.401139                                     NaN   \n",
       "7200         1.900336                                     NaN   \n",
       "\n",
       "      yj_avg_time_car  yj_avg_time_from_origin_bus_UNWEIGHTED  \\\n",
       "0            1.481788                                     NaN   \n",
       "1           -0.456789                                     NaN   \n",
       "2           -0.760907                                     NaN   \n",
       "3           -0.555122                                     NaN   \n",
       "4           -0.998789                                     NaN   \n",
       "...               ...                                     ...   \n",
       "7196        -0.265651                                     NaN   \n",
       "7197         1.011251                                     NaN   \n",
       "7198         1.948483                                     NaN   \n",
       "7199         0.601903                                     NaN   \n",
       "7200         0.577961                                     NaN   \n",
       "\n",
       "      yj_avg_time_bus  yj_avg_time_from_origin_rail_UNWEIGHTED  \\\n",
       "0           -1.337881                                      NaN   \n",
       "1            0.386653                                      NaN   \n",
       "2            0.414225                                      NaN   \n",
       "3           -0.237495                                      NaN   \n",
       "4            0.135678                                      NaN   \n",
       "...               ...                                      ...   \n",
       "7196        -1.214749                                      NaN   \n",
       "7197        -0.349478                                      NaN   \n",
       "7198         1.184156                                      NaN   \n",
       "7199        -1.476719                                      NaN   \n",
       "7200        -0.130780                                      NaN   \n",
       "\n",
       "      yj_avg_time_rail  yj_car_perc  \n",
       "0            -0.941110    -2.112126  \n",
       "1            -0.443501    -1.111678  \n",
       "2            -0.445279    -1.374803  \n",
       "3            -0.514662    -0.963451  \n",
       "4            -0.484465    -1.195965  \n",
       "...                ...          ...  \n",
       "7196          1.738647     0.938470  \n",
       "7197          1.220594     1.196903  \n",
       "7198          2.020649     0.341567  \n",
       "7199          1.482596    -0.441150  \n",
       "7200          0.625038    -1.135195  \n",
       "\n",
       "[7201 rows x 16 columns]"
      ]
     },
     "execution_count": 3,
     "metadata": {},
     "output_type": "execute_result"
    }
   ],
   "source": [
    "#put the data into a dataframe\n",
    "yj = pd.read_csv('Data/yeojohnson_zscore_st.csv')\n",
    "#check that is has been read correctly\n",
    "yj"
   ]
  },
  {
   "cell_type": "code",
   "execution_count": 4,
   "metadata": {},
   "outputs": [],
   "source": [
    "# store MSOA column \n",
    "MSOA = yj[['MSOA']]"
   ]
  },
  {
   "cell_type": "code",
   "execution_count": 5,
   "metadata": {
    "scrolled": true
   },
   "outputs": [
    {
     "data": {
      "text/html": [
       "<div>\n",
       "<style scoped>\n",
       "    .dataframe tbody tr th:only-of-type {\n",
       "        vertical-align: middle;\n",
       "    }\n",
       "\n",
       "    .dataframe tbody tr th {\n",
       "        vertical-align: top;\n",
       "    }\n",
       "\n",
       "    .dataframe thead th {\n",
       "        text-align: right;\n",
       "    }\n",
       "</style>\n",
       "<table border=\"1\" class=\"dataframe\">\n",
       "  <thead>\n",
       "    <tr style=\"text-align: right;\">\n",
       "      <th></th>\n",
       "      <th>yj_HH_owning_cars_perc</th>\n",
       "      <th>yj_work_from_home_perc</th>\n",
       "      <th>yj_underground_metro_perc</th>\n",
       "      <th>yj_train_perc</th>\n",
       "      <th>yj_bus_perc</th>\n",
       "      <th>yj_bicycle_perc</th>\n",
       "      <th>yj_on_foot_perc</th>\n",
       "      <th>yj_avg_time_from_origin_car_UNWEIGHTED</th>\n",
       "      <th>yj_avg_time_car</th>\n",
       "      <th>yj_avg_time_from_origin_bus_UNWEIGHTED</th>\n",
       "      <th>yj_avg_time_bus</th>\n",
       "      <th>yj_avg_time_from_origin_rail_UNWEIGHTED</th>\n",
       "      <th>yj_avg_time_rail</th>\n",
       "      <th>yj_car_perc</th>\n",
       "    </tr>\n",
       "  </thead>\n",
       "  <tbody>\n",
       "    <tr>\n",
       "      <th>0</th>\n",
       "      <td>-2.078686</td>\n",
       "      <td>1.094545</td>\n",
       "      <td>1.965725</td>\n",
       "      <td>0.756826</td>\n",
       "      <td>0.058967</td>\n",
       "      <td>1.275285</td>\n",
       "      <td>2.541451</td>\n",
       "      <td>NaN</td>\n",
       "      <td>1.481788</td>\n",
       "      <td>NaN</td>\n",
       "      <td>-1.337881</td>\n",
       "      <td>NaN</td>\n",
       "      <td>-0.941110</td>\n",
       "      <td>-2.112126</td>\n",
       "    </tr>\n",
       "    <tr>\n",
       "      <th>1</th>\n",
       "      <td>-1.009171</td>\n",
       "      <td>-1.009040</td>\n",
       "      <td>1.957405</td>\n",
       "      <td>1.108707</td>\n",
       "      <td>1.222531</td>\n",
       "      <td>-0.534930</td>\n",
       "      <td>-0.984309</td>\n",
       "      <td>NaN</td>\n",
       "      <td>-0.456789</td>\n",
       "      <td>NaN</td>\n",
       "      <td>0.386653</td>\n",
       "      <td>NaN</td>\n",
       "      <td>-0.443501</td>\n",
       "      <td>-1.111678</td>\n",
       "    </tr>\n",
       "    <tr>\n",
       "      <th>2</th>\n",
       "      <td>-0.623687</td>\n",
       "      <td>-0.780242</td>\n",
       "      <td>1.943847</td>\n",
       "      <td>1.734370</td>\n",
       "      <td>0.828451</td>\n",
       "      <td>-1.106924</td>\n",
       "      <td>-0.540533</td>\n",
       "      <td>NaN</td>\n",
       "      <td>-0.760907</td>\n",
       "      <td>NaN</td>\n",
       "      <td>0.414225</td>\n",
       "      <td>NaN</td>\n",
       "      <td>-0.445279</td>\n",
       "      <td>-1.374803</td>\n",
       "    </tr>\n",
       "    <tr>\n",
       "      <th>3</th>\n",
       "      <td>-0.106580</td>\n",
       "      <td>-1.025167</td>\n",
       "      <td>1.923226</td>\n",
       "      <td>1.495577</td>\n",
       "      <td>0.753078</td>\n",
       "      <td>-0.533747</td>\n",
       "      <td>-0.292659</td>\n",
       "      <td>NaN</td>\n",
       "      <td>-0.555122</td>\n",
       "      <td>NaN</td>\n",
       "      <td>-0.237495</td>\n",
       "      <td>NaN</td>\n",
       "      <td>-0.514662</td>\n",
       "      <td>-0.963451</td>\n",
       "    </tr>\n",
       "    <tr>\n",
       "      <th>4</th>\n",
       "      <td>-0.796578</td>\n",
       "      <td>-1.065720</td>\n",
       "      <td>1.941546</td>\n",
       "      <td>1.416714</td>\n",
       "      <td>1.250196</td>\n",
       "      <td>-0.280787</td>\n",
       "      <td>-0.661333</td>\n",
       "      <td>NaN</td>\n",
       "      <td>-0.998789</td>\n",
       "      <td>NaN</td>\n",
       "      <td>0.135678</td>\n",
       "      <td>NaN</td>\n",
       "      <td>-0.484465</td>\n",
       "      <td>-1.195965</td>\n",
       "    </tr>\n",
       "    <tr>\n",
       "      <th>...</th>\n",
       "      <td>...</td>\n",
       "      <td>...</td>\n",
       "      <td>...</td>\n",
       "      <td>...</td>\n",
       "      <td>...</td>\n",
       "      <td>...</td>\n",
       "      <td>...</td>\n",
       "      <td>...</td>\n",
       "      <td>...</td>\n",
       "      <td>...</td>\n",
       "      <td>...</td>\n",
       "      <td>...</td>\n",
       "      <td>...</td>\n",
       "      <td>...</td>\n",
       "    </tr>\n",
       "    <tr>\n",
       "      <th>7196</th>\n",
       "      <td>0.101249</td>\n",
       "      <td>-0.322619</td>\n",
       "      <td>-0.929960</td>\n",
       "      <td>-0.612976</td>\n",
       "      <td>-0.491386</td>\n",
       "      <td>0.402422</td>\n",
       "      <td>0.322708</td>\n",
       "      <td>NaN</td>\n",
       "      <td>-0.265651</td>\n",
       "      <td>NaN</td>\n",
       "      <td>-1.214749</td>\n",
       "      <td>NaN</td>\n",
       "      <td>1.738647</td>\n",
       "      <td>0.938470</td>\n",
       "    </tr>\n",
       "    <tr>\n",
       "      <th>7197</th>\n",
       "      <td>1.144891</td>\n",
       "      <td>0.902061</td>\n",
       "      <td>-0.445428</td>\n",
       "      <td>-0.998451</td>\n",
       "      <td>-0.435735</td>\n",
       "      <td>-0.358857</td>\n",
       "      <td>-1.275943</td>\n",
       "      <td>NaN</td>\n",
       "      <td>1.011251</td>\n",
       "      <td>NaN</td>\n",
       "      <td>-0.349478</td>\n",
       "      <td>NaN</td>\n",
       "      <td>1.220594</td>\n",
       "      <td>1.196903</td>\n",
       "    </tr>\n",
       "    <tr>\n",
       "      <th>7198</th>\n",
       "      <td>1.093962</td>\n",
       "      <td>1.984056</td>\n",
       "      <td>-0.587092</td>\n",
       "      <td>-1.603167</td>\n",
       "      <td>-1.136411</td>\n",
       "      <td>-0.957006</td>\n",
       "      <td>-1.279329</td>\n",
       "      <td>NaN</td>\n",
       "      <td>1.948483</td>\n",
       "      <td>NaN</td>\n",
       "      <td>1.184156</td>\n",
       "      <td>NaN</td>\n",
       "      <td>2.020649</td>\n",
       "      <td>0.341567</td>\n",
       "    </tr>\n",
       "    <tr>\n",
       "      <th>7199</th>\n",
       "      <td>0.433334</td>\n",
       "      <td>-1.183888</td>\n",
       "      <td>-0.749961</td>\n",
       "      <td>0.675719</td>\n",
       "      <td>0.491015</td>\n",
       "      <td>0.775006</td>\n",
       "      <td>1.401139</td>\n",
       "      <td>NaN</td>\n",
       "      <td>0.601903</td>\n",
       "      <td>NaN</td>\n",
       "      <td>-1.476719</td>\n",
       "      <td>NaN</td>\n",
       "      <td>1.482596</td>\n",
       "      <td>-0.441150</td>\n",
       "    </tr>\n",
       "    <tr>\n",
       "      <th>7200</th>\n",
       "      <td>-0.993786</td>\n",
       "      <td>-1.112405</td>\n",
       "      <td>-0.191294</td>\n",
       "      <td>0.785260</td>\n",
       "      <td>0.624175</td>\n",
       "      <td>0.988226</td>\n",
       "      <td>1.900336</td>\n",
       "      <td>NaN</td>\n",
       "      <td>0.577961</td>\n",
       "      <td>NaN</td>\n",
       "      <td>-0.130780</td>\n",
       "      <td>NaN</td>\n",
       "      <td>0.625038</td>\n",
       "      <td>-1.135195</td>\n",
       "    </tr>\n",
       "  </tbody>\n",
       "</table>\n",
       "<p>7201 rows × 14 columns</p>\n",
       "</div>"
      ],
      "text/plain": [
       "      yj_HH_owning_cars_perc  yj_work_from_home_perc  \\\n",
       "0                  -2.078686                1.094545   \n",
       "1                  -1.009171               -1.009040   \n",
       "2                  -0.623687               -0.780242   \n",
       "3                  -0.106580               -1.025167   \n",
       "4                  -0.796578               -1.065720   \n",
       "...                      ...                     ...   \n",
       "7196                0.101249               -0.322619   \n",
       "7197                1.144891                0.902061   \n",
       "7198                1.093962                1.984056   \n",
       "7199                0.433334               -1.183888   \n",
       "7200               -0.993786               -1.112405   \n",
       "\n",
       "      yj_underground_metro_perc  yj_train_perc  yj_bus_perc  yj_bicycle_perc  \\\n",
       "0                      1.965725       0.756826     0.058967         1.275285   \n",
       "1                      1.957405       1.108707     1.222531        -0.534930   \n",
       "2                      1.943847       1.734370     0.828451        -1.106924   \n",
       "3                      1.923226       1.495577     0.753078        -0.533747   \n",
       "4                      1.941546       1.416714     1.250196        -0.280787   \n",
       "...                         ...            ...          ...              ...   \n",
       "7196                  -0.929960      -0.612976    -0.491386         0.402422   \n",
       "7197                  -0.445428      -0.998451    -0.435735        -0.358857   \n",
       "7198                  -0.587092      -1.603167    -1.136411        -0.957006   \n",
       "7199                  -0.749961       0.675719     0.491015         0.775006   \n",
       "7200                  -0.191294       0.785260     0.624175         0.988226   \n",
       "\n",
       "      yj_on_foot_perc  yj_avg_time_from_origin_car_UNWEIGHTED  \\\n",
       "0            2.541451                                     NaN   \n",
       "1           -0.984309                                     NaN   \n",
       "2           -0.540533                                     NaN   \n",
       "3           -0.292659                                     NaN   \n",
       "4           -0.661333                                     NaN   \n",
       "...               ...                                     ...   \n",
       "7196         0.322708                                     NaN   \n",
       "7197        -1.275943                                     NaN   \n",
       "7198        -1.279329                                     NaN   \n",
       "7199         1.401139                                     NaN   \n",
       "7200         1.900336                                     NaN   \n",
       "\n",
       "      yj_avg_time_car  yj_avg_time_from_origin_bus_UNWEIGHTED  \\\n",
       "0            1.481788                                     NaN   \n",
       "1           -0.456789                                     NaN   \n",
       "2           -0.760907                                     NaN   \n",
       "3           -0.555122                                     NaN   \n",
       "4           -0.998789                                     NaN   \n",
       "...               ...                                     ...   \n",
       "7196        -0.265651                                     NaN   \n",
       "7197         1.011251                                     NaN   \n",
       "7198         1.948483                                     NaN   \n",
       "7199         0.601903                                     NaN   \n",
       "7200         0.577961                                     NaN   \n",
       "\n",
       "      yj_avg_time_bus  yj_avg_time_from_origin_rail_UNWEIGHTED  \\\n",
       "0           -1.337881                                      NaN   \n",
       "1            0.386653                                      NaN   \n",
       "2            0.414225                                      NaN   \n",
       "3           -0.237495                                      NaN   \n",
       "4            0.135678                                      NaN   \n",
       "...               ...                                      ...   \n",
       "7196        -1.214749                                      NaN   \n",
       "7197        -0.349478                                      NaN   \n",
       "7198         1.184156                                      NaN   \n",
       "7199        -1.476719                                      NaN   \n",
       "7200        -0.130780                                      NaN   \n",
       "\n",
       "      yj_avg_time_rail  yj_car_perc  \n",
       "0            -0.941110    -2.112126  \n",
       "1            -0.443501    -1.111678  \n",
       "2            -0.445279    -1.374803  \n",
       "3            -0.514662    -0.963451  \n",
       "4            -0.484465    -1.195965  \n",
       "...                ...          ...  \n",
       "7196          1.738647     0.938470  \n",
       "7197          1.220594     1.196903  \n",
       "7198          2.020649     0.341567  \n",
       "7199          1.482596    -0.441150  \n",
       "7200          0.625038    -1.135195  \n",
       "\n",
       "[7201 rows x 14 columns]"
      ]
     },
     "execution_count": 5,
     "metadata": {},
     "output_type": "execute_result"
    }
   ],
   "source": [
    "# drop non numeric columns\n",
    "yj.drop(['Unnamed: 0', 'MSOA'], axis=1, inplace=True)\n",
    "yj"
   ]
  },
  {
   "cell_type": "code",
   "execution_count": 6,
   "metadata": {},
   "outputs": [
    {
     "data": {
      "text/plain": [
       "yj_HH_owning_cars_perc                        0\n",
       "yj_work_from_home_perc                        0\n",
       "yj_underground_metro_perc                     0\n",
       "yj_train_perc                                 0\n",
       "yj_bus_perc                                   0\n",
       "yj_bicycle_perc                               0\n",
       "yj_on_foot_perc                               0\n",
       "yj_avg_time_from_origin_car_UNWEIGHTED     7201\n",
       "yj_avg_time_car                               0\n",
       "yj_avg_time_from_origin_bus_UNWEIGHTED     7201\n",
       "yj_avg_time_bus                               0\n",
       "yj_avg_time_from_origin_rail_UNWEIGHTED    7201\n",
       "yj_avg_time_rail                              0\n",
       "yj_car_perc                                   0\n",
       "dtype: int64"
      ]
     },
     "execution_count": 6,
     "metadata": {},
     "output_type": "execute_result"
    }
   ],
   "source": [
    "yj.isna().sum() "
   ]
  },
  {
   "cell_type": "code",
   "execution_count": 7,
   "metadata": {},
   "outputs": [
    {
     "data": {
      "text/plain": [
       "yj_HH_owning_cars_perc       0\n",
       "yj_work_from_home_perc       0\n",
       "yj_underground_metro_perc    0\n",
       "yj_train_perc                0\n",
       "yj_bus_perc                  0\n",
       "yj_bicycle_perc              0\n",
       "yj_on_foot_perc              0\n",
       "yj_avg_time_car              0\n",
       "yj_avg_time_bus              0\n",
       "yj_avg_time_rail             0\n",
       "yj_car_perc                  0\n",
       "dtype: int64"
      ]
     },
     "execution_count": 7,
     "metadata": {},
     "output_type": "execute_result"
    }
   ],
   "source": [
    "# drop any columns with NA values\n",
    "yj.dropna(axis = 1, how = 'any', inplace = True)\n",
    "yj.isna().sum() "
   ]
  },
  {
   "cell_type": "markdown",
   "metadata": {},
   "source": [
    "## DBSCAN"
   ]
  },
  {
   "cell_type": "code",
   "execution_count": 8,
   "metadata": {},
   "outputs": [
    {
     "data": {
      "text/plain": [
       "array([[0.        , 1.07785402],\n",
       "       [0.        , 0.76684992],\n",
       "       [0.        , 0.57846521],\n",
       "       ...,\n",
       "       [0.        , 0.93122235],\n",
       "       [0.        , 1.49595531],\n",
       "       [0.        , 1.03029305]])"
      ]
     },
     "execution_count": 8,
     "metadata": {},
     "output_type": "execute_result"
    }
   ],
   "source": [
    "# We need to select the epsilon and min_smaples parameters\n",
    "\n",
    "# https://towardsdatascience.com/machine-learning-clustering-dbscan-determine-the-optimal-value-for-epsilon-eps-python-example-3100091cfbc\n",
    "# eps: Two points are considered neighbors if the distance between the two points is below the threshold epsilon.\n",
    "# min_samples: The minimum number of neighbors a given point should have in order to be classified as a core point. \n",
    "from sklearn import neighbors\n",
    "\n",
    "neigh = neighbors.NearestNeighbors(n_neighbors=2)\n",
    "nbrs = neigh.fit(yj)\n",
    "distances, indices = nbrs.kneighbors(yj)\n",
    "distances"
   ]
  },
  {
   "cell_type": "code",
   "execution_count": 9,
   "metadata": {},
   "outputs": [
    {
     "data": {
      "text/plain": [
       "[<matplotlib.lines.Line2D at 0x11f919940>]"
      ]
     },
     "execution_count": 9,
     "metadata": {},
     "output_type": "execute_result"
    },
    {
     "data": {
      "image/png": "[encoded data removed]",
      "text/plain": [
       "<Figure size 432x288 with 1 Axes>"
      ]
     },
     "metadata": {
      "needs_background": "light"
     },
     "output_type": "display_data"
    }
   ],
   "source": [
    "# sort and plot the results\n",
    "distances = np.sort(distances, axis=0)\n",
    "distances = distances[:,1]\n",
    "plt.plot(distances)"
   ]
  },
  {
   "cell_type": "code",
   "execution_count": 10,
   "metadata": {},
   "outputs": [
    {
     "data": {
      "text/plain": [
       "DBSCAN(algorithm='auto', eps=1.4, leaf_size=30, metric='euclidean',\n",
       "       metric_params=None, min_samples=5, n_jobs=None, p=None)"
      ]
     },
     "execution_count": 10,
     "metadata": {},
     "output_type": "execute_result"
    }
   ],
   "source": [
    "# create DBSCAN cluster object\n",
    "\n",
    "# the eps is at the point of maximum curvature in the graph above\n",
    "dbscan = DBSCAN(eps=1.4, min_samples=5) \n",
    "\n",
    "#algorith to be used by the NearestNeighbors module to compute pointwise distance and find neighest neighbours - see NN module documentation\n",
    "# run the .fit() function on the scaled dataset\n",
    "dbscan.fit(yj) \n",
    "\n"
   ]
  },
  {
   "cell_type": "code",
   "execution_count": 11,
   "metadata": {},
   "outputs": [
    {
     "data": {
      "text/plain": [
       "4"
      ]
     },
     "execution_count": 11,
     "metadata": {},
     "output_type": "execute_result"
    }
   ],
   "source": [
    "#Get the labels from the clusters\n",
    "dbscan_labels = dbscan.labels_\n",
    "#dbscan_labels\n",
    "# to get number of clusters\n",
    "len(set(dbscan_labels)) - (1 if -1 in dbscan_labels else 0)"
   ]
  },
  {
   "cell_type": "code",
   "execution_count": 12,
   "metadata": {},
   "outputs": [
    {
     "data": {
      "text/plain": [
       "-0.03533509512180161"
      ]
     },
     "execution_count": 12,
     "metadata": {},
     "output_type": "execute_result"
    }
   ],
   "source": [
    "#check the silhouette score\n",
    "# A silhouette score ranges from -1 to 1, with -1 being the worst score possible and 1 \n",
    "# being the best score. Silhouette scores of 0 suggest overlapping clusters.\n",
    "metrics.silhouette_score(yj, dbscan_labels)"
   ]
  },
  {
   "cell_type": "code",
   "execution_count": 13,
   "metadata": {},
   "outputs": [
    {
     "data": {
      "text/plain": [
       " 0    6627\n",
       "-1     556\n",
       " 2       8\n",
       " 3       5\n",
       " 1       5\n",
       "Name: label, dtype: int64"
      ]
     },
     "execution_count": 13,
     "metadata": {},
     "output_type": "execute_result"
    }
   ],
   "source": [
    "#assign the labels to the original dataframe\n",
    "yj_zscore_DB =yj.assign(label = dbscan_labels)\n",
    "\n",
    "#and check the value counts\n",
    "yj_zscore_DB.label.value_counts()"
   ]
  },
  {
   "cell_type": "code",
   "execution_count": 14,
   "metadata": {},
   "outputs": [],
   "source": [
    "# re-insert MSOA column\n",
    "yj_zscore_DB =pd.concat([MSOA, yj_zscore_DB], axis='columns')\n",
    "#save to csv\n",
    "yj_zscore_DB.to_csv('Data/Clustering_Results/yeojohnson_zscore_st_DBSCAN.csv')"
   ]
  },
  {
   "cell_type": "markdown",
   "metadata": {},
   "source": [
    "## kmeans clustering"
   ]
  },
  {
   "cell_type": "code",
   "execution_count": 15,
   "metadata": {},
   "outputs": [
    {
     "data": {
      "image/png": "[encoded data removed]",
      "text/plain": [
       "<Figure size 432x288 with 1 Axes>"
      ]
     },
     "metadata": {
      "needs_background": "light"
     },
     "output_type": "display_data"
    }
   ],
   "source": [
    "#elbow plot over multiple k's\n",
    "\n",
    "#calculate SSE for a range of number of cluster\n",
    "\n",
    "list_SSE = []\n",
    "min_k = 1\n",
    "max_k = 10\n",
    "range_k = range(min_k, max_k+1)\n",
    "for i in range_k:\n",
    "    km = KMeans(\n",
    "        n_clusters=i, init='random',\n",
    "        n_init=10, max_iter=300,\n",
    "        tol=1e-04, random_state=0\n",
    "    )\n",
    "    km.fit(yj)\n",
    "    # inertia is a concept in physics. Roughly it means SSE of clustering.\n",
    "    list_SSE.append(km.inertia_)\n",
    "\n",
    "# plot\n",
    "plt.plot(range_k, list_SSE, marker='o')\n",
    "plt.xlabel('Number of clusters')\n",
    "plt.ylabel('SSE')\n",
    "plt.show()"
   ]
  },
  {
   "cell_type": "code",
   "execution_count": 16,
   "metadata": {},
   "outputs": [],
   "source": [
    "#set the number of clusters to explore\n",
    "k_cluster = 3\n",
    "#set the random seed\n",
    "random_seed = 1\n",
    "#random state: int, default = None\n",
    "#determines random number generation for ecntroid intialisation, use an int to make the randomness deterministic"
   ]
  },
  {
   "cell_type": "code",
   "execution_count": 17,
   "metadata": {},
   "outputs": [
    {
     "data": {
      "text/plain": [
       "KMeans(algorithm='auto', copy_x=True, init='k-means++', max_iter=300,\n",
       "       n_clusters=3, n_init=10, n_jobs=None, precompute_distances='auto',\n",
       "       random_state=1, tol=0.0001, verbose=0)"
      ]
     },
     "execution_count": 17,
     "metadata": {},
     "output_type": "execute_result"
    }
   ],
   "source": [
    "#get the method for kmeans\n",
    "kmeans_method = KMeans(n_clusters=k_cluster,random_state=random_seed)\n",
    "#apply the fit to the scaled dataset\n",
    "kmeans_method.fit(yj)"
   ]
  },
  {
   "cell_type": "code",
   "execution_count": 18,
   "metadata": {},
   "outputs": [],
   "source": [
    "#assign the labels to original databse\n",
    "yj_zscore_kmeans = yj.assign(label = kmeans_method.labels_)"
   ]
  },
  {
   "cell_type": "code",
   "execution_count": 19,
   "metadata": {},
   "outputs": [],
   "source": [
    "# re-insert MSOA column\n",
    "yj_zscore_kmeans =pd.concat([MSOA, yj_zscore_kmeans], axis='columns')\n",
    "#save to csv\n",
    "yj_zscore_kmeans.to_csv('Data/Clustering_Results/yeojohnson_zscore_st_kmeans.csv')"
   ]
  },
  {
   "cell_type": "code",
   "execution_count": 20,
   "metadata": {},
   "outputs": [],
   "source": [
    "# #silhouette score over multiple k's\n",
    "\n",
    "# #empty array to hold the silhouette scores\n",
    "# silhouette = []\n",
    "\n",
    "# #iterate over the number of clusters from 2 to 10\n",
    "# for i in range(2, 10):\n",
    "#     #create an empty array to store the average\n",
    "#     average = []\n",
    "#     #repeat the kmeans clustering 10 times\n",
    "#     for x in range(1, 10):\n",
    "#         #setting the number of clusters as i\n",
    "#         k_cluster = i\n",
    "#         #create a random integer for the random seed\n",
    "#         random_seed = random.randint(1,101)\n",
    "#         #run the kmeans analysis\n",
    "#         kmeans_method = KMeans(n_clusters=k_cluster,random_state=random_seed)\n",
    "#         #fit it to the scaled dataset\n",
    "#         kmeans_method.fit(yj)\n",
    "#         #get the labels\n",
    "#         labels = kmeans_method.labels_\n",
    "#         #get the silhouette score\n",
    "#         a = metrics.silhouette_score(yj, labels)\n",
    "#         #append it to the average list\n",
    "#         average.append(a)\n",
    "#     #get the silhouette score and append it to the silhouette \n",
    "#     silhouette.append(sum(average)/len(average))\n",
    "    \n",
    "# #plot the silhouette score\n",
    "# plt.plot(silhouette)"
   ]
  },
  {
   "cell_type": "markdown",
   "metadata": {},
   "source": [
    "## Agglomerative clustering"
   ]
  },
  {
   "cell_type": "code",
   "execution_count": 21,
   "metadata": {},
   "outputs": [
    {
     "data": {
      "text/plain": [
       "AgglomerativeClustering(affinity='euclidean', compute_full_tree='auto',\n",
       "                        connectivity=None, distance_threshold=None,\n",
       "                        linkage='ward', memory=None, n_clusters=3,\n",
       "                        pooling_func='deprecated')"
      ]
     },
     "execution_count": 21,
     "metadata": {},
     "output_type": "execute_result"
    }
   ],
   "source": [
    "#set the number of clusters expected (from elbow diagram in kmeans part)\n",
    "n_clusters = 3\n",
    "\n",
    "#get the hierarchy method\n",
    "hierarchy = AgglomerativeClustering(n_clusters = n_clusters)\n",
    "\n",
    "#fit it to the data\n",
    "hierarchy.fit(yj)"
   ]
  },
  {
   "cell_type": "code",
   "execution_count": 22,
   "metadata": {},
   "outputs": [],
   "source": [
    "#assign labels to the original data\n",
    "yj_zscore_hierarchy = yj.assign(label = hierarchy.labels_)"
   ]
  },
  {
   "cell_type": "code",
   "execution_count": 23,
   "metadata": {},
   "outputs": [
    {
     "data": {
      "text/plain": [
       "0.18035697608944076"
      ]
     },
     "execution_count": 23,
     "metadata": {},
     "output_type": "execute_result"
    }
   ],
   "source": [
    "hierarchy_labels = hierarchy.labels_\n",
    "\n",
    "#check the silhouette score\n",
    "metrics.silhouette_score(yj, hierarchy_labels)"
   ]
  },
  {
   "cell_type": "code",
   "execution_count": 24,
   "metadata": {},
   "outputs": [],
   "source": [
    "# re-insert MSOA column\n",
    "yj_zscore_hierarchy =pd.concat([MSOA, yj_zscore_hierarchy], axis='columns')\n",
    "#save to csv\n",
    "yj_zscore_hierarchy.to_csv('Data/Clustering_Results/yeojohnson_zscore_st_heirarchy.csv')"
   ]
  },
  {
   "cell_type": "code",
   "execution_count": null,
   "metadata": {},
   "outputs": [],
   "source": []
  }
 ],
 "metadata": {
  "kernelspec": {
   "display_name": "Python 3",
   "language": "python",
   "name": "python3"
  },
  "language_info": {
   "codemirror_mode": {
    "name": "ipython",
    "version": 3
   },
   "file_extension": ".py",
   "mimetype": "text/x-python",
   "name": "python",
   "nbconvert_exporter": "python",
   "pygments_lexer": "ipython3",
   "version": "3.7.6"
  }
 },
 "nbformat": 4,
 "nbformat_minor": 2
}
