{
 "cells": [
  {
   "cell_type": "markdown",
   "metadata": {},
   "source": [
    "## clustering python notebook"
   ]
  },
  {
   "cell_type": "code",
   "execution_count": 1,
   "metadata": {},
   "outputs": [
    {
     "data": {
      "text/plain": [
       "'/Users/Hussein/Documents/Code Repos/spidercartographers/Scripts'"
      ]
     },
     "execution_count": 1,
     "metadata": {},
     "output_type": "execute_result"
    }
   ],
   "source": [
    "import os \n",
    "os.getcwd()"
   ]
  },
  {
   "cell_type": "code",
   "execution_count": 2,
   "metadata": {},
   "outputs": [],
   "source": [
    "# importing libraries required\n",
    "import pandas as pd\n",
    "import plotly.express as px\n",
    "import sklearn.preprocessing as preprocessing\n",
    "from sklearn.cluster import DBSCAN\n",
    "from sklearn import metrics\n",
    "from sklearn.cluster import KMeans\n",
    "import matplotlib.pyplot as plt\n",
    "import random\n",
    "from sklearn.cluster import AgglomerativeClustering\n",
    "from sklearn import neighbors\n",
    "import numpy as np\n",
    "\n",
    "# run this command too - just to allow more data to be displayed than default\n",
    "pd.set_option('display.max_rows', 200)\n",
    "# this one ensures graphs properly display in the notebook\n",
    "%matplotlib inline"
   ]
  },
  {
   "cell_type": "code",
   "execution_count": 3,
   "metadata": {
    "scrolled": true
   },
   "outputs": [
    {
     "data": {
      "text/html": [
       "<div>\n",
       "<style scoped>\n",
       "    .dataframe tbody tr th:only-of-type {\n",
       "        vertical-align: middle;\n",
       "    }\n",
       "\n",
       "    .dataframe tbody tr th {\n",
       "        vertical-align: top;\n",
       "    }\n",
       "\n",
       "    .dataframe thead th {\n",
       "        text-align: right;\n",
       "    }\n",
       "</style>\n",
       "<table border=\"1\" class=\"dataframe\">\n",
       "  <thead>\n",
       "    <tr style=\"text-align: right;\">\n",
       "      <th></th>\n",
       "      <th>work_from_home_perc</th>\n",
       "      <th>underground_metro_perc</th>\n",
       "      <th>train_perc</th>\n",
       "      <th>bus_perc</th>\n",
       "      <th>motorcycle_perc</th>\n",
       "      <th>bicycle_perc</th>\n",
       "      <th>on_foot_perc</th>\n",
       "      <th>other_perc</th>\n",
       "      <th>car_perc</th>\n",
       "      <th>MSOA</th>\n",
       "    </tr>\n",
       "  </thead>\n",
       "  <tbody>\n",
       "    <tr>\n",
       "      <th>0</th>\n",
       "      <td>1.063777</td>\n",
       "      <td>2.019442</td>\n",
       "      <td>0.686842</td>\n",
       "      <td>0.113317</td>\n",
       "      <td>-0.759204</td>\n",
       "      <td>1.234882</td>\n",
       "      <td>2.956306</td>\n",
       "      <td>1.391239</td>\n",
       "      <td>-6.664463</td>\n",
       "      <td>E02000001</td>\n",
       "    </tr>\n",
       "    <tr>\n",
       "      <th>1</th>\n",
       "      <td>-0.969051</td>\n",
       "      <td>1.938300</td>\n",
       "      <td>1.041419</td>\n",
       "      <td>1.174093</td>\n",
       "      <td>0.499173</td>\n",
       "      <td>-0.511242</td>\n",
       "      <td>-0.966578</td>\n",
       "      <td>0.188728</td>\n",
       "      <td>-0.413383</td>\n",
       "      <td>E02000002</td>\n",
       "    </tr>\n",
       "    <tr>\n",
       "      <th>2</th>\n",
       "      <td>-0.786235</td>\n",
       "      <td>1.835621</td>\n",
       "      <td>1.799021</td>\n",
       "      <td>0.819034</td>\n",
       "      <td>0.000341</td>\n",
       "      <td>-1.045735</td>\n",
       "      <td>-0.562951</td>\n",
       "      <td>0.098032</td>\n",
       "      <td>-0.692739</td>\n",
       "      <td>E02000003</td>\n",
       "    </tr>\n",
       "    <tr>\n",
       "      <th>3</th>\n",
       "      <td>-0.981693</td>\n",
       "      <td>1.719223</td>\n",
       "      <td>1.483884</td>\n",
       "      <td>0.750879</td>\n",
       "      <td>0.888218</td>\n",
       "      <td>-0.510165</td>\n",
       "      <td>-0.331870</td>\n",
       "      <td>0.062383</td>\n",
       "      <td>-0.287097</td>\n",
       "      <td>E02000004</td>\n",
       "    </tr>\n",
       "    <tr>\n",
       "      <th>4</th>\n",
       "      <td>-1.013349</td>\n",
       "      <td>1.820704</td>\n",
       "      <td>1.387807</td>\n",
       "      <td>1.198982</td>\n",
       "      <td>0.567870</td>\n",
       "      <td>-0.280928</td>\n",
       "      <td>-0.673975</td>\n",
       "      <td>-2.041540</td>\n",
       "      <td>-0.493889</td>\n",
       "      <td>E02000005</td>\n",
       "    </tr>\n",
       "    <tr>\n",
       "      <th>...</th>\n",
       "      <td>...</td>\n",
       "      <td>...</td>\n",
       "      <td>...</td>\n",
       "      <td>...</td>\n",
       "      <td>...</td>\n",
       "      <td>...</td>\n",
       "      <td>...</td>\n",
       "      <td>...</td>\n",
       "      <td>...</td>\n",
       "      <td>...</td>\n",
       "    </tr>\n",
       "    <tr>\n",
       "      <th>7196</th>\n",
       "      <td>-0.399044</td>\n",
       "      <td>-1.396350</td>\n",
       "      <td>-0.545787</td>\n",
       "      <td>-0.418597</td>\n",
       "      <td>0.102996</td>\n",
       "      <td>0.345005</td>\n",
       "      <td>0.265762</td>\n",
       "      <td>-0.426997</td>\n",
       "      <td>0.602770</td>\n",
       "      <td>W02000419</td>\n",
       "    </tr>\n",
       "    <tr>\n",
       "      <th>7197</th>\n",
       "      <td>0.833490</td>\n",
       "      <td>-0.412737</td>\n",
       "      <td>-0.923286</td>\n",
       "      <td>-0.363060</td>\n",
       "      <td>-0.693278</td>\n",
       "      <td>-0.351530</td>\n",
       "      <td>-1.226640</td>\n",
       "      <td>0.461629</td>\n",
       "      <td>0.676652</td>\n",
       "      <td>W02000420</td>\n",
       "    </tr>\n",
       "    <tr>\n",
       "      <th>7198</th>\n",
       "      <td>2.341841</td>\n",
       "      <td>-0.577212</td>\n",
       "      <td>-1.692333</td>\n",
       "      <td>-1.111537</td>\n",
       "      <td>-0.338132</td>\n",
       "      <td>-0.902028</td>\n",
       "      <td>-1.229642</td>\n",
       "      <td>-0.058433</td>\n",
       "      <td>0.404797</td>\n",
       "      <td>W02000421</td>\n",
       "    </tr>\n",
       "    <tr>\n",
       "      <th>7199</th>\n",
       "      <td>-1.104512</td>\n",
       "      <td>-0.836669</td>\n",
       "      <td>0.609545</td>\n",
       "      <td>0.512712</td>\n",
       "      <td>-2.226684</td>\n",
       "      <td>0.705463</td>\n",
       "      <td>1.435207</td>\n",
       "      <td>0.135047</td>\n",
       "      <td>0.054946</td>\n",
       "      <td>W02000422</td>\n",
       "    </tr>\n",
       "    <tr>\n",
       "      <th>7200</th>\n",
       "      <td>-1.049555</td>\n",
       "      <td>-0.184372</td>\n",
       "      <td>0.714276</td>\n",
       "      <td>0.633998</td>\n",
       "      <td>-3.038053</td>\n",
       "      <td>0.923146</td>\n",
       "      <td>2.054285</td>\n",
       "      <td>1.170768</td>\n",
       "      <td>-0.435138</td>\n",
       "      <td>W02000423</td>\n",
       "    </tr>\n",
       "  </tbody>\n",
       "</table>\n",
       "<p>7201 rows × 10 columns</p>\n",
       "</div>"
      ],
      "text/plain": [
       "      work_from_home_perc  underground_metro_perc  train_perc  bus_perc  \\\n",
       "0                1.063777                2.019442    0.686842  0.113317   \n",
       "1               -0.969051                1.938300    1.041419  1.174093   \n",
       "2               -0.786235                1.835621    1.799021  0.819034   \n",
       "3               -0.981693                1.719223    1.483884  0.750879   \n",
       "4               -1.013349                1.820704    1.387807  1.198982   \n",
       "...                   ...                     ...         ...       ...   \n",
       "7196            -0.399044               -1.396350   -0.545787 -0.418597   \n",
       "7197             0.833490               -0.412737   -0.923286 -0.363060   \n",
       "7198             2.341841               -0.577212   -1.692333 -1.111537   \n",
       "7199            -1.104512               -0.836669    0.609545  0.512712   \n",
       "7200            -1.049555               -0.184372    0.714276  0.633998   \n",
       "\n",
       "      motorcycle_perc  bicycle_perc  on_foot_perc  other_perc  car_perc  \\\n",
       "0           -0.759204      1.234882      2.956306    1.391239 -6.664463   \n",
       "1            0.499173     -0.511242     -0.966578    0.188728 -0.413383   \n",
       "2            0.000341     -1.045735     -0.562951    0.098032 -0.692739   \n",
       "3            0.888218     -0.510165     -0.331870    0.062383 -0.287097   \n",
       "4            0.567870     -0.280928     -0.673975   -2.041540 -0.493889   \n",
       "...               ...           ...           ...         ...       ...   \n",
       "7196         0.102996      0.345005      0.265762   -0.426997  0.602770   \n",
       "7197        -0.693278     -0.351530     -1.226640    0.461629  0.676652   \n",
       "7198        -0.338132     -0.902028     -1.229642   -0.058433  0.404797   \n",
       "7199        -2.226684      0.705463      1.435207    0.135047  0.054946   \n",
       "7200        -3.038053      0.923146      2.054285    1.170768 -0.435138   \n",
       "\n",
       "           MSOA  \n",
       "0     E02000001  \n",
       "1     E02000002  \n",
       "2     E02000003  \n",
       "3     E02000004  \n",
       "4     E02000005  \n",
       "...         ...  \n",
       "7196  W02000419  \n",
       "7197  W02000420  \n",
       "7198  W02000421  \n",
       "7199  W02000422  \n",
       "7200  W02000423  \n",
       "\n",
       "[7201 rows x 10 columns]"
      ]
     },
     "execution_count": 3,
     "metadata": {},
     "output_type": "execute_result"
    }
   ],
   "source": [
    "#put the data into a dataframe\n",
    "yj = pd.read_csv('Data/transport_log_then_normal.csv')\n",
    "#check that is has been read correctly\n",
    "yj"
   ]
  },
  {
   "cell_type": "code",
   "execution_count": 4,
   "metadata": {},
   "outputs": [],
   "source": [
    "# store MSOA column \n",
    "MSOA = yj[['MSOA']]"
   ]
  },
  {
   "cell_type": "code",
   "execution_count": 5,
   "metadata": {
    "scrolled": true
   },
   "outputs": [
    {
     "data": {
      "text/html": [
       "<div>\n",
       "<style scoped>\n",
       "    .dataframe tbody tr th:only-of-type {\n",
       "        vertical-align: middle;\n",
       "    }\n",
       "\n",
       "    .dataframe tbody tr th {\n",
       "        vertical-align: top;\n",
       "    }\n",
       "\n",
       "    .dataframe thead th {\n",
       "        text-align: right;\n",
       "    }\n",
       "</style>\n",
       "<table border=\"1\" class=\"dataframe\">\n",
       "  <thead>\n",
       "    <tr style=\"text-align: right;\">\n",
       "      <th></th>\n",
       "      <th>work_from_home_perc</th>\n",
       "      <th>underground_metro_perc</th>\n",
       "      <th>train_perc</th>\n",
       "      <th>bus_perc</th>\n",
       "      <th>motorcycle_perc</th>\n",
       "      <th>bicycle_perc</th>\n",
       "      <th>on_foot_perc</th>\n",
       "      <th>other_perc</th>\n",
       "      <th>car_perc</th>\n",
       "    </tr>\n",
       "  </thead>\n",
       "  <tbody>\n",
       "    <tr>\n",
       "      <th>0</th>\n",
       "      <td>1.063777</td>\n",
       "      <td>2.019442</td>\n",
       "      <td>0.686842</td>\n",
       "      <td>0.113317</td>\n",
       "      <td>-0.759204</td>\n",
       "      <td>1.234882</td>\n",
       "      <td>2.956306</td>\n",
       "      <td>1.391239</td>\n",
       "      <td>-6.664463</td>\n",
       "    </tr>\n",
       "    <tr>\n",
       "      <th>1</th>\n",
       "      <td>-0.969051</td>\n",
       "      <td>1.938300</td>\n",
       "      <td>1.041419</td>\n",
       "      <td>1.174093</td>\n",
       "      <td>0.499173</td>\n",
       "      <td>-0.511242</td>\n",
       "      <td>-0.966578</td>\n",
       "      <td>0.188728</td>\n",
       "      <td>-0.413383</td>\n",
       "    </tr>\n",
       "    <tr>\n",
       "      <th>2</th>\n",
       "      <td>-0.786235</td>\n",
       "      <td>1.835621</td>\n",
       "      <td>1.799021</td>\n",
       "      <td>0.819034</td>\n",
       "      <td>0.000341</td>\n",
       "      <td>-1.045735</td>\n",
       "      <td>-0.562951</td>\n",
       "      <td>0.098032</td>\n",
       "      <td>-0.692739</td>\n",
       "    </tr>\n",
       "    <tr>\n",
       "      <th>3</th>\n",
       "      <td>-0.981693</td>\n",
       "      <td>1.719223</td>\n",
       "      <td>1.483884</td>\n",
       "      <td>0.750879</td>\n",
       "      <td>0.888218</td>\n",
       "      <td>-0.510165</td>\n",
       "      <td>-0.331870</td>\n",
       "      <td>0.062383</td>\n",
       "      <td>-0.287097</td>\n",
       "    </tr>\n",
       "    <tr>\n",
       "      <th>4</th>\n",
       "      <td>-1.013349</td>\n",
       "      <td>1.820704</td>\n",
       "      <td>1.387807</td>\n",
       "      <td>1.198982</td>\n",
       "      <td>0.567870</td>\n",
       "      <td>-0.280928</td>\n",
       "      <td>-0.673975</td>\n",
       "      <td>-2.041540</td>\n",
       "      <td>-0.493889</td>\n",
       "    </tr>\n",
       "    <tr>\n",
       "      <th>...</th>\n",
       "      <td>...</td>\n",
       "      <td>...</td>\n",
       "      <td>...</td>\n",
       "      <td>...</td>\n",
       "      <td>...</td>\n",
       "      <td>...</td>\n",
       "      <td>...</td>\n",
       "      <td>...</td>\n",
       "      <td>...</td>\n",
       "    </tr>\n",
       "    <tr>\n",
       "      <th>7196</th>\n",
       "      <td>-0.399044</td>\n",
       "      <td>-1.396350</td>\n",
       "      <td>-0.545787</td>\n",
       "      <td>-0.418597</td>\n",
       "      <td>0.102996</td>\n",
       "      <td>0.345005</td>\n",
       "      <td>0.265762</td>\n",
       "      <td>-0.426997</td>\n",
       "      <td>0.602770</td>\n",
       "    </tr>\n",
       "    <tr>\n",
       "      <th>7197</th>\n",
       "      <td>0.833490</td>\n",
       "      <td>-0.412737</td>\n",
       "      <td>-0.923286</td>\n",
       "      <td>-0.363060</td>\n",
       "      <td>-0.693278</td>\n",
       "      <td>-0.351530</td>\n",
       "      <td>-1.226640</td>\n",
       "      <td>0.461629</td>\n",
       "      <td>0.676652</td>\n",
       "    </tr>\n",
       "    <tr>\n",
       "      <th>7198</th>\n",
       "      <td>2.341841</td>\n",
       "      <td>-0.577212</td>\n",
       "      <td>-1.692333</td>\n",
       "      <td>-1.111537</td>\n",
       "      <td>-0.338132</td>\n",
       "      <td>-0.902028</td>\n",
       "      <td>-1.229642</td>\n",
       "      <td>-0.058433</td>\n",
       "      <td>0.404797</td>\n",
       "    </tr>\n",
       "    <tr>\n",
       "      <th>7199</th>\n",
       "      <td>-1.104512</td>\n",
       "      <td>-0.836669</td>\n",
       "      <td>0.609545</td>\n",
       "      <td>0.512712</td>\n",
       "      <td>-2.226684</td>\n",
       "      <td>0.705463</td>\n",
       "      <td>1.435207</td>\n",
       "      <td>0.135047</td>\n",
       "      <td>0.054946</td>\n",
       "    </tr>\n",
       "    <tr>\n",
       "      <th>7200</th>\n",
       "      <td>-1.049555</td>\n",
       "      <td>-0.184372</td>\n",
       "      <td>0.714276</td>\n",
       "      <td>0.633998</td>\n",
       "      <td>-3.038053</td>\n",
       "      <td>0.923146</td>\n",
       "      <td>2.054285</td>\n",
       "      <td>1.170768</td>\n",
       "      <td>-0.435138</td>\n",
       "    </tr>\n",
       "  </tbody>\n",
       "</table>\n",
       "<p>7201 rows × 9 columns</p>\n",
       "</div>"
      ],
      "text/plain": [
       "      work_from_home_perc  underground_metro_perc  train_perc  bus_perc  \\\n",
       "0                1.063777                2.019442    0.686842  0.113317   \n",
       "1               -0.969051                1.938300    1.041419  1.174093   \n",
       "2               -0.786235                1.835621    1.799021  0.819034   \n",
       "3               -0.981693                1.719223    1.483884  0.750879   \n",
       "4               -1.013349                1.820704    1.387807  1.198982   \n",
       "...                   ...                     ...         ...       ...   \n",
       "7196            -0.399044               -1.396350   -0.545787 -0.418597   \n",
       "7197             0.833490               -0.412737   -0.923286 -0.363060   \n",
       "7198             2.341841               -0.577212   -1.692333 -1.111537   \n",
       "7199            -1.104512               -0.836669    0.609545  0.512712   \n",
       "7200            -1.049555               -0.184372    0.714276  0.633998   \n",
       "\n",
       "      motorcycle_perc  bicycle_perc  on_foot_perc  other_perc  car_perc  \n",
       "0           -0.759204      1.234882      2.956306    1.391239 -6.664463  \n",
       "1            0.499173     -0.511242     -0.966578    0.188728 -0.413383  \n",
       "2            0.000341     -1.045735     -0.562951    0.098032 -0.692739  \n",
       "3            0.888218     -0.510165     -0.331870    0.062383 -0.287097  \n",
       "4            0.567870     -0.280928     -0.673975   -2.041540 -0.493889  \n",
       "...               ...           ...           ...         ...       ...  \n",
       "7196         0.102996      0.345005      0.265762   -0.426997  0.602770  \n",
       "7197        -0.693278     -0.351530     -1.226640    0.461629  0.676652  \n",
       "7198        -0.338132     -0.902028     -1.229642   -0.058433  0.404797  \n",
       "7199        -2.226684      0.705463      1.435207    0.135047  0.054946  \n",
       "7200        -3.038053      0.923146      2.054285    1.170768 -0.435138  \n",
       "\n",
       "[7201 rows x 9 columns]"
      ]
     },
     "execution_count": 5,
     "metadata": {},
     "output_type": "execute_result"
    }
   ],
   "source": [
    "# drop non numeric columns\n",
    "yj.drop(['MSOA'], axis=1, inplace=True)\n",
    "yj"
   ]
  },
  {
   "cell_type": "code",
   "execution_count": 6,
   "metadata": {},
   "outputs": [
    {
     "data": {
      "text/plain": [
       "work_from_home_perc       0\n",
       "underground_metro_perc    0\n",
       "train_perc                0\n",
       "bus_perc                  0\n",
       "motorcycle_perc           0\n",
       "bicycle_perc              0\n",
       "on_foot_perc              0\n",
       "other_perc                0\n",
       "car_perc                  0\n",
       "dtype: int64"
      ]
     },
     "execution_count": 6,
     "metadata": {},
     "output_type": "execute_result"
    }
   ],
   "source": [
    "yj.isna().sum() "
   ]
  },
  {
   "cell_type": "code",
   "execution_count": 7,
   "metadata": {},
   "outputs": [
    {
     "data": {
      "text/plain": [
       "work_from_home_perc       0\n",
       "underground_metro_perc    0\n",
       "train_perc                0\n",
       "bus_perc                  0\n",
       "motorcycle_perc           0\n",
       "bicycle_perc              0\n",
       "on_foot_perc              0\n",
       "other_perc                0\n",
       "car_perc                  0\n",
       "dtype: int64"
      ]
     },
     "execution_count": 7,
     "metadata": {},
     "output_type": "execute_result"
    }
   ],
   "source": [
    "# drop any columns with NA values\n",
    "yj.dropna(axis = 1, how = 'any', inplace = True)\n",
    "yj.isna().sum() "
   ]
  },
  {
   "cell_type": "markdown",
   "metadata": {},
   "source": [
    "## DBSCAN"
   ]
  },
  {
   "cell_type": "code",
   "execution_count": 8,
   "metadata": {},
   "outputs": [
    {
     "data": {
      "text/plain": [
       "array([[0.        , 1.34818562],\n",
       "       [0.        , 0.59003584],\n",
       "       [0.        , 0.35564044],\n",
       "       ...,\n",
       "       [0.        , 0.82045664],\n",
       "       [0.        , 1.14775857],\n",
       "       [0.        , 1.28867303]])"
      ]
     },
     "execution_count": 8,
     "metadata": {},
     "output_type": "execute_result"
    }
   ],
   "source": [
    "# We need to select the epsilon and min_smaples parameters\n",
    "\n",
    "# https://towardsdatascience.com/machine-learning-clustering-dbscan-determine-the-optimal-value-for-epsilon-eps-python-example-3100091cfbc\n",
    "# eps: Two points are considered neighbors if the distance between the two points is below the threshold epsilon.\n",
    "# min_samples: The minimum number of neighbors a given point should have in order to be classified as a core point. \n",
    "from sklearn import neighbors\n",
    "\n",
    "neigh = neighbors.NearestNeighbors(n_neighbors=2)\n",
    "nbrs = neigh.fit(yj)\n",
    "distances, indices = nbrs.kneighbors(yj)\n",
    "distances"
   ]
  },
  {
   "cell_type": "code",
   "execution_count": 9,
   "metadata": {},
   "outputs": [
    {
     "data": {
      "text/plain": [
       "[<matplotlib.lines.Line2D at 0x1033258d0>]"
      ]
     },
     "execution_count": 9,
     "metadata": {},
     "output_type": "execute_result"
    },
    {
     "data": {
      "image/png": "[encoded data removed]",
      "text/plain": [
       "<Figure size 432x288 with 1 Axes>"
      ]
     },
     "metadata": {
      "needs_background": "light"
     },
     "output_type": "display_data"
    }
   ],
   "source": [
    "# sort and plot the results\n",
    "distances = np.sort(distances, axis=0)\n",
    "distances = distances[:,1]\n",
    "plt.plot(distances)"
   ]
  },
  {
   "cell_type": "code",
   "execution_count": 10,
   "metadata": {},
   "outputs": [
    {
     "data": {
      "text/plain": [
       "DBSCAN(algorithm='auto', eps=1.2, leaf_size=30, metric='euclidean',\n",
       "       metric_params=None, min_samples=5, n_jobs=None, p=None)"
      ]
     },
     "execution_count": 10,
     "metadata": {},
     "output_type": "execute_result"
    }
   ],
   "source": [
    "# create DBSCAN cluster object\n",
    "\n",
    "# the eps is at the point of maximum curvature in the graph above\n",
    "dbscan = DBSCAN(eps=1.2, min_samples=5) \n",
    "\n",
    "#algorith to be used by the NearestNeighbors module to compute pointwise distance and find neighest neighbours - see NN module documentation\n",
    "# run the .fit() function on the scaled dataset\n",
    "dbscan.fit(yj) \n",
    "\n"
   ]
  },
  {
   "cell_type": "code",
   "execution_count": 11,
   "metadata": {},
   "outputs": [
    {
     "data": {
      "text/plain": [
       "4"
      ]
     },
     "execution_count": 11,
     "metadata": {},
     "output_type": "execute_result"
    }
   ],
   "source": [
    "#Get the labels from the clusters\n",
    "dbscan_labels = dbscan.labels_\n",
    "#dbscan_labels\n",
    "# to get number of clusters\n",
    "len(set(dbscan_labels)) - (1 if -1 in dbscan_labels else 0)"
   ]
  },
  {
   "cell_type": "code",
   "execution_count": 12,
   "metadata": {},
   "outputs": [
    {
     "data": {
      "text/plain": [
       "0.016647343841810967"
      ]
     },
     "execution_count": 12,
     "metadata": {},
     "output_type": "execute_result"
    }
   ],
   "source": [
    "#check the silhouette score\n",
    "# A silhouette score ranges from -1 to 1, with -1 being the worst score possible and 1 \n",
    "# being the best score. Silhouette scores of 0 suggest overlapping clusters.\n",
    "metrics.silhouette_score(yj, dbscan_labels)"
   ]
  },
  {
   "cell_type": "code",
   "execution_count": 13,
   "metadata": {},
   "outputs": [
    {
     "data": {
      "text/plain": [
       " 0    6291\n",
       "-1     884\n",
       " 1      17\n",
       " 2       5\n",
       " 3       4\n",
       "Name: label, dtype: int64"
      ]
     },
     "execution_count": 13,
     "metadata": {},
     "output_type": "execute_result"
    }
   ],
   "source": [
    "#assign the labels to the original dataframe\n",
    "yj_zscore_DB =yj.assign(label = dbscan_labels)\n",
    "\n",
    "#and check the value counts\n",
    "yj_zscore_DB.label.value_counts()"
   ]
  },
  {
   "cell_type": "code",
   "execution_count": 14,
   "metadata": {},
   "outputs": [],
   "source": [
    "# re-insert MSOA column\n",
    "yj_zscore_DB =pd.concat([MSOA, yj_zscore_DB], axis='columns')\n",
    "#save to csv\n",
    "yj_zscore_DB.to_csv('Data/Clustering_Results/log_zscore_st_DBSCAN.csv')"
   ]
  },
  {
   "cell_type": "markdown",
   "metadata": {},
   "source": [
    "## kmeans clustering"
   ]
  },
  {
   "cell_type": "code",
   "execution_count": 15,
   "metadata": {},
   "outputs": [
    {
     "data": {
      "image/png": "[encoded data removed]",
      "text/plain": [
       "<Figure size 432x288 with 1 Axes>"
      ]
     },
     "metadata": {
      "needs_background": "light"
     },
     "output_type": "display_data"
    }
   ],
   "source": [
    "#elbow plot over multiple k's\n",
    "\n",
    "#calculate SSE for a range of number of cluster\n",
    "\n",
    "list_SSE = []\n",
    "min_k = 1\n",
    "max_k = 10\n",
    "range_k = range(min_k, max_k+1)\n",
    "for i in range_k:\n",
    "    km = KMeans(\n",
    "        n_clusters=i, init='random',\n",
    "        n_init=10, max_iter=300,\n",
    "        tol=1e-04, random_state=0\n",
    "    )\n",
    "    km.fit(yj)\n",
    "    # inertia is a concept in physics. Roughly it means SSE of clustering.\n",
    "    list_SSE.append(km.inertia_)\n",
    "\n",
    "# plot\n",
    "plt.plot(range_k, list_SSE, marker='o')\n",
    "plt.xlabel('Number of clusters')\n",
    "plt.ylabel('SSE')\n",
    "plt.show()"
   ]
  },
  {
   "cell_type": "code",
   "execution_count": 16,
   "metadata": {},
   "outputs": [],
   "source": [
    "#set the number of clusters to explore\n",
    "k_cluster = 4\n",
    "#set the random seed\n",
    "random_seed = 1\n",
    "#random state: int, default = None\n",
    "#determines random number generation for ecntroid intialisation, use an int to make the randomness deterministic"
   ]
  },
  {
   "cell_type": "code",
   "execution_count": 17,
   "metadata": {},
   "outputs": [
    {
     "data": {
      "text/plain": [
       "KMeans(algorithm='auto', copy_x=True, init='k-means++', max_iter=300,\n",
       "       n_clusters=4, n_init=10, n_jobs=None, precompute_distances='auto',\n",
       "       random_state=1, tol=0.0001, verbose=0)"
      ]
     },
     "execution_count": 17,
     "metadata": {},
     "output_type": "execute_result"
    }
   ],
   "source": [
    "#get the method for kmeans\n",
    "kmeans_method = KMeans(n_clusters=k_cluster,random_state=random_seed)\n",
    "#apply the fit to the scaled dataset\n",
    "kmeans_method.fit(yj)"
   ]
  },
  {
   "cell_type": "code",
   "execution_count": 18,
   "metadata": {},
   "outputs": [],
   "source": [
    "#assign the labels to original databse\n",
    "yj_zscore_kmeans = yj.assign(label = kmeans_method.labels_)"
   ]
  },
  {
   "cell_type": "code",
   "execution_count": 19,
   "metadata": {},
   "outputs": [],
   "source": [
    "# re-insert MSOA column\n",
    "yj_zscore_kmeans =pd.concat([MSOA, yj_zscore_kmeans], axis='columns')\n",
    "#save to csv\n",
    "yj_zscore_kmeans.to_csv('Data/Clustering_Results/log_zscore_st_kmeans.csv')"
   ]
  },
  {
   "cell_type": "code",
   "execution_count": 20,
   "metadata": {},
   "outputs": [],
   "source": [
    "# #silhouette score over multiple k's\n",
    "\n",
    "# #empty array to hold the silhouette scores\n",
    "# silhouette = []\n",
    "\n",
    "# #iterate over the number of clusters from 2 to 10\n",
    "# for i in range(2, 10):\n",
    "#     #create an empty array to store the average\n",
    "#     average = []\n",
    "#     #repeat the kmeans clustering 10 times\n",
    "#     for x in range(1, 10):\n",
    "#         #setting the number of clusters as i\n",
    "#         k_cluster = i\n",
    "#         #create a random integer for the random seed\n",
    "#         random_seed = random.randint(1,101)\n",
    "#         #run the kmeans analysis\n",
    "#         kmeans_method = KMeans(n_clusters=k_cluster,random_state=random_seed)\n",
    "#         #fit it to the scaled dataset\n",
    "#         kmeans_method.fit(yj)\n",
    "#         #get the labels\n",
    "#         labels = kmeans_method.labels_\n",
    "#         #get the silhouette score\n",
    "#         a = metrics.silhouette_score(yj, labels)\n",
    "#         #append it to the average list\n",
    "#         average.append(a)\n",
    "#     #get the silhouette score and append it to the silhouette \n",
    "#     silhouette.append(sum(average)/len(average))\n",
    "    \n",
    "# #plot the silhouette score\n",
    "# plt.plot(silhouette)"
   ]
  },
  {
   "cell_type": "markdown",
   "metadata": {},
   "source": [
    "## Agglomerative clustering"
   ]
  },
  {
   "cell_type": "code",
   "execution_count": 21,
   "metadata": {},
   "outputs": [
    {
     "data": {
      "text/plain": [
       "AgglomerativeClustering(affinity='euclidean', compute_full_tree='auto',\n",
       "                        connectivity=None, distance_threshold=None,\n",
       "                        linkage='ward', memory=None, n_clusters=4,\n",
       "                        pooling_func='deprecated')"
      ]
     },
     "execution_count": 21,
     "metadata": {},
     "output_type": "execute_result"
    }
   ],
   "source": [
    "#set the number of clusters expected (from elbow diagram in kmeans part)\n",
    "n_clusters = 4\n",
    "\n",
    "#get the hierarchy method\n",
    "hierarchy = AgglomerativeClustering(n_clusters = n_clusters)\n",
    "\n",
    "#fit it to the data\n",
    "hierarchy.fit(yj)"
   ]
  },
  {
   "cell_type": "code",
   "execution_count": 22,
   "metadata": {},
   "outputs": [],
   "source": [
    "#assign labels to the original data\n",
    "yj_zscore_hierarchy = yj.assign(label = hierarchy.labels_)"
   ]
  },
  {
   "cell_type": "code",
   "execution_count": 23,
   "metadata": {},
   "outputs": [
    {
     "data": {
      "text/plain": [
       "0.09841186461523019"
      ]
     },
     "execution_count": 23,
     "metadata": {},
     "output_type": "execute_result"
    }
   ],
   "source": [
    "hierarchy_labels = hierarchy.labels_\n",
    "\n",
    "#check the silhouette score\n",
    "metrics.silhouette_score(yj, hierarchy_labels)"
   ]
  },
  {
   "cell_type": "code",
   "execution_count": 24,
   "metadata": {},
   "outputs": [],
   "source": [
    "# re-insert MSOA column\n",
    "yj_zscore_hierarchy =pd.concat([MSOA, yj_zscore_hierarchy], axis='columns')\n",
    "#save to csv\n",
    "yj_zscore_hierarchy.to_csv('Data/Clustering_Results/log_zscore_st_heirarchy.csv')"
   ]
  },
  {
   "cell_type": "code",
   "execution_count": null,
   "metadata": {},
   "outputs": [],
   "source": []
  }
 ],
 "metadata": {
  "kernelspec": {
   "display_name": "Python 3",
   "language": "python",
   "name": "python3"
  },
  "language_info": {
   "codemirror_mode": {
    "name": "ipython",
    "version": 3
   },
   "file_extension": ".py",
   "mimetype": "text/x-python",
   "name": "python",
   "nbconvert_exporter": "python",
   "pygments_lexer": "ipython3",
   "version": "3.7.1"
  }
 },
 "nbformat": 4,
 "nbformat_minor": 2
}
