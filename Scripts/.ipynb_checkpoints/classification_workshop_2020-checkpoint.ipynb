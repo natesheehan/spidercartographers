{
 "cells": [
  {
   "cell_type": "markdown",
   "metadata": {},
   "source": [
    "# Classification"
   ]
  },
  {
   "cell_type": "markdown",
   "metadata": {},
   "source": [
    "This week we will focus on **classification algorithms**.  Classifiers are highly useful in extracting meaning from large sets of incoming data. By setting up a classifier on an understood and pre-classified subset of the data, we are able to automatically derive greater understanding into other unclassified datasets.\n",
    "\n",
    "The process of creating a classifier remains the same no matter which method you use.\n",
    "\n",
    "1. Organise and clean your dataset.\n",
    "2. Divide the dataset into training and testing subsets.\n",
    "3. Use the classifier to associate feature attributes within the training dataset to *known* classifications (known as *training* or *calibration*).\n",
    "4. Test the strength of model fit by predicting the classifications within the test dataset (known as *testing*).\n",
    "5. If you are happy with the model performance, you can apply the classifier to any new and future data in order to establish classifications. This provides instant insight into the type of data you are receiving.\n",
    "\n",
    "Once more during this session, we will use Python and specifically the **`pandas`** and **`scikit-learn`** libraries. The method for the application of different classification methods using `sklearn` is helpfully very consistent, as such we will explore a range of different methods today. We will also look at ways to explore the quality of the prediction results, in order to understand how well our mining is going.\n",
    "\n",
    "As usual, we need to import the relevant libraries to get started, so **run the script below** first to give us access to our basic data analysis packages."
   ]
  },
  {
   "cell_type": "code",
   "execution_count": 1,
   "metadata": {},
   "outputs": [],
   "source": [
    "import numpy as np\n",
    "import matplotlib.pyplot as plt\n",
    "import pandas as pd\n",
    "\n",
    "pd.set_option('display.max_rows', 300) # specifies number of rows to show\n",
    "pd.options.display.float_format = '{:40,.4f}'.format # specifies default number format to 4 decimal places"
   ]
  },
  {
   "cell_type": "markdown",
   "metadata": {},
   "source": [
    "### Data Preprocessing"
   ]
  },
  {
   "cell_type": "markdown",
   "metadata": {},
   "source": [
    "The dataset you'll be working with today relates to the personal characteristics of over 32000 individuals. Our task is to work out whether we can predict whether an individual's income is above or below $50000 per annum, based solely on their demographic characteristics. While we are dealing with quite a few attributes here, we're only predicting over two classes, thus it is a relatively straightforward classification problem.\n",
    "\n",
    "You can find the dataset on Moodle. **Download it, and import it as a Pandas dataframe called `original_data`. Inspect the dataset, and use the accompanying metadata to help you understand what you have.**"
   ]
  },
  {
   "cell_type": "code",
   "execution_count": 2,
   "metadata": {},
   "outputs": [],
   "source": [
    "original_data = pd.read_csv('income.csv')"
   ]
  },
  {
   "cell_type": "code",
   "execution_count": 3,
   "metadata": {},
   "outputs": [
    {
     "data": {
      "text/html": [
       "<div>\n",
       "<style scoped>\n",
       "    .dataframe tbody tr th:only-of-type {\n",
       "        vertical-align: middle;\n",
       "    }\n",
       "\n",
       "    .dataframe tbody tr th {\n",
       "        vertical-align: top;\n",
       "    }\n",
       "\n",
       "    .dataframe thead th {\n",
       "        text-align: right;\n",
       "    }\n",
       "</style>\n",
       "<table border=\"1\" class=\"dataframe\">\n",
       "  <thead>\n",
       "    <tr style=\"text-align: right;\">\n",
       "      <th></th>\n",
       "      <th>age</th>\n",
       "      <th>workclass</th>\n",
       "      <th>fnlwgt</th>\n",
       "      <th>education</th>\n",
       "      <th>education-num</th>\n",
       "      <th>marital-status</th>\n",
       "      <th>occupation</th>\n",
       "      <th>relationship</th>\n",
       "      <th>race</th>\n",
       "      <th>sex</th>\n",
       "      <th>capital-gain</th>\n",
       "      <th>capital-loss</th>\n",
       "      <th>hours-per-week</th>\n",
       "      <th>native-country</th>\n",
       "      <th>over50k</th>\n",
       "    </tr>\n",
       "  </thead>\n",
       "  <tbody>\n",
       "    <tr>\n",
       "      <th>0</th>\n",
       "      <td>39</td>\n",
       "      <td>State-gov</td>\n",
       "      <td>77516</td>\n",
       "      <td>Bachelors</td>\n",
       "      <td>13</td>\n",
       "      <td>Never-married</td>\n",
       "      <td>Adm-clerical</td>\n",
       "      <td>Not-in-family</td>\n",
       "      <td>White</td>\n",
       "      <td>Male</td>\n",
       "      <td>2174</td>\n",
       "      <td>0</td>\n",
       "      <td>40</td>\n",
       "      <td>United-States</td>\n",
       "      <td>&lt;=50K</td>\n",
       "    </tr>\n",
       "    <tr>\n",
       "      <th>1</th>\n",
       "      <td>50</td>\n",
       "      <td>Self-emp-not-inc</td>\n",
       "      <td>83311</td>\n",
       "      <td>Bachelors</td>\n",
       "      <td>13</td>\n",
       "      <td>Married-civ-spouse</td>\n",
       "      <td>Exec-managerial</td>\n",
       "      <td>Husband</td>\n",
       "      <td>White</td>\n",
       "      <td>Male</td>\n",
       "      <td>0</td>\n",
       "      <td>0</td>\n",
       "      <td>13</td>\n",
       "      <td>United-States</td>\n",
       "      <td>&lt;=50K</td>\n",
       "    </tr>\n",
       "    <tr>\n",
       "      <th>2</th>\n",
       "      <td>38</td>\n",
       "      <td>Private</td>\n",
       "      <td>215646</td>\n",
       "      <td>HS-grad</td>\n",
       "      <td>9</td>\n",
       "      <td>Divorced</td>\n",
       "      <td>Handlers-cleaners</td>\n",
       "      <td>Not-in-family</td>\n",
       "      <td>White</td>\n",
       "      <td>Male</td>\n",
       "      <td>0</td>\n",
       "      <td>0</td>\n",
       "      <td>40</td>\n",
       "      <td>United-States</td>\n",
       "      <td>&lt;=50K</td>\n",
       "    </tr>\n",
       "    <tr>\n",
       "      <th>3</th>\n",
       "      <td>53</td>\n",
       "      <td>Private</td>\n",
       "      <td>234721</td>\n",
       "      <td>11th</td>\n",
       "      <td>7</td>\n",
       "      <td>Married-civ-spouse</td>\n",
       "      <td>Handlers-cleaners</td>\n",
       "      <td>Husband</td>\n",
       "      <td>Black</td>\n",
       "      <td>Male</td>\n",
       "      <td>0</td>\n",
       "      <td>0</td>\n",
       "      <td>40</td>\n",
       "      <td>United-States</td>\n",
       "      <td>&lt;=50K</td>\n",
       "    </tr>\n",
       "    <tr>\n",
       "      <th>4</th>\n",
       "      <td>28</td>\n",
       "      <td>Private</td>\n",
       "      <td>338409</td>\n",
       "      <td>Bachelors</td>\n",
       "      <td>13</td>\n",
       "      <td>Married-civ-spouse</td>\n",
       "      <td>Prof-specialty</td>\n",
       "      <td>Wife</td>\n",
       "      <td>Black</td>\n",
       "      <td>Female</td>\n",
       "      <td>0</td>\n",
       "      <td>0</td>\n",
       "      <td>40</td>\n",
       "      <td>Cuba</td>\n",
       "      <td>&lt;=50K</td>\n",
       "    </tr>\n",
       "  </tbody>\n",
       "</table>\n",
       "</div>"
      ],
      "text/plain": [
       "   age         workclass  fnlwgt  education  education-num  \\\n",
       "0   39         State-gov   77516  Bachelors             13   \n",
       "1   50  Self-emp-not-inc   83311  Bachelors             13   \n",
       "2   38           Private  215646    HS-grad              9   \n",
       "3   53           Private  234721       11th              7   \n",
       "4   28           Private  338409  Bachelors             13   \n",
       "\n",
       "       marital-status         occupation   relationship   race     sex  \\\n",
       "0       Never-married       Adm-clerical  Not-in-family  White    Male   \n",
       "1  Married-civ-spouse    Exec-managerial        Husband  White    Male   \n",
       "2            Divorced  Handlers-cleaners  Not-in-family  White    Male   \n",
       "3  Married-civ-spouse  Handlers-cleaners        Husband  Black    Male   \n",
       "4  Married-civ-spouse     Prof-specialty           Wife  Black  Female   \n",
       "\n",
       "   capital-gain  capital-loss  hours-per-week native-country over50k  \n",
       "0          2174             0              40  United-States   <=50K  \n",
       "1             0             0              13  United-States   <=50K  \n",
       "2             0             0              40  United-States   <=50K  \n",
       "3             0             0              40  United-States   <=50K  \n",
       "4             0             0              40           Cuba   <=50K  "
      ]
     },
     "execution_count": 3,
     "metadata": {},
     "output_type": "execute_result"
    }
   ],
   "source": [
    "# to view some first rows\n",
    "original_data.head()"
   ]
  },
  {
   "cell_type": "code",
   "execution_count": 4,
   "metadata": {},
   "outputs": [
    {
     "name": "stdout",
     "output_type": "stream",
     "text": [
      "<class 'pandas.core.frame.DataFrame'>\n",
      "RangeIndex: 32561 entries, 0 to 32560\n",
      "Data columns (total 15 columns):\n",
      "age               32561 non-null int64\n",
      "workclass         32561 non-null object\n",
      "fnlwgt            32561 non-null int64\n",
      "education         32561 non-null object\n",
      "education-num     32561 non-null int64\n",
      "marital-status    32561 non-null object\n",
      "occupation        32561 non-null object\n",
      "relationship      32561 non-null object\n",
      "race              32561 non-null object\n",
      "sex               32561 non-null object\n",
      "capital-gain      32561 non-null int64\n",
      "capital-loss      32561 non-null int64\n",
      "hours-per-week    32561 non-null int64\n",
      "native-country    32561 non-null object\n",
      "over50k           32561 non-null object\n",
      "dtypes: int64(6), object(9)\n",
      "memory usage: 3.7+ MB\n"
     ]
    }
   ],
   "source": [
    "# use info() function to view the missing values and dtype of each column\n",
    "original_data.info()"
   ]
  },
  {
   "cell_type": "code",
   "execution_count": 5,
   "metadata": {},
   "outputs": [
    {
     "data": {
      "text/html": [
       "<div>\n",
       "<style scoped>\n",
       "    .dataframe tbody tr th:only-of-type {\n",
       "        vertical-align: middle;\n",
       "    }\n",
       "\n",
       "    .dataframe tbody tr th {\n",
       "        vertical-align: top;\n",
       "    }\n",
       "\n",
       "    .dataframe thead th {\n",
       "        text-align: right;\n",
       "    }\n",
       "</style>\n",
       "<table border=\"1\" class=\"dataframe\">\n",
       "  <thead>\n",
       "    <tr style=\"text-align: right;\">\n",
       "      <th></th>\n",
       "      <th>age</th>\n",
       "      <th>fnlwgt</th>\n",
       "      <th>education-num</th>\n",
       "      <th>capital-gain</th>\n",
       "      <th>capital-loss</th>\n",
       "      <th>hours-per-week</th>\n",
       "    </tr>\n",
       "  </thead>\n",
       "  <tbody>\n",
       "    <tr>\n",
       "      <th>count</th>\n",
       "      <td>32,561.0000</td>\n",
       "      <td>32,561.0000</td>\n",
       "      <td>32,561.0000</td>\n",
       "      <td>32,561.0000</td>\n",
       "      <td>32,561.0000</td>\n",
       "      <td>32,561.0000</td>\n",
       "    </tr>\n",
       "    <tr>\n",
       "      <th>mean</th>\n",
       "      <td>38.5816</td>\n",
       "      <td>189,778.3665</td>\n",
       "      <td>10.0807</td>\n",
       "      <td>1,077.6488</td>\n",
       "      <td>87.3038</td>\n",
       "      <td>40.4375</td>\n",
       "    </tr>\n",
       "    <tr>\n",
       "      <th>std</th>\n",
       "      <td>13.6404</td>\n",
       "      <td>105,549.9777</td>\n",
       "      <td>2.5727</td>\n",
       "      <td>7,385.2921</td>\n",
       "      <td>402.9602</td>\n",
       "      <td>12.3474</td>\n",
       "    </tr>\n",
       "    <tr>\n",
       "      <th>min</th>\n",
       "      <td>17.0000</td>\n",
       "      <td>12,285.0000</td>\n",
       "      <td>1.0000</td>\n",
       "      <td>0.0000</td>\n",
       "      <td>0.0000</td>\n",
       "      <td>1.0000</td>\n",
       "    </tr>\n",
       "    <tr>\n",
       "      <th>25%</th>\n",
       "      <td>28.0000</td>\n",
       "      <td>117,827.0000</td>\n",
       "      <td>9.0000</td>\n",
       "      <td>0.0000</td>\n",
       "      <td>0.0000</td>\n",
       "      <td>40.0000</td>\n",
       "    </tr>\n",
       "    <tr>\n",
       "      <th>50%</th>\n",
       "      <td>37.0000</td>\n",
       "      <td>178,356.0000</td>\n",
       "      <td>10.0000</td>\n",
       "      <td>0.0000</td>\n",
       "      <td>0.0000</td>\n",
       "      <td>40.0000</td>\n",
       "    </tr>\n",
       "    <tr>\n",
       "      <th>75%</th>\n",
       "      <td>48.0000</td>\n",
       "      <td>237,051.0000</td>\n",
       "      <td>12.0000</td>\n",
       "      <td>0.0000</td>\n",
       "      <td>0.0000</td>\n",
       "      <td>45.0000</td>\n",
       "    </tr>\n",
       "    <tr>\n",
       "      <th>max</th>\n",
       "      <td>90.0000</td>\n",
       "      <td>1,484,705.0000</td>\n",
       "      <td>16.0000</td>\n",
       "      <td>99,999.0000</td>\n",
       "      <td>4,356.0000</td>\n",
       "      <td>99.0000</td>\n",
       "    </tr>\n",
       "  </tbody>\n",
       "</table>\n",
       "</div>"
      ],
      "text/plain": [
       "                                           age  \\\n",
       "count                              32,561.0000   \n",
       "mean                                   38.5816   \n",
       "std                                    13.6404   \n",
       "min                                    17.0000   \n",
       "25%                                    28.0000   \n",
       "50%                                    37.0000   \n",
       "75%                                    48.0000   \n",
       "max                                    90.0000   \n",
       "\n",
       "                                        fnlwgt  \\\n",
       "count                              32,561.0000   \n",
       "mean                              189,778.3665   \n",
       "std                               105,549.9777   \n",
       "min                                12,285.0000   \n",
       "25%                               117,827.0000   \n",
       "50%                               178,356.0000   \n",
       "75%                               237,051.0000   \n",
       "max                             1,484,705.0000   \n",
       "\n",
       "                                 education-num  \\\n",
       "count                              32,561.0000   \n",
       "mean                                   10.0807   \n",
       "std                                     2.5727   \n",
       "min                                     1.0000   \n",
       "25%                                     9.0000   \n",
       "50%                                    10.0000   \n",
       "75%                                    12.0000   \n",
       "max                                    16.0000   \n",
       "\n",
       "                                  capital-gain  \\\n",
       "count                              32,561.0000   \n",
       "mean                                1,077.6488   \n",
       "std                                 7,385.2921   \n",
       "min                                     0.0000   \n",
       "25%                                     0.0000   \n",
       "50%                                     0.0000   \n",
       "75%                                     0.0000   \n",
       "max                                99,999.0000   \n",
       "\n",
       "                                  capital-loss  \\\n",
       "count                              32,561.0000   \n",
       "mean                                   87.3038   \n",
       "std                                   402.9602   \n",
       "min                                     0.0000   \n",
       "25%                                     0.0000   \n",
       "50%                                     0.0000   \n",
       "75%                                     0.0000   \n",
       "max                                 4,356.0000   \n",
       "\n",
       "                                hours-per-week  \n",
       "count                              32,561.0000  \n",
       "mean                                   40.4375  \n",
       "std                                    12.3474  \n",
       "min                                     1.0000  \n",
       "25%                                    40.0000  \n",
       "50%                                    40.0000  \n",
       "75%                                    45.0000  \n",
       "max                                    99.0000  "
      ]
     },
     "execution_count": 5,
     "metadata": {},
     "output_type": "execute_result"
    }
   ],
   "source": [
    "# To inspect the numeric values, use describe(include=[np.number]) or describe()\n",
    "original_data.describe(include=[np.number])"
   ]
  },
  {
   "cell_type": "code",
   "execution_count": 6,
   "metadata": {},
   "outputs": [
    {
     "data": {
      "text/html": [
       "<div>\n",
       "<style scoped>\n",
       "    .dataframe tbody tr th:only-of-type {\n",
       "        vertical-align: middle;\n",
       "    }\n",
       "\n",
       "    .dataframe tbody tr th {\n",
       "        vertical-align: top;\n",
       "    }\n",
       "\n",
       "    .dataframe thead th {\n",
       "        text-align: right;\n",
       "    }\n",
       "</style>\n",
       "<table border=\"1\" class=\"dataframe\">\n",
       "  <thead>\n",
       "    <tr style=\"text-align: right;\">\n",
       "      <th></th>\n",
       "      <th>workclass</th>\n",
       "      <th>education</th>\n",
       "      <th>marital-status</th>\n",
       "      <th>occupation</th>\n",
       "      <th>relationship</th>\n",
       "      <th>race</th>\n",
       "      <th>sex</th>\n",
       "      <th>native-country</th>\n",
       "      <th>over50k</th>\n",
       "    </tr>\n",
       "  </thead>\n",
       "  <tbody>\n",
       "    <tr>\n",
       "      <th>count</th>\n",
       "      <td>32561</td>\n",
       "      <td>32561</td>\n",
       "      <td>32561</td>\n",
       "      <td>32561</td>\n",
       "      <td>32561</td>\n",
       "      <td>32561</td>\n",
       "      <td>32561</td>\n",
       "      <td>32561</td>\n",
       "      <td>32561</td>\n",
       "    </tr>\n",
       "    <tr>\n",
       "      <th>unique</th>\n",
       "      <td>9</td>\n",
       "      <td>16</td>\n",
       "      <td>7</td>\n",
       "      <td>15</td>\n",
       "      <td>6</td>\n",
       "      <td>5</td>\n",
       "      <td>2</td>\n",
       "      <td>42</td>\n",
       "      <td>2</td>\n",
       "    </tr>\n",
       "    <tr>\n",
       "      <th>top</th>\n",
       "      <td>Private</td>\n",
       "      <td>HS-grad</td>\n",
       "      <td>Married-civ-spouse</td>\n",
       "      <td>Prof-specialty</td>\n",
       "      <td>Husband</td>\n",
       "      <td>White</td>\n",
       "      <td>Male</td>\n",
       "      <td>United-States</td>\n",
       "      <td>&lt;=50K</td>\n",
       "    </tr>\n",
       "    <tr>\n",
       "      <th>freq</th>\n",
       "      <td>22696</td>\n",
       "      <td>10501</td>\n",
       "      <td>14976</td>\n",
       "      <td>4140</td>\n",
       "      <td>13193</td>\n",
       "      <td>27816</td>\n",
       "      <td>21790</td>\n",
       "      <td>29170</td>\n",
       "      <td>24720</td>\n",
       "    </tr>\n",
       "  </tbody>\n",
       "</table>\n",
       "</div>"
      ],
      "text/plain": [
       "       workclass education      marital-status      occupation relationship  \\\n",
       "count      32561     32561               32561           32561        32561   \n",
       "unique         9        16                   7              15            6   \n",
       "top      Private   HS-grad  Married-civ-spouse  Prof-specialty      Husband   \n",
       "freq       22696     10501               14976            4140        13193   \n",
       "\n",
       "         race    sex native-country over50k  \n",
       "count   32561  32561          32561   32561  \n",
       "unique      5      2             42       2  \n",
       "top     White   Male  United-States   <=50K  \n",
       "freq    27816  21790          29170   24720  "
      ]
     },
     "execution_count": 6,
     "metadata": {},
     "output_type": "execute_result"
    }
   ],
   "source": [
    "# To inspect the objects (strings), use include=['O']. 'O' means OBJECT type.\n",
    "original_data.describe(include=['O'])"
   ]
  },
  {
   "cell_type": "markdown",
   "metadata": {},
   "source": [
    "The process of organising and cleaning data include the following steps:\n",
    "\n",
    "1. Split the `original_data` into two datasets corresponding to predictors `X` and the response variable `y`;\n",
    "2. Transform strings in the response variable into numeric (as `sklearn` don't like strings);\n",
    "3. Transform strings in the predictors into binary values using one-hot encoding;\n",
    "4. Split the datasets into training set and testing set."
   ]
  },
  {
   "cell_type": "markdown",
   "metadata": {},
   "source": [
    "As you will notice, the data you have been provided with an indicator stating whether the individual does or does not earn over $50000 per annum. Our objective here is to establish the relationship between an individual's characteristics and whether their annual income is above 50k.\n",
    "\n",
    "But to get their, we need to start splitting up our dataset. We need one dataset containing our attribute data, and we need one dataset containing our classifications. We'll eventually pass both of these to the classifier so that it can identify the classification relationship.\n",
    "\n",
    "So first, we will create our attribute dataset. **Create a new dataframe called `data` that includes all variables from `original_data` except the `over50k` attribute. Remember to check the contents of your new dataframe to ensure this is the case.**"
   ]
  },
  {
   "cell_type": "code",
   "execution_count": 7,
   "metadata": {},
   "outputs": [],
   "source": [
    "# X and y dataset\n",
    "data = original_data.drop('over50k', axis=1)\n",
    "y = original_data['over50k']"
   ]
  },
  {
   "cell_type": "markdown",
   "metadata": {},
   "source": [
    "Now we will transform the `y` dataset into numeric. To do this, we'll use our first tool from `sklearn`, the `LabelEncoder`. This usefully takes a column of data and transforms it into the format required for our `sklearn` classifiers. We can use the `le` encoder we create here later on to reverse the encoding.\n",
    "\n",
    "`LabelEncoder` would transform a variable into integers between 0 and n_classes-1, with n_classes representing the number of different values in this variable. For example, if a variable of `fruit` contains three different values `[pear, apple, orange]`, it may be transformed by assigning `pear=1`, `apple=2`, `orange=3`. \n",
    "\n",
    "Please note that this transformation does not change the variable type - it is still a nominal level. Since you can't say `orange` is larger than `pear`, you can't say `2` is larger than `0` in the new variable. If you want to know more about different measurement levels (nominal/ordinal/interval/ratio), [this link](https://en.wikipedia.org/wiki/Level_of_measurement) is helpful.\n",
    "\n",
    "Note that this encoder should be used to encode the response variable, i.e. `y`, and not the input `X`. "
   ]
  },
  {
   "cell_type": "code",
   "execution_count": 8,
   "metadata": {},
   "outputs": [
    {
     "data": {
      "text/plain": [
       "<=50K    24720\n",
       ">50K      7841\n",
       "Name: over50k, dtype: int64"
      ]
     },
     "execution_count": 8,
     "metadata": {},
     "output_type": "execute_result"
    }
   ],
   "source": [
    "# inspect the variable of 'over50k'\n",
    "original_data['over50k'].value_counts()"
   ]
  },
  {
   "cell_type": "markdown",
   "metadata": {},
   "source": [
    "**Run the scripts below to first import the `LabelEncoder` tool, and then create the labels dataset from the `over50k` class column.** "
   ]
  },
  {
   "cell_type": "code",
   "execution_count": 9,
   "metadata": {},
   "outputs": [],
   "source": [
    "from sklearn.preprocessing import LabelEncoder"
   ]
  },
  {
   "cell_type": "code",
   "execution_count": 10,
   "metadata": {},
   "outputs": [],
   "source": [
    "le = LabelEncoder() # creates the LabelEncoder object\n",
    "le.fit(['<=50K','>50K']) # this gives you control on the order. Here, '<=50K' and '>50K' would be encoded as 0 and 1 respectively.\n",
    "labels_fea = le.transform(original_data['over50k']) # runs LabelEncoder on the over50k column"
   ]
  },
  {
   "cell_type": "code",
   "execution_count": 11,
   "metadata": {},
   "outputs": [
    {
     "data": {
      "text/plain": [
       "0    24720\n",
       "1     7841\n",
       "dtype: int64"
      ]
     },
     "execution_count": 11,
     "metadata": {},
     "output_type": "execute_result"
    }
   ],
   "source": [
    "# again, inspect the result. Note that labels_fea is of the type 'ndarray' rahter than pd.Series or pd.DataFrame\n",
    "pd.Series(labels_fea).value_counts()"
   ]
  },
  {
   "cell_type": "markdown",
   "metadata": {},
   "source": [
    "Now we have our dataset and our labels. Good to go right? Well not quite yet. \n",
    "\n",
    "As you will have understood by now, in analysing data a great deal of effort is spent on converting our raw data into the right format to begin with. Well, unfortunately, our classifiers do not play well with text data, and so before we go on we must convert our data into something that can be used by our classifers. \n",
    "\n",
    "We do this by converting each categorical attribute (of the type 'object') into a range of additional boolean columns representing each category, marked with 1s or 0s. This doesn't change the structure of the dataset as the boolean values will continue to to distinguish between features.\n",
    "\n",
    "Once again, we use a `sklearn` library to execute this stage. In this case, we use `DictVectorizer`. `DictVectorizer` takes our data as a series of dictionaries, and transforms it into a matrix, free of categorical data. This step is illustrated as follows.\n",
    "![example_DictVectorizer](example_DictVectorizer.png)"
   ]
  },
  {
   "cell_type": "markdown",
   "metadata": {},
   "source": [
    "**Run through the following commands.** Starting with our importing of the `DictVectorizer` library."
   ]
  },
  {
   "cell_type": "code",
   "execution_count": 12,
   "metadata": {},
   "outputs": [],
   "source": [
    "from sklearn.feature_extraction import DictVectorizer"
   ]
  },
  {
   "cell_type": "markdown",
   "metadata": {},
   "source": [
    "Now we convert our attribute data to an array of dictionaries for the `DictVectorizer`. We use the `Pandas` `to_dict()` function for this. The `'records'` flag ensures that the attribute dataset is converted into an array of dictionaries, where each dictionary represents a single data record.\n",
    "\n",
    "**Run the script to create the dictionaries, and verify the data by checking the first entry.**"
   ]
  },
  {
   "cell_type": "code",
   "execution_count": 13,
   "metadata": {},
   "outputs": [
    {
     "name": "stdout",
     "output_type": "stream",
     "text": [
      "{'age': 50, 'workclass': 'Self-emp-not-inc', 'fnlwgt': 83311, 'education': 'Bachelors', 'education-num': 13, 'marital-status': 'Married-civ-spouse', 'occupation': 'Exec-managerial', 'relationship': 'Husband', 'race': 'White', 'sex': 'Male', 'capital-gain': 0, 'capital-loss': 0, 'hours-per-week': 13, 'native-country': 'United-States'}\n"
     ]
    }
   ],
   "source": [
    "data_dict = data.to_dict('record')\n",
    "print(data_dict[1])"
   ]
  },
  {
   "cell_type": "markdown",
   "metadata": {},
   "source": [
    "**Now we run the `DictVectorizer` to extract the matrix.** This is a very simple procedure, and note below how the commands needed to run this are very similar to those used earlier."
   ]
  },
  {
   "cell_type": "code",
   "execution_count": 14,
   "metadata": {},
   "outputs": [],
   "source": [
    "vec = DictVectorizer()  # create the DictVectorizer object\n",
    "data_mat = vec.fit_transform(data_dict)  # execute process on the record dictionaries"
   ]
  },
  {
   "cell_type": "markdown",
   "metadata": {},
   "source": [
    "The matrix `data_mat` does not contain the variable names. The variable names and the mapping from variable names to variable indices in the matrix are stored in the DictVectorizer `vec`."
   ]
  },
  {
   "cell_type": "code",
   "execution_count": 15,
   "metadata": {},
   "outputs": [
    {
     "name": "stdout",
     "output_type": "stream",
     "text": [
      "['age', 'capital-gain', 'capital-loss', 'education-num', 'education=10th']\n",
      "{'age': 0, 'workclass=State-gov': 106, 'fnlwgt': 20, 'education=Bachelors': 13, 'education-num': 3, 'marital-status=Never-married': 26, 'occupation=Adm-clerical': 72, 'relationship=Not-in-family': 92, 'race=White': 90, 'sex=Male': 98, 'capital-gain': 1, 'capital-loss': 2, 'hours-per-week': 21, 'native-country=United-States': 68, 'workclass=Self-emp-not-inc': 105, 'marital-status=Married-civ-spouse': 24, 'occupation=Exec-managerial': 75, 'relationship=Husband': 91, 'workclass=Private': 103, 'education=HS-grad': 15, 'marital-status=Divorced': 22, 'occupation=Handlers-cleaners': 77, 'education=11th': 5, 'race=Black': 88, 'occupation=Prof-specialty': 81, 'relationship=Wife': 96, 'sex=Female': 97, 'native-country=Cuba': 34, 'education=Masters': 16, 'education=9th': 10, 'marital-status=Married-spouse-absent': 25, 'occupation=Other-service': 79, 'native-country=Jamaica': 52, 'education=Some-college': 19, 'race=Asian-Pac-Islander': 87, 'native-country=India': 48, 'relationship=Own-child': 94, 'education=Assoc-acdm': 11, 'occupation=Sales': 83, 'education=Assoc-voc': 12, 'occupation=Craft-repair': 74, 'native-country=?': 29, 'education=7th-8th': 9, 'occupation=Transport-moving': 85, 'race=Amer-Indian-Eskimo': 86, 'native-country=Mexico': 55, 'occupation=Farming-fishing': 76, 'occupation=Machine-op-inspct': 78, 'relationship=Unmarried': 95, 'education=Doctorate': 14, 'marital-status=Separated': 27, 'workclass=Federal-gov': 100, 'occupation=Tech-support': 84, 'workclass=Local-gov': 101, 'workclass=?': 99, 'occupation=?': 71, 'native-country=South': 64, 'occupation=Protective-serv': 82, 'native-country=Puerto-Rico': 62, 'marital-status=Married-AF-spouse': 23, 'race=Other': 89, 'education=Prof-school': 18, 'native-country=Honduras': 45, 'workclass=Self-emp-inc': 104, 'education=5th-6th': 8, 'relationship=Other-relative': 93, 'education=10th': 4, 'native-country=England': 38, 'native-country=Canada': 31, 'native-country=Germany': 40, 'native-country=Iran': 49, 'marital-status=Widowed': 28, 'native-country=Philippines': 59, 'education=1st-4th': 7, 'native-country=Italy': 51, 'native-country=Poland': 60, 'education=Preschool': 17, 'native-country=Columbia': 33, 'native-country=Cambodia': 30, 'native-country=Thailand': 66, 'native-country=Ecuador': 36, 'native-country=Laos': 54, 'native-country=Taiwan': 65, 'native-country=Haiti': 43, 'native-country=Portugal': 61, 'education=12th': 6, 'native-country=Dominican-Republic': 35, 'occupation=Armed-Forces': 73, 'native-country=El-Salvador': 37, 'native-country=France': 39, 'occupation=Priv-house-serv': 80, 'native-country=Guatemala': 42, 'native-country=China': 32, 'native-country=Japan': 53, 'native-country=Yugoslavia': 70, 'native-country=Peru': 58, 'native-country=Outlying-US(Guam-USVI-etc)': 57, 'native-country=Scotland': 63, 'native-country=Trinadad&Tobago': 67, 'native-country=Greece': 41, 'workclass=Without-pay': 107, 'native-country=Nicaragua': 56, 'native-country=Vietnam': 69, 'native-country=Hong': 46, 'native-country=Ireland': 50, 'workclass=Never-worked': 102, 'native-country=Hungary': 47, 'native-country=Holand-Netherlands': 44}\n"
     ]
    }
   ],
   "source": [
    "# inspect the variable names. 108 variables in total\n",
    "# to view the first five names\n",
    "print(vec.feature_names_[0:5])\n",
    "# and the mapping of variable names to indices\n",
    "print(vec.vocabulary_)"
   ]
  },
  {
   "cell_type": "markdown",
   "metadata": {},
   "source": [
    "**Now check `data_mat` to see how widely the dataset has been expanded (remember it consisted of 14 attributes before). Then convert the matrix into an array for loading into the classifers.**"
   ]
  },
  {
   "cell_type": "code",
   "execution_count": 16,
   "metadata": {},
   "outputs": [
    {
     "name": "stdout",
     "output_type": "stream",
     "text": [
      "(32561, 108)\n",
      "<class 'scipy.sparse.csr.csr_matrix'>\n"
     ]
    }
   ],
   "source": [
    "print(data_mat.shape)\n",
    "print(type(data_mat))"
   ]
  },
  {
   "cell_type": "code",
   "execution_count": 17,
   "metadata": {},
   "outputs": [
    {
     "name": "stdout",
     "output_type": "stream",
     "text": [
      "(32561, 108)\n",
      "<class 'numpy.ndarray'>\n"
     ]
    }
   ],
   "source": [
    "data_array = data_mat.toarray() \n",
    "print(data_array.shape)\n",
    "print(type(data_array))"
   ]
  },
  {
   "cell_type": "markdown",
   "metadata": {},
   "source": [
    "The final stage in data processing involves splitting the prepared dataset into training and testing subsets. The training data will be used to create the classifier. The testing data will then be used to test the accuracy of a the classification. \n",
    "\n",
    "**IMPORTANT**: Splitting the dataset up in this way is an important step. It tests how well the classifier performs against data it hasn't yet seen. This gives a good picture of how well the classifier may work in future. However, remember that we are drawing both training and testing data from the same sample, and so future datasets may not align with the same biases.\n",
    "\n",
    "Once more, we have a useful tool is `scikit` to enable this. The `train_test_split` method (surprisingly named) randomly splits our attribute and label data into training and testing subsets. Not only does this provide us with  formats to be loaded directly into our classifers, but the random split ensures a good mixing of the records. \n",
    "\n",
    "The process is quite straightforward. **We load in the `train_test_split` method and run it against our attribute and label arrays.**\n",
    "\n",
    "Note: `train_test_split` will split the data according to a 75:25 split, roughly in line with convention. However, other proportions can be specified, check out the [documentation](http://scikit-learn.org/stable/modules/generated/sklearn.cross_validation.train_test_split.html) for details."
   ]
  },
  {
   "cell_type": "code",
   "execution_count": 18,
   "metadata": {},
   "outputs": [],
   "source": [
    "from sklearn.model_selection import train_test_split"
   ]
  },
  {
   "cell_type": "code",
   "execution_count": 19,
   "metadata": {},
   "outputs": [],
   "source": [
    "train_d, test_d, train_lab, test_lab = train_test_split(data_array, labels_fea)"
   ]
  },
  {
   "cell_type": "markdown",
   "metadata": {},
   "source": [
    "**Check the lengths of the training and testing datasets.**"
   ]
  },
  {
   "cell_type": "code",
   "execution_count": 20,
   "metadata": {},
   "outputs": [
    {
     "name": "stdout",
     "output_type": "stream",
     "text": [
      "(24420, 108)\n",
      "(8141, 108)\n"
     ]
    }
   ],
   "source": [
    "print(train_d.shape)\n",
    "print(test_d.shape)"
   ]
  },
  {
   "cell_type": "markdown",
   "metadata": {},
   "source": [
    "We are now ready to start creating our classifiers."
   ]
  },
  {
   "cell_type": "markdown",
   "metadata": {},
   "source": [
    "### k-Nearest Neighbour Classification"
   ]
  },
  {
   "cell_type": "markdown",
   "metadata": {},
   "source": [
    "The first classifier will use is the *k-Nearest Neighbour* (kNN) classifier. This is a very simple method by which tested points are classified according to their proximity (in terms of attribute distance) to points that were seen during training. \n",
    "\n",
    "In this section, we will show you how to use the *k*NN classifer in `sklearn`, as well as going into detail about how you can assess the quality of the classification as part of your validation.\n",
    "\n",
    "**IMPORTANT**: Many of the `sklearn` classification methods use a very similar syntax. We will show you how to use *k*NN, but you will have to work out how to use the others. On completion, we expect you to be able to say which of the four classifiers you will test performs best in predicting whether the individuals in our test dataset earn more or less than $50k per annum."
   ]
  },
  {
   "cell_type": "markdown",
   "metadata": {},
   "source": [
    "Across all `scikit` classifiers, a similar process and form of syntax is used. \n",
    "\n",
    "1. First, we load the library. \n",
    "2. Then, we create the classifier object, and specify any important parameters.\n",
    "3. We run the `.fit()` method, sending the classifier our training dataset and accompanying labels.\n",
    "4. We analyse the validate with the `.score()` method, sending the classifier our testing dataset and accompanying labels.\n",
    "\n",
    "Let's work through this method for the *k*NN classifer.\n",
    "\n",
    "**First, we import the relevant library from `sklearn`.**"
   ]
  },
  {
   "cell_type": "code",
   "execution_count": 21,
   "metadata": {},
   "outputs": [],
   "source": [
    "from sklearn.neighbors import KNeighborsClassifier"
   ]
  },
  {
   "cell_type": "markdown",
   "metadata": {},
   "source": [
    "Now, we create the classifier object and give it a name (`knn` in our case), and run it. \n",
    "\n",
    "On creating the object, we specify any important parameters. To understand what parameters are needed requires understanding the method and the syntax. It is worth you reading the `scikit` documentation on *k*NN at this point, which will provide you details on how to execute the method. \n",
    "\n",
    "[This page](http://scikit-learn.org/stable/modules/neighbors.html#nearest-neighbors-classification) is a general description of the method. Whereas [this page](http://scikit-learn.org/stable/modules/generated/sklearn.neighbors.KNeighborsClassifier.html) outlines all of the parameters and methods associated with the `KNeighborsClassifier` method. You'll need to check the documentation for any classifer you use.\n",
    "\n",
    "As you will recall, an important element of the *k*NN approach is the specification of how many neighbours to consider when making the classification. You can see below how this parameter is defined.\n",
    "\n",
    "You'll see from the script below that running this process is very similar to the creation of clusters and regression models last week. **Before you run the script, add in a script to time how long the `.fit()` takes to execute, you'll do the same with other classifiers by way of comparison.**"
   ]
  },
  {
   "cell_type": "code",
   "execution_count": 22,
   "metadata": {},
   "outputs": [
    {
     "name": "stdout",
     "output_type": "stream",
     "text": [
      "1.50575590133667\n"
     ]
    }
   ],
   "source": [
    "# add timing script\n",
    "import time\n",
    "start_time = time.time()\n",
    "clf_knn = KNeighborsClassifier(n_neighbors=60)  # creates the kNN classifier, setting it to check the 60 neighbouring points\n",
    "clf_knn.fit(train_d, train_lab)  # executes the classifier on the training dataset\n",
    "end_time = time.time()\n",
    "# print the time difference in seconds\n",
    "print(end_time - start_time)"
   ]
  },
  {
   "cell_type": "markdown",
   "metadata": {},
   "source": [
    "Now, finally, we test how well the classifier predicts the classes of our test dataset. For this stage, we send the test data and labels to the `.score()` function. This outputs a number representing the proportion of classes correctly guessed by the classifer. It requires you to pass it both the test data and test labels.\n",
    "\n",
    "**Run the script below to see how well *kNN* performs in this case.** The score metric is the mean accuracy of classification."
   ]
  },
  {
   "cell_type": "code",
   "execution_count": 23,
   "metadata": {},
   "outputs": [
    {
     "data": {
      "text/plain": [
       "0.7937599803463948"
      ]
     },
     "execution_count": 23,
     "metadata": {},
     "output_type": "execute_result"
    }
   ],
   "source": [
    "clf_knn.score(test_d, test_lab)"
   ]
  },
  {
   "cell_type": "markdown",
   "metadata": {},
   "source": [
    "Well done, you've created and tested a classifer. And the classifier seems to do pretty well. In any future event, given a load more data we'll be able to predict the salary class of an individual with an expected accuracy of 79%, right? Well, hold on there, we better do some further tests just to check how good this score actually is..."
   ]
  },
  {
   "cell_type": "markdown",
   "metadata": {},
   "source": [
    "There are a number of other important ways to assess the quality of your classifier that you should be aware of."
   ]
  },
  {
   "cell_type": "markdown",
   "metadata": {},
   "source": [
    "First, you can generate a set of predictions for each record, done using the `.predict()` method. Like `.score()`, this generates classes for a test dataset, but does take a set of labels. You will use this method in classifying any future unlabelled dataset you wish to classify.\n",
    "\n",
    "**The predictions are recorded within an array using the script below.**"
   ]
  },
  {
   "cell_type": "code",
   "execution_count": 24,
   "metadata": {},
   "outputs": [],
   "source": [
    "test_pred_knn = clf_knn.predict(test_d)"
   ]
  },
  {
   "cell_type": "markdown",
   "metadata": {},
   "source": [
    "If you look at `predictions`, however, you'll find just 0s and 1s, as these relate to the outputs generated by `LabelEncoder` earlier. We can compare `predictions` against `test_lab` to get more details of the classification.\n",
    "\n",
    "Second, we can use the `scikit` `metrics` library, which provides a range of measures relating to the predictive power of your classifier. For example, we can use a confusion matrix to inspect the result. "
   ]
  },
  {
   "cell_type": "code",
   "execution_count": 25,
   "metadata": {},
   "outputs": [],
   "source": [
    "from sklearn import metrics\n",
    "confusion_matrix = metrics.confusion_matrix(test_lab, test_pred_knn)"
   ]
  },
  {
   "cell_type": "markdown",
   "metadata": {},
   "source": [
    "**Now, create the confusion matrix. Does this seem clearer? Where is the majority of the error in the classification?** You can read more about the confusion matrix [here](http://scikit-learn.org/stable/modules/model_evaluation.html#confusion-matrix)."
   ]
  },
  {
   "cell_type": "code",
   "execution_count": 26,
   "metadata": {},
   "outputs": [
    {
     "data": {
      "image/png": "[encoded data removed]",
      "text/plain": [
       "<Figure size 288x288 with 2 Axes>"
      ]
     },
     "metadata": {
      "needs_background": "light"
     },
     "output_type": "display_data"
    }
   ],
   "source": [
    "plt.matshow(confusion_matrix)\n",
    "plt.title('Confusion matrix')\n",
    "plt.colorbar()\n",
    "plt.ylabel('True label')\n",
    "plt.xlabel('Predicted label')\n",
    "plt.show()"
   ]
  },
  {
   "cell_type": "markdown",
   "metadata": {},
   "source": [
    "While these measures above provide an overview of the classifier quality, other measures made available in the `metrics` toolset enable a more detailed understanding. Many of the most important measures can be extracted using the `classification_report()` method, which again takes correct labels and compares them against the classifier predictions.\n",
    "\n",
    "These metrics, called `precision`, `recall` and `f1`, all measure how well a classifier does in predicting each class relative to how often it is incorrect. As such, it allows us to identify the prediction classes where it performs well and where it performs poorly. \n",
    "\n",
    "**Before executing the code below, look at the [documentation](http://scikit-learn.org/stable/modules/model_evaluation.html#the-scoring-parameter-defining-model-evaluation-rules) here to gain a little understanding of these measures**"
   ]
  },
  {
   "cell_type": "code",
   "execution_count": 27,
   "metadata": {},
   "outputs": [
    {
     "name": "stdout",
     "output_type": "stream",
     "text": [
      "              precision    recall  f1-score   support\n",
      "\n",
      "           0       0.79      1.00      0.88      6170\n",
      "           1       0.97      0.15      0.26      1971\n",
      "\n",
      "    accuracy                           0.79      8141\n",
      "   macro avg       0.88      0.58      0.57      8141\n",
      "weighted avg       0.83      0.79      0.73      8141\n",
      "\n"
     ]
    }
   ],
   "source": [
    "print (metrics.classification_report(test_lab, test_pred_knn))"
   ]
  },
  {
   "cell_type": "markdown",
   "metadata": {},
   "source": [
    "The most striking of these results is that the classifier performs very poorly in identifying individuals earning over $50000 per annum. We can see this from the very low recall score of 0.15, which means that given 100 individuals over 50k per annum, the classifier is able to identify only 15 out of them. **This should be a concern to us**, given that were our future samples to contain many more individuals within this category, our classifier would not be equipped to identify them. Our initial excitement about the quality of this classifier may have been misplaced."
   ]
  },
  {
   "cell_type": "markdown",
   "metadata": {},
   "source": [
    "In the next step, we will try to optimise the kNN classifier using cross-validation and the training data (not the **testing** data). In this case, the objective is to find the optimal `k` value, which is hyperparameter in the model. \n",
    "\n",
    "This will be done using the `GridSearchCV` object. This object implements a cross-validated grid search over a parameter grid, and uses 5-fold cross validation by default. The documentation of `GridSearchCV` is [here](https://scikit-learn.org/stable/modules/generated/sklearn.model_selection.GridSearchCV.html).\n",
    "\n",
    "The grid search may be quite slow. Can you estimate how many kNN models are trained? Hint: it is 2 * 6 * 5 = 60."
   ]
  },
  {
   "cell_type": "code",
   "execution_count": 28,
   "metadata": {},
   "outputs": [
    {
     "name": "stdout",
     "output_type": "stream",
     "text": [
      "# Tuning hyper-parameters for precision\n",
      "\n",
      "Best parameters set found on development set:\n",
      "\n",
      "{'n_neighbors': 200}\n",
      "\n",
      "Grid scores on development set:\n",
      "\n",
      "0.781 (+/-0.021) for {'n_neighbors': 10}\n",
      "0.828 (+/-0.025) for {'n_neighbors': 20}\n",
      "0.868 (+/-0.016) for {'n_neighbors': 50}\n",
      "0.881 (+/-0.009) for {'n_neighbors': 100}\n",
      "0.883 (+/-0.005) for {'n_neighbors': 200}\n",
      "0.881 (+/-0.001) for {'n_neighbors': 500}\n",
      "# Tuning hyper-parameters for recall\n",
      "\n",
      "Best parameters set found on development set:\n",
      "\n",
      "{'n_neighbors': 10}\n",
      "\n",
      "Grid scores on development set:\n",
      "\n",
      "0.595 (+/-0.012) for {'n_neighbors': 10}\n",
      "0.587 (+/-0.014) for {'n_neighbors': 20}\n",
      "0.569 (+/-0.014) for {'n_neighbors': 50}\n",
      "0.548 (+/-0.007) for {'n_neighbors': 100}\n",
      "0.527 (+/-0.005) for {'n_neighbors': 200}\n",
      "0.507 (+/-0.004) for {'n_neighbors': 500}\n"
     ]
    }
   ],
   "source": [
    "from sklearn.model_selection import GridSearchCV\n",
    "# Set the parameters by cross-validation\n",
    "\n",
    "tuned_parameters = [{'n_neighbors': [10, 20, 50, 100, 200, 500]}]\n",
    "\n",
    "\n",
    "scores = ['precision', 'recall']\n",
    "for score in scores:\n",
    "    print(\"# Tuning hyper-parameters for %s\" % score)\n",
    "    print()\n",
    "\n",
    "    clf = GridSearchCV(\n",
    "        KNeighborsClassifier(), tuned_parameters, scoring='%s_macro' % score\n",
    "    )\n",
    "    clf.fit(train_d, train_lab)\n",
    "\n",
    "    print(\"Best parameters set found on development set:\")\n",
    "    print()\n",
    "    print(clf.best_params_)\n",
    "    print()\n",
    "    print(\"Grid scores on development set:\")\n",
    "    print()\n",
    "    means = clf.cv_results_['mean_test_score']\n",
    "    stds = clf.cv_results_['std_test_score']\n",
    "    for mean, std, params in zip(means, stds, clf.cv_results_['params']):\n",
    "        print(\"%0.3f (+/-%0.03f) for %r\"\n",
    "              % (mean, std * 2, params))\n"
   ]
  },
  {
   "cell_type": "markdown",
   "metadata": {},
   "source": [
    "The above results suggest that if the focus of the classification is on `precision`, the best parameter value of `n_neighbors` is `200`. On the other hand, if the focus is on `recall`, the best value of `n_neighbors` would be `10`.\n",
    "\n",
    "**What do you think of the results? Can you rerun the grid search using `f1` as the score?** [This link](https://scikit-learn.org/stable/modules/model_evaluation.html#scoring-parameter) might be helpful."
   ]
  },
  {
   "cell_type": "markdown",
   "metadata": {},
   "source": [
    "### Logistic Regression"
   ]
  },
  {
   "cell_type": "markdown",
   "metadata": {},
   "source": [
    "We will switch to logistic regression for this case. Before you start, check the [documentation](https://scikit-learn.org/stable/modules/generated/sklearn.linear_model.LogisticRegression.html) here.\n",
    "\n",
    "This class implements regularised logistric regression. Note that L2 norm regularisation is applied by default. The idea behind this is similar to that of **LASSO**."
   ]
  },
  {
   "cell_type": "code",
   "execution_count": 29,
   "metadata": {},
   "outputs": [],
   "source": [
    "from sklearn.linear_model import LogisticRegression\n",
    "# we set random_state as 0 to make the result reproducible\n",
    "# we set max_iter as 10^7 in order to guarantee convergence\n",
    "\n",
    "clf_logit_reg = LogisticRegression(random_state=0, max_iter=10e7).fit(train_d, train_lab)"
   ]
  },
  {
   "cell_type": "markdown",
   "metadata": {},
   "source": [
    "Now we can test the model using the testing data using the same process as the kNN classifier."
   ]
  },
  {
   "cell_type": "code",
   "execution_count": 30,
   "metadata": {},
   "outputs": [
    {
     "name": "stdout",
     "output_type": "stream",
     "text": [
      "              precision    recall  f1-score   support\n",
      "\n",
      "           0       0.81      0.94      0.87      6170\n",
      "           1       0.65      0.33      0.43      1971\n",
      "\n",
      "    accuracy                           0.79      8141\n",
      "   macro avg       0.73      0.63      0.65      8141\n",
      "weighted avg       0.77      0.79      0.77      8141\n",
      "\n"
     ]
    }
   ],
   "source": [
    "test_pred_logit_reg = clf_logit_reg.predict(test_d)\n",
    "print (metrics.classification_report(test_lab, test_pred_logit_reg))"
   ]
  },
  {
   "cell_type": "markdown",
   "metadata": {},
   "source": [
    "**What do you think of this result?**"
   ]
  },
  {
   "cell_type": "markdown",
   "metadata": {},
   "source": [
    "### Decision Tree"
   ]
  },
  {
   "cell_type": "markdown",
   "metadata": {},
   "source": [
    "Another classification method you should try is the Decision Tree. \n",
    "\n",
    "The Decision Tree does not (necessarily) require any parameters when being setup so is quite easy to implement, just follow the same method and syntax used above. In this case, however, you'll be working with  `DecisionTreeClassifier` rather than `KNeighborsClassifier`.\n",
    "\n",
    "Before you start, check the [documentation](http://scikit-learn.org/stable/modules/tree.html#classification) here.\n",
    "\n",
    "**Now create a Decision Tree classifier for the same scenario and datasets used earlier** (you don't need to recreate the datasets, they are good to go already). We've given you the library import code below to get you started."
   ]
  },
  {
   "cell_type": "code",
   "execution_count": 31,
   "metadata": {},
   "outputs": [],
   "source": [
    "from sklearn.tree import DecisionTreeClassifier\n",
    "clf_decision_tree = DecisionTreeClassifier()  # creates the kNN classifier, setting it to check the 60 neighbouring points\n",
    "clf_decision_tree.fit(train_d, train_lab)\n",
    "test_pred_decision_tree = clf_decision_tree.predict(test_d)"
   ]
  },
  {
   "cell_type": "code",
   "execution_count": 32,
   "metadata": {},
   "outputs": [
    {
     "name": "stdout",
     "output_type": "stream",
     "text": [
      "              precision    recall  f1-score   support\n",
      "\n",
      "           0       0.88      0.88      0.88      6170\n",
      "           1       0.62      0.61      0.61      1971\n",
      "\n",
      "    accuracy                           0.82      8141\n",
      "   macro avg       0.75      0.74      0.75      8141\n",
      "weighted avg       0.81      0.82      0.82      8141\n",
      "\n"
     ]
    }
   ],
   "source": [
    "print (metrics.classification_report(test_lab, test_pred_decision_tree))"
   ]
  },
  {
   "cell_type": "markdown",
   "metadata": {},
   "source": [
    "**From the result, do you think that the Decision Tree outperforms the *k*NN approach?**"
   ]
  },
  {
   "cell_type": "markdown",
   "metadata": {},
   "source": [
    "Now we will output the tree structure using `tree.plot_tree`. It may take several minutes to complete.\n",
    "\n",
    "To simplify the tree structure, we will retrain a tree with a maximum depth of five."
   ]
  },
  {
   "cell_type": "code",
   "execution_count": 33,
   "metadata": {},
   "outputs": [
    {
     "data": {
      "image/png": "[encoded data removed]",
      "text/plain": [
       "<Figure size 2880x1440 with 1 Axes>"
      ]
     },
     "metadata": {
      "needs_background": "light"
     },
     "output_type": "display_data"
    },
    {
     "name": "stdout",
     "output_type": "stream",
     "text": [
      "2.6241886615753174\n"
     ]
    }
   ],
   "source": [
    "# the code is based on this link: https://stackoverflow.com/a/59517013/4667568\n",
    "decision_tree_depth_5 = DecisionTreeClassifier(max_depth=5)\n",
    "decision_tree_depth_5.fit(train_d, train_lab)\n",
    "\n",
    "plt.figure(figsize=(40,20))  # customize according to the size of your tree. If you can't see the tree clearly, you may change the size\n",
    "\n",
    "from sklearn import tree\n",
    "start_time = time.time()\n",
    "\n",
    "# vec.feature_names_ represents the variable names\n",
    "_ = tree.plot_tree(decision_tree_depth_5, feature_names = vec.feature_names_)\n",
    "# if you want to save the picture to a file, add this line before plt.show()\n",
    "plt.savefig('decision_tree.png')\n",
    "\n",
    "plt.show()\n",
    "\n",
    "end_time = time.time()\n",
    "print(end_time - start_time)\n"
   ]
  },
  {
   "cell_type": "markdown",
   "metadata": {},
   "source": [
    "We can also view the rules in text format, which is more intuitive to read."
   ]
  },
  {
   "cell_type": "code",
   "execution_count": 34,
   "metadata": {},
   "outputs": [
    {
     "name": "stdout",
     "output_type": "stream",
     "text": [
      "|--- marital-status=Married-civ-spouse <= 0.50\n",
      "|   |--- capital-gain <= 7073.50\n",
      "|   |   |--- education-num <= 12.50\n",
      "|   |   |   |--- capital-loss <= 2218.50\n",
      "|   |   |   |   |--- hours-per-week <= 45.50\n",
      "|   |   |   |   |   |--- class: 0\n",
      "|   |   |   |   |--- hours-per-week >  45.50\n",
      "|   |   |   |   |   |--- class: 0\n",
      "|   |   |   |--- capital-loss >  2218.50\n",
      "|   |   |   |   |--- fnlwgt <= 201739.00\n",
      "|   |   |   |   |   |--- class: 1\n",
      "|   |   |   |   |--- fnlwgt >  201739.00\n",
      "|   |   |   |   |   |--- class: 0\n",
      "|   |   |--- education-num >  12.50\n",
      "|   |   |   |--- hours-per-week <= 43.50\n",
      "|   |   |   |   |--- age <= 33.50\n",
      "|   |   |   |   |   |--- class: 0\n",
      "|   |   |   |   |--- age >  33.50\n",
      "|   |   |   |   |   |--- class: 0\n",
      "|   |   |   |--- hours-per-week >  43.50\n",
      "|   |   |   |   |--- age <= 27.50\n",
      "|   |   |   |   |   |--- class: 0\n",
      "|   |   |   |   |--- age >  27.50\n",
      "|   |   |   |   |   |--- class: 0\n",
      "|   |--- capital-gain >  7073.50\n",
      "|   |   |--- age <= 20.50\n",
      "|   |   |   |--- class: 0\n",
      "|   |   |--- age >  20.50\n",
      "|   |   |   |--- capital-gain <= 8296.00\n",
      "|   |   |   |   |--- education-num <= 11.50\n",
      "|   |   |   |   |   |--- class: 0\n",
      "|   |   |   |   |--- education-num >  11.50\n",
      "|   |   |   |   |   |--- class: 1\n",
      "|   |   |   |--- capital-gain >  8296.00\n",
      "|   |   |   |   |--- capital-gain <= 30961.50\n",
      "|   |   |   |   |   |--- class: 1\n",
      "|   |   |   |   |--- capital-gain >  30961.50\n",
      "|   |   |   |   |   |--- class: 1\n",
      "|--- marital-status=Married-civ-spouse >  0.50\n",
      "|   |--- education-num <= 12.50\n",
      "|   |   |--- capital-gain <= 5095.50\n",
      "|   |   |   |--- education-num <= 8.50\n",
      "|   |   |   |   |--- capital-loss <= 1791.50\n",
      "|   |   |   |   |   |--- class: 0\n",
      "|   |   |   |   |--- capital-loss >  1791.50\n",
      "|   |   |   |   |   |--- class: 0\n",
      "|   |   |   |--- education-num >  8.50\n",
      "|   |   |   |   |--- capital-loss <= 1782.50\n",
      "|   |   |   |   |   |--- class: 0\n",
      "|   |   |   |   |--- capital-loss >  1782.50\n",
      "|   |   |   |   |   |--- class: 1\n",
      "|   |   |--- capital-gain >  5095.50\n",
      "|   |   |   |--- age <= 60.50\n",
      "|   |   |   |   |--- class: 1\n",
      "|   |   |   |--- age >  60.50\n",
      "|   |   |   |   |--- fnlwgt <= 33015.50\n",
      "|   |   |   |   |   |--- class: 0\n",
      "|   |   |   |   |--- fnlwgt >  33015.50\n",
      "|   |   |   |   |   |--- class: 1\n",
      "|   |--- education-num >  12.50\n",
      "|   |   |--- capital-gain <= 5095.50\n",
      "|   |   |   |--- capital-loss <= 1794.00\n",
      "|   |   |   |   |--- hours-per-week <= 31.00\n",
      "|   |   |   |   |   |--- class: 0\n",
      "|   |   |   |   |--- hours-per-week >  31.00\n",
      "|   |   |   |   |   |--- class: 1\n",
      "|   |   |   |--- capital-loss >  1794.00\n",
      "|   |   |   |   |--- native-country=Iran <= 0.50\n",
      "|   |   |   |   |   |--- class: 1\n",
      "|   |   |   |   |--- native-country=Iran >  0.50\n",
      "|   |   |   |   |   |--- class: 0\n",
      "|   |   |--- capital-gain >  5095.50\n",
      "|   |   |   |--- age <= 84.50\n",
      "|   |   |   |   |--- occupation=Farming-fishing <= 0.50\n",
      "|   |   |   |   |   |--- class: 1\n",
      "|   |   |   |   |--- occupation=Farming-fishing >  0.50\n",
      "|   |   |   |   |   |--- class: 1\n",
      "|   |   |   |--- age >  84.50\n",
      "|   |   |   |   |--- education=Masters <= 0.50\n",
      "|   |   |   |   |   |--- class: 0\n",
      "|   |   |   |   |--- education=Masters >  0.50\n",
      "|   |   |   |   |   |--- class: 1\n",
      "\n"
     ]
    }
   ],
   "source": [
    "# the code is based on this link: https://stackoverflow.com/a/57335067/4667568\n",
    "from sklearn.tree import export_text\n",
    "tree_rules = export_text(decision_tree_depth_5, feature_names=vec.feature_names_)\n",
    "print(tree_rules)"
   ]
  },
  {
   "cell_type": "markdown",
   "metadata": {},
   "source": [
    "**Here is a question for you: can you tune the hyperparameters of `max_depth` and `min_sample_split` for the Decision Tree, using the `GridSearchCV` method?**"
   ]
  },
  {
   "cell_type": "markdown",
   "metadata": {},
   "source": [
    "### Random Forest Classifier"
   ]
  },
  {
   "cell_type": "markdown",
   "metadata": {},
   "source": [
    "Next, we will create a Random Forest classifier using an ensemble of many trees.\n",
    "\n",
    "Unlike the Decision Tree, the Random Forest requires you to specify a parameter called `n_estimators`. This parameter specifies how many trees should be created in the construction of the whole forest. The more trees you choose, the longer the classification process will take to run.\n",
    "\n",
    "So first, read up on the `sklearn` Random Forest method [here](http://scikit-learn.org/stable/modules/ensemble.html#forests-of-randomized-trees), and identify how you can set the `n_estimators` parameter and then follow through the same classifier creation and testing process used above.\n",
    "\n",
    "**How well does this model perform relative to the Decision Tree and *k*-Nearest Neighbour approaches? How does varying the number of trees impact on the quality and speed of prediction?**\n",
    "\n",
    "As with a single tree, you can inspect the structure and rules of each tree inside a random forest. A hint is that, if you have created and trained a `RandomForestClassifer` called `rf`, you can extract the first tree using `rf.estimators_[0]`."
   ]
  },
  {
   "cell_type": "code",
   "execution_count": 35,
   "metadata": {},
   "outputs": [],
   "source": [
    "from sklearn.ensemble import RandomForestClassifier"
   ]
  },
  {
   "cell_type": "markdown",
   "metadata": {},
   "source": [
    "### Support Vector Machines"
   ]
  },
  {
   "cell_type": "markdown",
   "metadata": {},
   "source": [
    "Finally, try to create a Support Vector Machine (SVM) using exactly the same approach.\n",
    "\n",
    "The SVM approach requires specification of one important parameter, the `kernel` parameter which relates to the type of kernel to use. Crudely, a linear kernel will draw a straight line between sets of features (located according to their attributes), whereas others are more flexible. \n",
    "\n",
    "Read through the [documentation](http://scikit-learn.org/stable/modules/svm.html#classification) to understand the differences in kernel specification and how you set this parameter. The `scikit` page on SVM has a nice visualisation demonstrating these differences.\n",
    "\n",
    "**Now test the SVM approach to see how well it performs relative to the other methods you've tried. How do different kernels and gamma settings impact on the prediction results? ** \n",
    "\n",
    "**WARNING**: SVM can take a long time to run! Maybe go and get a cup of tea?"
   ]
  },
  {
   "cell_type": "code",
   "execution_count": 36,
   "metadata": {},
   "outputs": [],
   "source": [
    "from sklearn.svm import SVC"
   ]
  },
  {
   "cell_type": "markdown",
   "metadata": {},
   "source": [
    "### In Conclusion..."
   ]
  },
  {
   "cell_type": "markdown",
   "metadata": {},
   "source": [
    "So, now that you've tested all of the different classification algorithms, which method performs best overall? Which assessment measure provided you with the most insight? And, which method would you use in the future? Which do you like best?"
   ]
  },
  {
   "cell_type": "markdown",
   "metadata": {},
   "source": [
    "### Exercises"
   ]
  },
  {
   "cell_type": "markdown",
   "metadata": {},
   "source": [
    "Think you're now a classification expert eh? Well, if you were a true expert you'd easily brush away any of the challenges below. Go on, give at least one of them a go."
   ]
  },
  {
   "cell_type": "markdown",
   "metadata": {},
   "source": [
    "* One popular method we haven't talked about is Naive Bayes classification. This is very popular in text classification, using the probabilistic co-occurance of values to assign classes. It's as easy to implement as the methods you've already used. Look it up on `sklearn` and see if you can implement it.\n",
    "* Try testing each of the classifiers using subsets of the original dataset. Can you create a classifier using only a few of the feature attributes?\n",
    "* Try creating a classifier for another dataset. One of your own perhaps? Or have a go with the Iris dataset that you used in the last workshop.\n",
    "* Do variations in the sizes of the training and testing datasets impact on the prediction quality? Try testing different divisions of the data by adjusting the parameters within the `train_test_split` method that we used earlier.\n",
    "* Perhaps we were a little quick to ditch the *k*NN method earlier without thinking about the way neighbours are assessed, check out the documentation to find out how."
   ]
  }
 ],
 "metadata": {
  "kernelspec": {
   "display_name": "Python 3",
   "language": "python",
   "name": "python3"
  },
  "language_info": {
   "codemirror_mode": {
    "name": "ipython",
    "version": 3
   },
   "file_extension": ".py",
   "mimetype": "text/x-python",
   "name": "python",
   "nbconvert_exporter": "python",
   "pygments_lexer": "ipython3",
   "version": "3.7.3"
  }
 },
 "nbformat": 4,
 "nbformat_minor": 2
}
