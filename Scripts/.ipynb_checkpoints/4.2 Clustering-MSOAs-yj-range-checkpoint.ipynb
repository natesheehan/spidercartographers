{
 "cells": [
  {
   "cell_type": "markdown",
   "metadata": {},
   "source": [
    "## clustering python notebook"
   ]
  },
  {
   "cell_type": "code",
   "execution_count": 1,
   "metadata": {},
   "outputs": [
    {
     "data": {
      "text/plain": [
       "'/Users/Hussein/Documents/Code Repos/spidercartographers/Scripts'"
      ]
     },
     "execution_count": 1,
     "metadata": {},
     "output_type": "execute_result"
    }
   ],
   "source": [
    "import os \n",
    "os.getcwd()"
   ]
  },
  {
   "cell_type": "code",
   "execution_count": 2,
   "metadata": {},
   "outputs": [],
   "source": [
    "# importing libraries required\n",
    "import pandas as pd\n",
    "import plotly.express as px\n",
    "import sklearn.preprocessing as preprocessing\n",
    "from sklearn.cluster import DBSCAN\n",
    "from sklearn import metrics\n",
    "from sklearn.cluster import KMeans\n",
    "import matplotlib.pyplot as plt\n",
    "import random\n",
    "from sklearn.cluster import AgglomerativeClustering\n",
    "from sklearn import neighbors\n",
    "import numpy as np\n",
    "\n",
    "# run this command too - just to allow more data to be displayed than default\n",
    "pd.set_option('display.max_rows', 200)\n",
    "# this one ensures graphs properly display in the notebook\n",
    "%matplotlib inline"
   ]
  },
  {
   "cell_type": "code",
   "execution_count": 3,
   "metadata": {
    "scrolled": true
   },
   "outputs": [
    {
     "data": {
      "text/html": [
       "<div>\n",
       "<style scoped>\n",
       "    .dataframe tbody tr th:only-of-type {\n",
       "        vertical-align: middle;\n",
       "    }\n",
       "\n",
       "    .dataframe tbody tr th {\n",
       "        vertical-align: top;\n",
       "    }\n",
       "\n",
       "    .dataframe thead th {\n",
       "        text-align: right;\n",
       "    }\n",
       "</style>\n",
       "<table border=\"1\" class=\"dataframe\">\n",
       "  <thead>\n",
       "    <tr style=\"text-align: right;\">\n",
       "      <th></th>\n",
       "      <th>Unnamed: 0</th>\n",
       "      <th>MSOA</th>\n",
       "      <th>yj_HH_owning_cars_perc</th>\n",
       "      <th>yj_work_from_home_perc</th>\n",
       "      <th>yj_underground_metro_perc</th>\n",
       "      <th>yj_train_perc</th>\n",
       "      <th>yj_bus_perc</th>\n",
       "      <th>yj_bicycle_perc</th>\n",
       "      <th>yj_on_foot_perc</th>\n",
       "      <th>yj_avg_time_from_origin_car_UNWEIGHTED</th>\n",
       "      <th>yj_avg_time_car</th>\n",
       "      <th>yj_avg_time_from_origin_bus_UNWEIGHTED</th>\n",
       "      <th>yj_avg_time_bus</th>\n",
       "      <th>yj_avg_time_from_origin_rail_UNWEIGHTED</th>\n",
       "      <th>yj_avg_time_rail</th>\n",
       "      <th>yj_car_perc</th>\n",
       "    </tr>\n",
       "  </thead>\n",
       "  <tbody>\n",
       "    <tr>\n",
       "      <th>0</th>\n",
       "      <td>0</td>\n",
       "      <td>E02000001</td>\n",
       "      <td>0.032888</td>\n",
       "      <td>0.783250</td>\n",
       "      <td>0.991524</td>\n",
       "      <td>0.670468</td>\n",
       "      <td>0.497181</td>\n",
       "      <td>0.745066</td>\n",
       "      <td>0.977752</td>\n",
       "      <td>0.0</td>\n",
       "      <td>0.750314</td>\n",
       "      <td>0.0</td>\n",
       "      <td>0.384236</td>\n",
       "      <td>0.0</td>\n",
       "      <td>0.215071</td>\n",
       "      <td>0.000000</td>\n",
       "    </tr>\n",
       "    <tr>\n",
       "      <th>1</th>\n",
       "      <td>1</td>\n",
       "      <td>E02000002</td>\n",
       "      <td>0.288099</td>\n",
       "      <td>0.462820</td>\n",
       "      <td>0.988767</td>\n",
       "      <td>0.752257</td>\n",
       "      <td>0.730330</td>\n",
       "      <td>0.429879</td>\n",
       "      <td>0.375330</td>\n",
       "      <td>0.0</td>\n",
       "      <td>0.517181</td>\n",
       "      <td>0.0</td>\n",
       "      <td>0.593986</td>\n",
       "      <td>0.0</td>\n",
       "      <td>0.317679</td>\n",
       "      <td>0.228913</td>\n",
       "    </tr>\n",
       "    <tr>\n",
       "      <th>2</th>\n",
       "      <td>2</td>\n",
       "      <td>E02000003</td>\n",
       "      <td>0.380084</td>\n",
       "      <td>0.497672</td>\n",
       "      <td>0.984273</td>\n",
       "      <td>0.897682</td>\n",
       "      <td>0.651366</td>\n",
       "      <td>0.330285</td>\n",
       "      <td>0.451155</td>\n",
       "      <td>0.0</td>\n",
       "      <td>0.480607</td>\n",
       "      <td>0.0</td>\n",
       "      <td>0.597340</td>\n",
       "      <td>0.0</td>\n",
       "      <td>0.317312</td>\n",
       "      <td>0.168707</td>\n",
       "    </tr>\n",
       "    <tr>\n",
       "      <th>3</th>\n",
       "      <td>3</td>\n",
       "      <td>E02000004</td>\n",
       "      <td>0.503477</td>\n",
       "      <td>0.460364</td>\n",
       "      <td>0.977438</td>\n",
       "      <td>0.842178</td>\n",
       "      <td>0.636263</td>\n",
       "      <td>0.430084</td>\n",
       "      <td>0.493507</td>\n",
       "      <td>0.0</td>\n",
       "      <td>0.505355</td>\n",
       "      <td>0.0</td>\n",
       "      <td>0.518073</td>\n",
       "      <td>0.0</td>\n",
       "      <td>0.303005</td>\n",
       "      <td>0.262828</td>\n",
       "    </tr>\n",
       "    <tr>\n",
       "      <th>4</th>\n",
       "      <td>4</td>\n",
       "      <td>E02000005</td>\n",
       "      <td>0.338828</td>\n",
       "      <td>0.454186</td>\n",
       "      <td>0.983510</td>\n",
       "      <td>0.823848</td>\n",
       "      <td>0.735873</td>\n",
       "      <td>0.474129</td>\n",
       "      <td>0.430515</td>\n",
       "      <td>0.0</td>\n",
       "      <td>0.452000</td>\n",
       "      <td>0.0</td>\n",
       "      <td>0.563461</td>\n",
       "      <td>0.0</td>\n",
       "      <td>0.309232</td>\n",
       "      <td>0.209627</td>\n",
       "    </tr>\n",
       "    <tr>\n",
       "      <th>...</th>\n",
       "      <td>...</td>\n",
       "      <td>...</td>\n",
       "      <td>...</td>\n",
       "      <td>...</td>\n",
       "      <td>...</td>\n",
       "      <td>...</td>\n",
       "      <td>...</td>\n",
       "      <td>...</td>\n",
       "      <td>...</td>\n",
       "      <td>...</td>\n",
       "      <td>...</td>\n",
       "      <td>...</td>\n",
       "      <td>...</td>\n",
       "      <td>...</td>\n",
       "      <td>...</td>\n",
       "      <td>...</td>\n",
       "    </tr>\n",
       "    <tr>\n",
       "      <th>7196</th>\n",
       "      <td>7196</td>\n",
       "      <td>W02000419</td>\n",
       "      <td>0.553070</td>\n",
       "      <td>0.567380</td>\n",
       "      <td>0.031798</td>\n",
       "      <td>0.352079</td>\n",
       "      <td>0.386904</td>\n",
       "      <td>0.593087</td>\n",
       "      <td>0.598651</td>\n",
       "      <td>0.0</td>\n",
       "      <td>0.540167</td>\n",
       "      <td>0.0</td>\n",
       "      <td>0.399212</td>\n",
       "      <td>0.0</td>\n",
       "      <td>0.767643</td>\n",
       "      <td>0.698007</td>\n",
       "    </tr>\n",
       "    <tr>\n",
       "      <th>7197</th>\n",
       "      <td>7197</td>\n",
       "      <td>W02000420</td>\n",
       "      <td>0.802106</td>\n",
       "      <td>0.753930</td>\n",
       "      <td>0.192388</td>\n",
       "      <td>0.262482</td>\n",
       "      <td>0.398055</td>\n",
       "      <td>0.460536</td>\n",
       "      <td>0.325501</td>\n",
       "      <td>0.0</td>\n",
       "      <td>0.693727</td>\n",
       "      <td>0.0</td>\n",
       "      <td>0.504453</td>\n",
       "      <td>0.0</td>\n",
       "      <td>0.660819</td>\n",
       "      <td>0.757139</td>\n",
       "    </tr>\n",
       "    <tr>\n",
       "      <th>7198</th>\n",
       "      <td>7198</td>\n",
       "      <td>W02000421</td>\n",
       "      <td>0.789954</td>\n",
       "      <td>0.918745</td>\n",
       "      <td>0.145435</td>\n",
       "      <td>0.121925</td>\n",
       "      <td>0.257658</td>\n",
       "      <td>0.356388</td>\n",
       "      <td>0.324922</td>\n",
       "      <td>0.0</td>\n",
       "      <td>0.806439</td>\n",
       "      <td>0.0</td>\n",
       "      <td>0.690984</td>\n",
       "      <td>0.0</td>\n",
       "      <td>0.825792</td>\n",
       "      <td>0.561430</td>\n",
       "    </tr>\n",
       "    <tr>\n",
       "      <th>7199</th>\n",
       "      <td>7199</td>\n",
       "      <td>W02000422</td>\n",
       "      <td>0.632313</td>\n",
       "      <td>0.436186</td>\n",
       "      <td>0.091456</td>\n",
       "      <td>0.651616</td>\n",
       "      <td>0.583752</td>\n",
       "      <td>0.657960</td>\n",
       "      <td>0.782914</td>\n",
       "      <td>0.0</td>\n",
       "      <td>0.644499</td>\n",
       "      <td>0.0</td>\n",
       "      <td>0.367349</td>\n",
       "      <td>0.0</td>\n",
       "      <td>0.714844</td>\n",
       "      <td>0.382336</td>\n",
       "    </tr>\n",
       "    <tr>\n",
       "      <th>7200</th>\n",
       "      <td>7200</td>\n",
       "      <td>W02000423</td>\n",
       "      <td>0.291770</td>\n",
       "      <td>0.447075</td>\n",
       "      <td>0.276616</td>\n",
       "      <td>0.677077</td>\n",
       "      <td>0.610434</td>\n",
       "      <td>0.695085</td>\n",
       "      <td>0.868209</td>\n",
       "      <td>0.0</td>\n",
       "      <td>0.641620</td>\n",
       "      <td>0.0</td>\n",
       "      <td>0.531052</td>\n",
       "      <td>0.0</td>\n",
       "      <td>0.538014</td>\n",
       "      <td>0.223532</td>\n",
       "    </tr>\n",
       "  </tbody>\n",
       "</table>\n",
       "<p>7201 rows × 16 columns</p>\n",
       "</div>"
      ],
      "text/plain": [
       "      Unnamed: 0       MSOA  yj_HH_owning_cars_perc  yj_work_from_home_perc  \\\n",
       "0              0  E02000001                0.032888                0.783250   \n",
       "1              1  E02000002                0.288099                0.462820   \n",
       "2              2  E02000003                0.380084                0.497672   \n",
       "3              3  E02000004                0.503477                0.460364   \n",
       "4              4  E02000005                0.338828                0.454186   \n",
       "...          ...        ...                     ...                     ...   \n",
       "7196        7196  W02000419                0.553070                0.567380   \n",
       "7197        7197  W02000420                0.802106                0.753930   \n",
       "7198        7198  W02000421                0.789954                0.918745   \n",
       "7199        7199  W02000422                0.632313                0.436186   \n",
       "7200        7200  W02000423                0.291770                0.447075   \n",
       "\n",
       "      yj_underground_metro_perc  yj_train_perc  yj_bus_perc  yj_bicycle_perc  \\\n",
       "0                      0.991524       0.670468     0.497181         0.745066   \n",
       "1                      0.988767       0.752257     0.730330         0.429879   \n",
       "2                      0.984273       0.897682     0.651366         0.330285   \n",
       "3                      0.977438       0.842178     0.636263         0.430084   \n",
       "4                      0.983510       0.823848     0.735873         0.474129   \n",
       "...                         ...            ...          ...              ...   \n",
       "7196                   0.031798       0.352079     0.386904         0.593087   \n",
       "7197                   0.192388       0.262482     0.398055         0.460536   \n",
       "7198                   0.145435       0.121925     0.257658         0.356388   \n",
       "7199                   0.091456       0.651616     0.583752         0.657960   \n",
       "7200                   0.276616       0.677077     0.610434         0.695085   \n",
       "\n",
       "      yj_on_foot_perc  yj_avg_time_from_origin_car_UNWEIGHTED  \\\n",
       "0            0.977752                                     0.0   \n",
       "1            0.375330                                     0.0   \n",
       "2            0.451155                                     0.0   \n",
       "3            0.493507                                     0.0   \n",
       "4            0.430515                                     0.0   \n",
       "...               ...                                     ...   \n",
       "7196         0.598651                                     0.0   \n",
       "7197         0.325501                                     0.0   \n",
       "7198         0.324922                                     0.0   \n",
       "7199         0.782914                                     0.0   \n",
       "7200         0.868209                                     0.0   \n",
       "\n",
       "      yj_avg_time_car  yj_avg_time_from_origin_bus_UNWEIGHTED  \\\n",
       "0            0.750314                                     0.0   \n",
       "1            0.517181                                     0.0   \n",
       "2            0.480607                                     0.0   \n",
       "3            0.505355                                     0.0   \n",
       "4            0.452000                                     0.0   \n",
       "...               ...                                     ...   \n",
       "7196         0.540167                                     0.0   \n",
       "7197         0.693727                                     0.0   \n",
       "7198         0.806439                                     0.0   \n",
       "7199         0.644499                                     0.0   \n",
       "7200         0.641620                                     0.0   \n",
       "\n",
       "      yj_avg_time_bus  yj_avg_time_from_origin_rail_UNWEIGHTED  \\\n",
       "0            0.384236                                      0.0   \n",
       "1            0.593986                                      0.0   \n",
       "2            0.597340                                      0.0   \n",
       "3            0.518073                                      0.0   \n",
       "4            0.563461                                      0.0   \n",
       "...               ...                                      ...   \n",
       "7196         0.399212                                      0.0   \n",
       "7197         0.504453                                      0.0   \n",
       "7198         0.690984                                      0.0   \n",
       "7199         0.367349                                      0.0   \n",
       "7200         0.531052                                      0.0   \n",
       "\n",
       "      yj_avg_time_rail  yj_car_perc  \n",
       "0             0.215071     0.000000  \n",
       "1             0.317679     0.228913  \n",
       "2             0.317312     0.168707  \n",
       "3             0.303005     0.262828  \n",
       "4             0.309232     0.209627  \n",
       "...                ...          ...  \n",
       "7196          0.767643     0.698007  \n",
       "7197          0.660819     0.757139  \n",
       "7198          0.825792     0.561430  \n",
       "7199          0.714844     0.382336  \n",
       "7200          0.538014     0.223532  \n",
       "\n",
       "[7201 rows x 16 columns]"
      ]
     },
     "execution_count": 3,
     "metadata": {},
     "output_type": "execute_result"
    }
   ],
   "source": [
    "#put the data into a dataframe\n",
    "yj = pd.read_csv('Data/yeojohnson_range_st.csv')\n",
    "#check that is has been read correctly\n",
    "yj"
   ]
  },
  {
   "cell_type": "code",
   "execution_count": 4,
   "metadata": {},
   "outputs": [
    {
     "data": {
      "text/plain": [
       "Unnamed: 0                                 0\n",
       "MSOA                                       0\n",
       "yj_HH_owning_cars_perc                     0\n",
       "yj_work_from_home_perc                     0\n",
       "yj_underground_metro_perc                  0\n",
       "yj_train_perc                              0\n",
       "yj_bus_perc                                0\n",
       "yj_bicycle_perc                            0\n",
       "yj_on_foot_perc                            0\n",
       "yj_avg_time_from_origin_car_UNWEIGHTED     0\n",
       "yj_avg_time_car                            0\n",
       "yj_avg_time_from_origin_bus_UNWEIGHTED     0\n",
       "yj_avg_time_bus                            0\n",
       "yj_avg_time_from_origin_rail_UNWEIGHTED    0\n",
       "yj_avg_time_rail                           0\n",
       "yj_car_perc                                0\n",
       "dtype: int64"
      ]
     },
     "execution_count": 4,
     "metadata": {},
     "output_type": "execute_result"
    }
   ],
   "source": [
    "yj.isna().sum() "
   ]
  },
  {
   "cell_type": "code",
   "execution_count": 5,
   "metadata": {},
   "outputs": [],
   "source": [
    "# store MSOA column \n",
    "MSOA = yj[['MSOA']]"
   ]
  },
  {
   "cell_type": "code",
   "execution_count": 6,
   "metadata": {},
   "outputs": [
    {
     "data": {
      "text/html": [
       "<div>\n",
       "<style scoped>\n",
       "    .dataframe tbody tr th:only-of-type {\n",
       "        vertical-align: middle;\n",
       "    }\n",
       "\n",
       "    .dataframe tbody tr th {\n",
       "        vertical-align: top;\n",
       "    }\n",
       "\n",
       "    .dataframe thead th {\n",
       "        text-align: right;\n",
       "    }\n",
       "</style>\n",
       "<table border=\"1\" class=\"dataframe\">\n",
       "  <thead>\n",
       "    <tr style=\"text-align: right;\">\n",
       "      <th></th>\n",
       "      <th>yj_HH_owning_cars_perc</th>\n",
       "      <th>yj_work_from_home_perc</th>\n",
       "      <th>yj_underground_metro_perc</th>\n",
       "      <th>yj_train_perc</th>\n",
       "      <th>yj_bus_perc</th>\n",
       "      <th>yj_bicycle_perc</th>\n",
       "      <th>yj_on_foot_perc</th>\n",
       "      <th>yj_avg_time_from_origin_car_UNWEIGHTED</th>\n",
       "      <th>yj_avg_time_car</th>\n",
       "      <th>yj_avg_time_from_origin_bus_UNWEIGHTED</th>\n",
       "      <th>yj_avg_time_bus</th>\n",
       "      <th>yj_avg_time_from_origin_rail_UNWEIGHTED</th>\n",
       "      <th>yj_avg_time_rail</th>\n",
       "      <th>yj_car_perc</th>\n",
       "    </tr>\n",
       "  </thead>\n",
       "  <tbody>\n",
       "    <tr>\n",
       "      <th>0</th>\n",
       "      <td>0.032888</td>\n",
       "      <td>0.783250</td>\n",
       "      <td>0.991524</td>\n",
       "      <td>0.670468</td>\n",
       "      <td>0.497181</td>\n",
       "      <td>0.745066</td>\n",
       "      <td>0.977752</td>\n",
       "      <td>0.0</td>\n",
       "      <td>0.750314</td>\n",
       "      <td>0.0</td>\n",
       "      <td>0.384236</td>\n",
       "      <td>0.0</td>\n",
       "      <td>0.215071</td>\n",
       "      <td>0.000000</td>\n",
       "    </tr>\n",
       "    <tr>\n",
       "      <th>1</th>\n",
       "      <td>0.288099</td>\n",
       "      <td>0.462820</td>\n",
       "      <td>0.988767</td>\n",
       "      <td>0.752257</td>\n",
       "      <td>0.730330</td>\n",
       "      <td>0.429879</td>\n",
       "      <td>0.375330</td>\n",
       "      <td>0.0</td>\n",
       "      <td>0.517181</td>\n",
       "      <td>0.0</td>\n",
       "      <td>0.593986</td>\n",
       "      <td>0.0</td>\n",
       "      <td>0.317679</td>\n",
       "      <td>0.228913</td>\n",
       "    </tr>\n",
       "    <tr>\n",
       "      <th>2</th>\n",
       "      <td>0.380084</td>\n",
       "      <td>0.497672</td>\n",
       "      <td>0.984273</td>\n",
       "      <td>0.897682</td>\n",
       "      <td>0.651366</td>\n",
       "      <td>0.330285</td>\n",
       "      <td>0.451155</td>\n",
       "      <td>0.0</td>\n",
       "      <td>0.480607</td>\n",
       "      <td>0.0</td>\n",
       "      <td>0.597340</td>\n",
       "      <td>0.0</td>\n",
       "      <td>0.317312</td>\n",
       "      <td>0.168707</td>\n",
       "    </tr>\n",
       "    <tr>\n",
       "      <th>3</th>\n",
       "      <td>0.503477</td>\n",
       "      <td>0.460364</td>\n",
       "      <td>0.977438</td>\n",
       "      <td>0.842178</td>\n",
       "      <td>0.636263</td>\n",
       "      <td>0.430084</td>\n",
       "      <td>0.493507</td>\n",
       "      <td>0.0</td>\n",
       "      <td>0.505355</td>\n",
       "      <td>0.0</td>\n",
       "      <td>0.518073</td>\n",
       "      <td>0.0</td>\n",
       "      <td>0.303005</td>\n",
       "      <td>0.262828</td>\n",
       "    </tr>\n",
       "    <tr>\n",
       "      <th>4</th>\n",
       "      <td>0.338828</td>\n",
       "      <td>0.454186</td>\n",
       "      <td>0.983510</td>\n",
       "      <td>0.823848</td>\n",
       "      <td>0.735873</td>\n",
       "      <td>0.474129</td>\n",
       "      <td>0.430515</td>\n",
       "      <td>0.0</td>\n",
       "      <td>0.452000</td>\n",
       "      <td>0.0</td>\n",
       "      <td>0.563461</td>\n",
       "      <td>0.0</td>\n",
       "      <td>0.309232</td>\n",
       "      <td>0.209627</td>\n",
       "    </tr>\n",
       "    <tr>\n",
       "      <th>...</th>\n",
       "      <td>...</td>\n",
       "      <td>...</td>\n",
       "      <td>...</td>\n",
       "      <td>...</td>\n",
       "      <td>...</td>\n",
       "      <td>...</td>\n",
       "      <td>...</td>\n",
       "      <td>...</td>\n",
       "      <td>...</td>\n",
       "      <td>...</td>\n",
       "      <td>...</td>\n",
       "      <td>...</td>\n",
       "      <td>...</td>\n",
       "      <td>...</td>\n",
       "    </tr>\n",
       "    <tr>\n",
       "      <th>7196</th>\n",
       "      <td>0.553070</td>\n",
       "      <td>0.567380</td>\n",
       "      <td>0.031798</td>\n",
       "      <td>0.352079</td>\n",
       "      <td>0.386904</td>\n",
       "      <td>0.593087</td>\n",
       "      <td>0.598651</td>\n",
       "      <td>0.0</td>\n",
       "      <td>0.540167</td>\n",
       "      <td>0.0</td>\n",
       "      <td>0.399212</td>\n",
       "      <td>0.0</td>\n",
       "      <td>0.767643</td>\n",
       "      <td>0.698007</td>\n",
       "    </tr>\n",
       "    <tr>\n",
       "      <th>7197</th>\n",
       "      <td>0.802106</td>\n",
       "      <td>0.753930</td>\n",
       "      <td>0.192388</td>\n",
       "      <td>0.262482</td>\n",
       "      <td>0.398055</td>\n",
       "      <td>0.460536</td>\n",
       "      <td>0.325501</td>\n",
       "      <td>0.0</td>\n",
       "      <td>0.693727</td>\n",
       "      <td>0.0</td>\n",
       "      <td>0.504453</td>\n",
       "      <td>0.0</td>\n",
       "      <td>0.660819</td>\n",
       "      <td>0.757139</td>\n",
       "    </tr>\n",
       "    <tr>\n",
       "      <th>7198</th>\n",
       "      <td>0.789954</td>\n",
       "      <td>0.918745</td>\n",
       "      <td>0.145435</td>\n",
       "      <td>0.121925</td>\n",
       "      <td>0.257658</td>\n",
       "      <td>0.356388</td>\n",
       "      <td>0.324922</td>\n",
       "      <td>0.0</td>\n",
       "      <td>0.806439</td>\n",
       "      <td>0.0</td>\n",
       "      <td>0.690984</td>\n",
       "      <td>0.0</td>\n",
       "      <td>0.825792</td>\n",
       "      <td>0.561430</td>\n",
       "    </tr>\n",
       "    <tr>\n",
       "      <th>7199</th>\n",
       "      <td>0.632313</td>\n",
       "      <td>0.436186</td>\n",
       "      <td>0.091456</td>\n",
       "      <td>0.651616</td>\n",
       "      <td>0.583752</td>\n",
       "      <td>0.657960</td>\n",
       "      <td>0.782914</td>\n",
       "      <td>0.0</td>\n",
       "      <td>0.644499</td>\n",
       "      <td>0.0</td>\n",
       "      <td>0.367349</td>\n",
       "      <td>0.0</td>\n",
       "      <td>0.714844</td>\n",
       "      <td>0.382336</td>\n",
       "    </tr>\n",
       "    <tr>\n",
       "      <th>7200</th>\n",
       "      <td>0.291770</td>\n",
       "      <td>0.447075</td>\n",
       "      <td>0.276616</td>\n",
       "      <td>0.677077</td>\n",
       "      <td>0.610434</td>\n",
       "      <td>0.695085</td>\n",
       "      <td>0.868209</td>\n",
       "      <td>0.0</td>\n",
       "      <td>0.641620</td>\n",
       "      <td>0.0</td>\n",
       "      <td>0.531052</td>\n",
       "      <td>0.0</td>\n",
       "      <td>0.538014</td>\n",
       "      <td>0.223532</td>\n",
       "    </tr>\n",
       "  </tbody>\n",
       "</table>\n",
       "<p>7201 rows × 14 columns</p>\n",
       "</div>"
      ],
      "text/plain": [
       "      yj_HH_owning_cars_perc  yj_work_from_home_perc  \\\n",
       "0                   0.032888                0.783250   \n",
       "1                   0.288099                0.462820   \n",
       "2                   0.380084                0.497672   \n",
       "3                   0.503477                0.460364   \n",
       "4                   0.338828                0.454186   \n",
       "...                      ...                     ...   \n",
       "7196                0.553070                0.567380   \n",
       "7197                0.802106                0.753930   \n",
       "7198                0.789954                0.918745   \n",
       "7199                0.632313                0.436186   \n",
       "7200                0.291770                0.447075   \n",
       "\n",
       "      yj_underground_metro_perc  yj_train_perc  yj_bus_perc  yj_bicycle_perc  \\\n",
       "0                      0.991524       0.670468     0.497181         0.745066   \n",
       "1                      0.988767       0.752257     0.730330         0.429879   \n",
       "2                      0.984273       0.897682     0.651366         0.330285   \n",
       "3                      0.977438       0.842178     0.636263         0.430084   \n",
       "4                      0.983510       0.823848     0.735873         0.474129   \n",
       "...                         ...            ...          ...              ...   \n",
       "7196                   0.031798       0.352079     0.386904         0.593087   \n",
       "7197                   0.192388       0.262482     0.398055         0.460536   \n",
       "7198                   0.145435       0.121925     0.257658         0.356388   \n",
       "7199                   0.091456       0.651616     0.583752         0.657960   \n",
       "7200                   0.276616       0.677077     0.610434         0.695085   \n",
       "\n",
       "      yj_on_foot_perc  yj_avg_time_from_origin_car_UNWEIGHTED  \\\n",
       "0            0.977752                                     0.0   \n",
       "1            0.375330                                     0.0   \n",
       "2            0.451155                                     0.0   \n",
       "3            0.493507                                     0.0   \n",
       "4            0.430515                                     0.0   \n",
       "...               ...                                     ...   \n",
       "7196         0.598651                                     0.0   \n",
       "7197         0.325501                                     0.0   \n",
       "7198         0.324922                                     0.0   \n",
       "7199         0.782914                                     0.0   \n",
       "7200         0.868209                                     0.0   \n",
       "\n",
       "      yj_avg_time_car  yj_avg_time_from_origin_bus_UNWEIGHTED  \\\n",
       "0            0.750314                                     0.0   \n",
       "1            0.517181                                     0.0   \n",
       "2            0.480607                                     0.0   \n",
       "3            0.505355                                     0.0   \n",
       "4            0.452000                                     0.0   \n",
       "...               ...                                     ...   \n",
       "7196         0.540167                                     0.0   \n",
       "7197         0.693727                                     0.0   \n",
       "7198         0.806439                                     0.0   \n",
       "7199         0.644499                                     0.0   \n",
       "7200         0.641620                                     0.0   \n",
       "\n",
       "      yj_avg_time_bus  yj_avg_time_from_origin_rail_UNWEIGHTED  \\\n",
       "0            0.384236                                      0.0   \n",
       "1            0.593986                                      0.0   \n",
       "2            0.597340                                      0.0   \n",
       "3            0.518073                                      0.0   \n",
       "4            0.563461                                      0.0   \n",
       "...               ...                                      ...   \n",
       "7196         0.399212                                      0.0   \n",
       "7197         0.504453                                      0.0   \n",
       "7198         0.690984                                      0.0   \n",
       "7199         0.367349                                      0.0   \n",
       "7200         0.531052                                      0.0   \n",
       "\n",
       "      yj_avg_time_rail  yj_car_perc  \n",
       "0             0.215071     0.000000  \n",
       "1             0.317679     0.228913  \n",
       "2             0.317312     0.168707  \n",
       "3             0.303005     0.262828  \n",
       "4             0.309232     0.209627  \n",
       "...                ...          ...  \n",
       "7196          0.767643     0.698007  \n",
       "7197          0.660819     0.757139  \n",
       "7198          0.825792     0.561430  \n",
       "7199          0.714844     0.382336  \n",
       "7200          0.538014     0.223532  \n",
       "\n",
       "[7201 rows x 14 columns]"
      ]
     },
     "execution_count": 6,
     "metadata": {},
     "output_type": "execute_result"
    }
   ],
   "source": [
    "# drop non numeric columns\n",
    "yj.drop(['Unnamed: 0', 'MSOA'], axis=1, inplace=True)\n",
    "yj"
   ]
  },
  {
   "cell_type": "markdown",
   "metadata": {},
   "source": [
    "## DBSCAN"
   ]
  },
  {
   "cell_type": "code",
   "execution_count": 7,
   "metadata": {},
   "outputs": [
    {
     "data": {
      "text/plain": [
       "array([[0.        , 0.17611884],\n",
       "       [0.        , 0.13349667],\n",
       "       [0.        , 0.09501492],\n",
       "       ...,\n",
       "       [0.        , 0.15937033],\n",
       "       [0.        , 0.28013876],\n",
       "       [0.        , 0.1724322 ]])"
      ]
     },
     "execution_count": 7,
     "metadata": {},
     "output_type": "execute_result"
    }
   ],
   "source": [
    "# We need to select the epsilon and min_smaples parameters\n",
    "\n",
    "# https://towardsdatascience.com/machine-learning-clustering-dbscan-determine-the-optimal-value-for-epsilon-eps-python-example-3100091cfbc\n",
    "# eps: Two points are considered neighbors if the distance between the two points is below the threshold epsilon.\n",
    "# min_samples: The minimum number of neighbors a given point should have in order to be classified as a core point. \n",
    "from sklearn import neighbors\n",
    "\n",
    "neigh = neighbors.NearestNeighbors(n_neighbors=2)\n",
    "nbrs = neigh.fit(yj)\n",
    "distances, indices = nbrs.kneighbors(yj)\n",
    "distances"
   ]
  },
  {
   "cell_type": "code",
   "execution_count": 8,
   "metadata": {},
   "outputs": [
    {
     "data": {
      "text/plain": [
       "[<matplotlib.lines.Line2D at 0x1177a6ba8>]"
      ]
     },
     "execution_count": 8,
     "metadata": {},
     "output_type": "execute_result"
    },
    {
     "data": {
      "image/png": "[encoded data removed]",
      "text/plain": [
       "<Figure size 432x288 with 1 Axes>"
      ]
     },
     "metadata": {
      "needs_background": "light"
     },
     "output_type": "display_data"
    }
   ],
   "source": [
    "# sort and plot the results\n",
    "distances = np.sort(distances, axis=0)\n",
    "distances = distances[:,1]\n",
    "plt.plot(distances)"
   ]
  },
  {
   "cell_type": "code",
   "execution_count": 9,
   "metadata": {},
   "outputs": [
    {
     "data": {
      "text/plain": [
       "DBSCAN(algorithm='auto', eps=0.25, leaf_size=30, metric='euclidean',\n",
       "       metric_params=None, min_samples=5, n_jobs=None, p=None)"
      ]
     },
     "execution_count": 9,
     "metadata": {},
     "output_type": "execute_result"
    }
   ],
   "source": [
    "# create DBSCAN cluster object\n",
    "\n",
    "# the eps is at the point of maximum curvature in the graph above\n",
    "dbscan = DBSCAN(eps=0.25, min_samples=5) \n",
    "\n",
    "#algorith to be used by the NearestNeighbors module to compute pointwise distance and find neighest neighbours - see NN module documentation\n",
    "# run the .fit() function on the scaled dataset\n",
    "dbscan.fit(yj) \n",
    "\n"
   ]
  },
  {
   "cell_type": "code",
   "execution_count": 10,
   "metadata": {},
   "outputs": [
    {
     "data": {
      "text/plain": [
       "4"
      ]
     },
     "execution_count": 10,
     "metadata": {},
     "output_type": "execute_result"
    }
   ],
   "source": [
    "#Get the labels from the clusters\n",
    "dbscan_labels = dbscan.labels_\n",
    "#dbscan_labels\n",
    "# to get number of clusters\n",
    "len(set(dbscan_labels)) - (1 if -1 in dbscan_labels else 0)"
   ]
  },
  {
   "cell_type": "code",
   "execution_count": 11,
   "metadata": {},
   "outputs": [
    {
     "data": {
      "text/plain": [
       "-0.1707636088118794"
      ]
     },
     "execution_count": 11,
     "metadata": {},
     "output_type": "execute_result"
    }
   ],
   "source": [
    "#check the silhouette score\n",
    "# A silhouette score ranges from -1 to 1, with -1 being the worst score possible and 1 \n",
    "# being the best score. Silhouette scores of 0 suggest overlapping clusters.\n",
    "metrics.silhouette_score(yj, dbscan_labels)"
   ]
  },
  {
   "cell_type": "code",
   "execution_count": 12,
   "metadata": {},
   "outputs": [
    {
     "data": {
      "text/plain": [
       " 0    6496\n",
       "-1     685\n",
       " 2      11\n",
       " 1       6\n",
       " 3       3\n",
       "Name: label, dtype: int64"
      ]
     },
     "execution_count": 12,
     "metadata": {},
     "output_type": "execute_result"
    }
   ],
   "source": [
    "#assign the labels to the original dataframe\n",
    "yj_range_DB =yj.assign(label = dbscan_labels)\n",
    "\n",
    "#and check the value counts\n",
    "yj_range_DB.label.value_counts()"
   ]
  },
  {
   "cell_type": "code",
   "execution_count": 13,
   "metadata": {},
   "outputs": [],
   "source": [
    "# re-insert MSOA column\n",
    "yj_range_DB =pd.concat([MSOA, yj_range_DB], axis='columns')\n",
    "#save to csv\n",
    "yj_range_DB.to_csv('Data/Clustering_Results/yeojohnson_range_st_DBSCAN.csv')"
   ]
  },
  {
   "cell_type": "markdown",
   "metadata": {},
   "source": [
    "## kmeans clustering"
   ]
  },
  {
   "cell_type": "code",
   "execution_count": 14,
   "metadata": {},
   "outputs": [
    {
     "data": {
      "image/png": "[encoded data removed]",
      "text/plain": [
       "<Figure size 432x288 with 1 Axes>"
      ]
     },
     "metadata": {
      "needs_background": "light"
     },
     "output_type": "display_data"
    }
   ],
   "source": [
    "#elbow plot over multiple k's\n",
    "\n",
    "#calculate SSE for a range of number of cluster\n",
    "\n",
    "list_SSE = []\n",
    "min_k = 1\n",
    "max_k = 10\n",
    "range_k = range(min_k, max_k+1)\n",
    "for i in range_k:\n",
    "    km = KMeans(\n",
    "        n_clusters=i, init='random',\n",
    "        n_init=10, max_iter=300,\n",
    "        tol=1e-04, random_state=0\n",
    "    )\n",
    "    km.fit(yj)\n",
    "    # inertia is a concept in physics. Roughly it means SSE of clustering.\n",
    "    list_SSE.append(km.inertia_)\n",
    "\n",
    "# plot\n",
    "plt.plot(range_k, list_SSE, marker='o')\n",
    "plt.xlabel('Number of clusters')\n",
    "plt.ylabel('SSE')\n",
    "plt.show()"
   ]
  },
  {
   "cell_type": "code",
   "execution_count": 15,
   "metadata": {},
   "outputs": [],
   "source": [
    "#set the number of clusters to explore\n",
    "k_cluster = 3\n",
    "#set the random seed\n",
    "random_seed = 1\n",
    "#random state: int, default = None\n",
    "#determines random number generation for ecntroid intialisation, use an int to make the randomness deterministic"
   ]
  },
  {
   "cell_type": "code",
   "execution_count": 16,
   "metadata": {},
   "outputs": [
    {
     "data": {
      "text/plain": [
       "KMeans(algorithm='auto', copy_x=True, init='k-means++', max_iter=300,\n",
       "       n_clusters=3, n_init=10, n_jobs=None, precompute_distances='auto',\n",
       "       random_state=1, tol=0.0001, verbose=0)"
      ]
     },
     "execution_count": 16,
     "metadata": {},
     "output_type": "execute_result"
    }
   ],
   "source": [
    "#get the method for kmeans\n",
    "kmeans_method = KMeans(n_clusters=k_cluster,random_state=random_seed)\n",
    "#apply the fit to the scaled dataset\n",
    "kmeans_method.fit(yj)"
   ]
  },
  {
   "cell_type": "code",
   "execution_count": 17,
   "metadata": {},
   "outputs": [],
   "source": [
    "#assign the labels to original databse\n",
    "yj_range_kmeans = yj.assign(label = kmeans_method.labels_)"
   ]
  },
  {
   "cell_type": "code",
   "execution_count": 18,
   "metadata": {},
   "outputs": [],
   "source": [
    "# re-insert MSOA column\n",
    "yj_range_kmeans =pd.concat([MSOA, yj_range_kmeans], axis='columns')\n",
    "#save to csv\n",
    "yj_range_kmeans.to_csv('Data/Clustering_Results/yeojohnson_range_st_kmeans.csv')"
   ]
  },
  {
   "cell_type": "code",
   "execution_count": 19,
   "metadata": {},
   "outputs": [],
   "source": [
    "# #silhouette score over multiple k's\n",
    "\n",
    "# #empty array to hold the silhouette scores\n",
    "# silhouette = []\n",
    "\n",
    "# #iterate over the number of clusters from 2 to 10\n",
    "# for i in range(2, 10):\n",
    "#     #create an empty array to store the average\n",
    "#     average = []\n",
    "#     #repeat the kmeans clustering 10 times\n",
    "#     for x in range(1, 10):\n",
    "#         #setting the number of clusters as i\n",
    "#         k_cluster = i\n",
    "#         #create a random integer for the random seed\n",
    "#         random_seed = random.randint(1,101)\n",
    "#         #run the kmeans analysis\n",
    "#         kmeans_method = KMeans(n_clusters=k_cluster,random_state=random_seed)\n",
    "#         #fit it to the scaled dataset\n",
    "#         kmeans_method.fit(yj)\n",
    "#         #get the labels\n",
    "#         labels = kmeans_method.labels_\n",
    "#         #get the silhouette score\n",
    "#         a = metrics.silhouette_score(yj, labels)\n",
    "#         #append it to the average list\n",
    "#         average.append(a)\n",
    "#     #get the silhouette score and append it to the silhouette \n",
    "#     silhouette.append(sum(average)/len(average))\n",
    "    \n",
    "# #plot the silhouette score\n",
    "# plt.plot(silhouette)"
   ]
  },
  {
   "cell_type": "markdown",
   "metadata": {},
   "source": [
    "## Agglomerative clustering"
   ]
  },
  {
   "cell_type": "code",
   "execution_count": 20,
   "metadata": {},
   "outputs": [
    {
     "data": {
      "text/plain": [
       "AgglomerativeClustering(affinity='euclidean', compute_full_tree='auto',\n",
       "                        connectivity=None, distance_threshold=None,\n",
       "                        linkage='ward', memory=None, n_clusters=3,\n",
       "                        pooling_func='deprecated')"
      ]
     },
     "execution_count": 20,
     "metadata": {},
     "output_type": "execute_result"
    }
   ],
   "source": [
    "#set the number of clusters expected (from elbow diagram in kmeans part)\n",
    "n_clusters = 3\n",
    "\n",
    "#get the hierarchy method\n",
    "hierarchy = AgglomerativeClustering(n_clusters = n_clusters)\n",
    "\n",
    "#fit it to the data\n",
    "hierarchy.fit(yj)"
   ]
  },
  {
   "cell_type": "code",
   "execution_count": 21,
   "metadata": {},
   "outputs": [],
   "source": [
    "#assign labels to the original data\n",
    "yj_range_hierarchy = yj.assign(label = hierarchy.labels_)"
   ]
  },
  {
   "cell_type": "code",
   "execution_count": 22,
   "metadata": {},
   "outputs": [
    {
     "data": {
      "text/plain": [
       "0.1890846213646494"
      ]
     },
     "execution_count": 22,
     "metadata": {},
     "output_type": "execute_result"
    }
   ],
   "source": [
    "hierarchy_labels = hierarchy.labels_\n",
    "\n",
    "#check the silhouette score\n",
    "metrics.silhouette_score(yj, hierarchy_labels)"
   ]
  },
  {
   "cell_type": "code",
   "execution_count": 23,
   "metadata": {},
   "outputs": [],
   "source": [
    "# re-insert MSOA column\n",
    "yj_range_hierarchy =pd.concat([MSOA, yj_range_hierarchy], axis='columns')\n",
    "#save to csv\n",
    "yj_range_hierarchy.to_csv('Data/Clustering_Results/yeojohnson_range_st_heirarchy.csv')"
   ]
  },
  {
   "cell_type": "code",
   "execution_count": null,
   "metadata": {},
   "outputs": [],
   "source": []
  }
 ],
 "metadata": {
  "kernelspec": {
   "display_name": "Python 3",
   "language": "python",
   "name": "python3"
  },
  "language_info": {
   "codemirror_mode": {
    "name": "ipython",
    "version": 3
   },
   "file_extension": ".py",
   "mimetype": "text/x-python",
   "name": "python",
   "nbconvert_exporter": "python",
   "pygments_lexer": "ipython3",
   "version": "3.7.1"
  }
 },
 "nbformat": 4,
 "nbformat_minor": 2
}
