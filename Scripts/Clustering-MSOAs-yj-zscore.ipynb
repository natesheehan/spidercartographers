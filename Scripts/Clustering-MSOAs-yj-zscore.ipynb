{
 "cells": [
  {
   "cell_type": "markdown",
   "metadata": {},
   "source": [
    "## clustering python notebook"
   ]
  },
  {
   "cell_type": "code",
   "execution_count": 1,
   "metadata": {},
   "outputs": [
    {
     "data": {
      "text/plain": [
       "'/Users/Hussein/Documents/Code Repos/spidercartographers/Scripts'"
      ]
     },
     "execution_count": 1,
     "metadata": {},
     "output_type": "execute_result"
    }
   ],
   "source": [
    "import os \n",
    "os.getcwd()"
   ]
  },
  {
   "cell_type": "code",
   "execution_count": 2,
   "metadata": {},
   "outputs": [],
   "source": [
    "# importing libraries required\n",
    "import pandas as pd\n",
    "import plotly.express as px\n",
    "import sklearn.preprocessing as preprocessing\n",
    "from sklearn.cluster import DBSCAN\n",
    "from sklearn import metrics\n",
    "from sklearn.cluster import KMeans\n",
    "import matplotlib.pyplot as plt\n",
    "import random\n",
    "from sklearn.cluster import AgglomerativeClustering\n",
    "from sklearn import neighbors\n",
    "import numpy as np\n",
    "\n",
    "# run this command too - just to allow more data to be displayed than default\n",
    "pd.set_option('display.max_rows', 200)\n",
    "# this one ensures graphs properly display in the notebook\n",
    "%matplotlib inline"
   ]
  },
  {
   "cell_type": "code",
   "execution_count": 3,
   "metadata": {
    "scrolled": true
   },
   "outputs": [
    {
     "data": {
      "text/html": [
       "<div>\n",
       "<style scoped>\n",
       "    .dataframe tbody tr th:only-of-type {\n",
       "        vertical-align: middle;\n",
       "    }\n",
       "\n",
       "    .dataframe tbody tr th {\n",
       "        vertical-align: top;\n",
       "    }\n",
       "\n",
       "    .dataframe thead th {\n",
       "        text-align: right;\n",
       "    }\n",
       "</style>\n",
       "<table border=\"1\" class=\"dataframe\">\n",
       "  <thead>\n",
       "    <tr style=\"text-align: right;\">\n",
       "      <th></th>\n",
       "      <th>Unnamed: 0</th>\n",
       "      <th>MSOA</th>\n",
       "      <th>yj_work_from_home_perc</th>\n",
       "      <th>yj_underground_metro_perc</th>\n",
       "      <th>yj_train_perc</th>\n",
       "      <th>yj_bus_perc</th>\n",
       "      <th>yj_motorcycle_perc</th>\n",
       "      <th>yj_bicycle_perc</th>\n",
       "      <th>yj_on_foot_perc</th>\n",
       "      <th>yj_other_perc</th>\n",
       "      <th>yj_car_perc</th>\n",
       "    </tr>\n",
       "  </thead>\n",
       "  <tbody>\n",
       "    <tr>\n",
       "      <th>0</th>\n",
       "      <td>0</td>\n",
       "      <td>E02000001</td>\n",
       "      <td>1.094545</td>\n",
       "      <td>1.965725</td>\n",
       "      <td>0.756826</td>\n",
       "      <td>0.058967</td>\n",
       "      <td>-0.839575</td>\n",
       "      <td>1.275285</td>\n",
       "      <td>2.541451</td>\n",
       "      <td>1.459227</td>\n",
       "      <td>-2.112126</td>\n",
       "    </tr>\n",
       "    <tr>\n",
       "      <th>1</th>\n",
       "      <td>1</td>\n",
       "      <td>E02000002</td>\n",
       "      <td>-1.009040</td>\n",
       "      <td>1.957405</td>\n",
       "      <td>1.108707</td>\n",
       "      <td>1.222531</td>\n",
       "      <td>0.498862</td>\n",
       "      <td>-0.534930</td>\n",
       "      <td>-0.984309</td>\n",
       "      <td>0.228226</td>\n",
       "      <td>-1.111678</td>\n",
       "    </tr>\n",
       "    <tr>\n",
       "      <th>2</th>\n",
       "      <td>2</td>\n",
       "      <td>E02000003</td>\n",
       "      <td>-0.780242</td>\n",
       "      <td>1.943847</td>\n",
       "      <td>1.734370</td>\n",
       "      <td>0.828451</td>\n",
       "      <td>-0.053968</td>\n",
       "      <td>-1.106924</td>\n",
       "      <td>-0.540533</td>\n",
       "      <td>0.128016</td>\n",
       "      <td>-1.374803</td>\n",
       "    </tr>\n",
       "    <tr>\n",
       "      <th>3</th>\n",
       "      <td>3</td>\n",
       "      <td>E02000004</td>\n",
       "      <td>-1.025167</td>\n",
       "      <td>1.923226</td>\n",
       "      <td>1.495577</td>\n",
       "      <td>0.753078</td>\n",
       "      <td>0.937380</td>\n",
       "      <td>-0.533747</td>\n",
       "      <td>-0.292659</td>\n",
       "      <td>0.088521</td>\n",
       "      <td>-0.963451</td>\n",
       "    </tr>\n",
       "    <tr>\n",
       "      <th>4</th>\n",
       "      <td>4</td>\n",
       "      <td>E02000005</td>\n",
       "      <td>-1.065720</td>\n",
       "      <td>1.941546</td>\n",
       "      <td>1.416714</td>\n",
       "      <td>1.250196</td>\n",
       "      <td>0.576136</td>\n",
       "      <td>-0.280787</td>\n",
       "      <td>-0.661333</td>\n",
       "      <td>-2.080410</td>\n",
       "      <td>-1.195965</td>\n",
       "    </tr>\n",
       "    <tr>\n",
       "      <th>...</th>\n",
       "      <td>...</td>\n",
       "      <td>...</td>\n",
       "      <td>...</td>\n",
       "      <td>...</td>\n",
       "      <td>...</td>\n",
       "      <td>...</td>\n",
       "      <td>...</td>\n",
       "      <td>...</td>\n",
       "      <td>...</td>\n",
       "      <td>...</td>\n",
       "      <td>...</td>\n",
       "    </tr>\n",
       "    <tr>\n",
       "      <th>7196</th>\n",
       "      <td>7196</td>\n",
       "      <td>W02000419</td>\n",
       "      <td>-0.322619</td>\n",
       "      <td>-0.929960</td>\n",
       "      <td>-0.612976</td>\n",
       "      <td>-0.491386</td>\n",
       "      <td>0.058155</td>\n",
       "      <td>0.402422</td>\n",
       "      <td>0.322708</td>\n",
       "      <td>-0.454857</td>\n",
       "      <td>0.938470</td>\n",
       "    </tr>\n",
       "    <tr>\n",
       "      <th>7197</th>\n",
       "      <td>7197</td>\n",
       "      <td>W02000420</td>\n",
       "      <td>0.902061</td>\n",
       "      <td>-0.445428</td>\n",
       "      <td>-0.998451</td>\n",
       "      <td>-0.435735</td>\n",
       "      <td>-0.775119</td>\n",
       "      <td>-0.358857</td>\n",
       "      <td>-1.275943</td>\n",
       "      <td>0.526216</td>\n",
       "      <td>1.196903</td>\n",
       "    </tr>\n",
       "    <tr>\n",
       "      <th>7198</th>\n",
       "      <td>7198</td>\n",
       "      <td>W02000421</td>\n",
       "      <td>1.984056</td>\n",
       "      <td>-0.587092</td>\n",
       "      <td>-1.603167</td>\n",
       "      <td>-1.136411</td>\n",
       "      <td>-0.414835</td>\n",
       "      <td>-0.957006</td>\n",
       "      <td>-1.279329</td>\n",
       "      <td>-0.045623</td>\n",
       "      <td>0.341567</td>\n",
       "    </tr>\n",
       "    <tr>\n",
       "      <th>7199</th>\n",
       "      <td>7199</td>\n",
       "      <td>W02000422</td>\n",
       "      <td>-1.183888</td>\n",
       "      <td>-0.749961</td>\n",
       "      <td>0.675719</td>\n",
       "      <td>0.491015</td>\n",
       "      <td>-2.037105</td>\n",
       "      <td>0.775006</td>\n",
       "      <td>1.401139</td>\n",
       "      <td>0.168965</td>\n",
       "      <td>-0.441150</td>\n",
       "    </tr>\n",
       "    <tr>\n",
       "      <th>7200</th>\n",
       "      <td>7200</td>\n",
       "      <td>W02000423</td>\n",
       "      <td>-1.112405</td>\n",
       "      <td>-0.191294</td>\n",
       "      <td>0.785260</td>\n",
       "      <td>0.624175</td>\n",
       "      <td>-2.497061</td>\n",
       "      <td>0.988226</td>\n",
       "      <td>1.900336</td>\n",
       "      <td>1.253540</td>\n",
       "      <td>-1.135195</td>\n",
       "    </tr>\n",
       "  </tbody>\n",
       "</table>\n",
       "<p>7201 rows × 11 columns</p>\n",
       "</div>"
      ],
      "text/plain": [
       "      Unnamed: 0       MSOA  yj_work_from_home_perc  \\\n",
       "0              0  E02000001                1.094545   \n",
       "1              1  E02000002               -1.009040   \n",
       "2              2  E02000003               -0.780242   \n",
       "3              3  E02000004               -1.025167   \n",
       "4              4  E02000005               -1.065720   \n",
       "...          ...        ...                     ...   \n",
       "7196        7196  W02000419               -0.322619   \n",
       "7197        7197  W02000420                0.902061   \n",
       "7198        7198  W02000421                1.984056   \n",
       "7199        7199  W02000422               -1.183888   \n",
       "7200        7200  W02000423               -1.112405   \n",
       "\n",
       "      yj_underground_metro_perc  yj_train_perc  yj_bus_perc  \\\n",
       "0                      1.965725       0.756826     0.058967   \n",
       "1                      1.957405       1.108707     1.222531   \n",
       "2                      1.943847       1.734370     0.828451   \n",
       "3                      1.923226       1.495577     0.753078   \n",
       "4                      1.941546       1.416714     1.250196   \n",
       "...                         ...            ...          ...   \n",
       "7196                  -0.929960      -0.612976    -0.491386   \n",
       "7197                  -0.445428      -0.998451    -0.435735   \n",
       "7198                  -0.587092      -1.603167    -1.136411   \n",
       "7199                  -0.749961       0.675719     0.491015   \n",
       "7200                  -0.191294       0.785260     0.624175   \n",
       "\n",
       "      yj_motorcycle_perc  yj_bicycle_perc  yj_on_foot_perc  yj_other_perc  \\\n",
       "0              -0.839575         1.275285         2.541451       1.459227   \n",
       "1               0.498862        -0.534930        -0.984309       0.228226   \n",
       "2              -0.053968        -1.106924        -0.540533       0.128016   \n",
       "3               0.937380        -0.533747        -0.292659       0.088521   \n",
       "4               0.576136        -0.280787        -0.661333      -2.080410   \n",
       "...                  ...              ...              ...            ...   \n",
       "7196            0.058155         0.402422         0.322708      -0.454857   \n",
       "7197           -0.775119        -0.358857        -1.275943       0.526216   \n",
       "7198           -0.414835        -0.957006        -1.279329      -0.045623   \n",
       "7199           -2.037105         0.775006         1.401139       0.168965   \n",
       "7200           -2.497061         0.988226         1.900336       1.253540   \n",
       "\n",
       "      yj_car_perc  \n",
       "0       -2.112126  \n",
       "1       -1.111678  \n",
       "2       -1.374803  \n",
       "3       -0.963451  \n",
       "4       -1.195965  \n",
       "...           ...  \n",
       "7196     0.938470  \n",
       "7197     1.196903  \n",
       "7198     0.341567  \n",
       "7199    -0.441150  \n",
       "7200    -1.135195  \n",
       "\n",
       "[7201 rows x 11 columns]"
      ]
     },
     "execution_count": 3,
     "metadata": {},
     "output_type": "execute_result"
    }
   ],
   "source": [
    "#put the data into a dataframe\n",
    "yj = pd.read_csv('Data/yeojohnson_zscore_st.csv')\n",
    "#check that is has been read correctly\n",
    "yj"
   ]
  },
  {
   "cell_type": "code",
   "execution_count": 4,
   "metadata": {},
   "outputs": [],
   "source": [
    "# store MSOA column \n",
    "MSOA = yj[['MSOA']]"
   ]
  },
  {
   "cell_type": "code",
   "execution_count": 5,
   "metadata": {
    "scrolled": true
   },
   "outputs": [
    {
     "data": {
      "text/html": [
       "<div>\n",
       "<style scoped>\n",
       "    .dataframe tbody tr th:only-of-type {\n",
       "        vertical-align: middle;\n",
       "    }\n",
       "\n",
       "    .dataframe tbody tr th {\n",
       "        vertical-align: top;\n",
       "    }\n",
       "\n",
       "    .dataframe thead th {\n",
       "        text-align: right;\n",
       "    }\n",
       "</style>\n",
       "<table border=\"1\" class=\"dataframe\">\n",
       "  <thead>\n",
       "    <tr style=\"text-align: right;\">\n",
       "      <th></th>\n",
       "      <th>yj_work_from_home_perc</th>\n",
       "      <th>yj_underground_metro_perc</th>\n",
       "      <th>yj_train_perc</th>\n",
       "      <th>yj_bus_perc</th>\n",
       "      <th>yj_motorcycle_perc</th>\n",
       "      <th>yj_bicycle_perc</th>\n",
       "      <th>yj_on_foot_perc</th>\n",
       "      <th>yj_other_perc</th>\n",
       "      <th>yj_car_perc</th>\n",
       "    </tr>\n",
       "  </thead>\n",
       "  <tbody>\n",
       "    <tr>\n",
       "      <th>0</th>\n",
       "      <td>1.094545</td>\n",
       "      <td>1.965725</td>\n",
       "      <td>0.756826</td>\n",
       "      <td>0.058967</td>\n",
       "      <td>-0.839575</td>\n",
       "      <td>1.275285</td>\n",
       "      <td>2.541451</td>\n",
       "      <td>1.459227</td>\n",
       "      <td>-2.112126</td>\n",
       "    </tr>\n",
       "    <tr>\n",
       "      <th>1</th>\n",
       "      <td>-1.009040</td>\n",
       "      <td>1.957405</td>\n",
       "      <td>1.108707</td>\n",
       "      <td>1.222531</td>\n",
       "      <td>0.498862</td>\n",
       "      <td>-0.534930</td>\n",
       "      <td>-0.984309</td>\n",
       "      <td>0.228226</td>\n",
       "      <td>-1.111678</td>\n",
       "    </tr>\n",
       "    <tr>\n",
       "      <th>2</th>\n",
       "      <td>-0.780242</td>\n",
       "      <td>1.943847</td>\n",
       "      <td>1.734370</td>\n",
       "      <td>0.828451</td>\n",
       "      <td>-0.053968</td>\n",
       "      <td>-1.106924</td>\n",
       "      <td>-0.540533</td>\n",
       "      <td>0.128016</td>\n",
       "      <td>-1.374803</td>\n",
       "    </tr>\n",
       "    <tr>\n",
       "      <th>3</th>\n",
       "      <td>-1.025167</td>\n",
       "      <td>1.923226</td>\n",
       "      <td>1.495577</td>\n",
       "      <td>0.753078</td>\n",
       "      <td>0.937380</td>\n",
       "      <td>-0.533747</td>\n",
       "      <td>-0.292659</td>\n",
       "      <td>0.088521</td>\n",
       "      <td>-0.963451</td>\n",
       "    </tr>\n",
       "    <tr>\n",
       "      <th>4</th>\n",
       "      <td>-1.065720</td>\n",
       "      <td>1.941546</td>\n",
       "      <td>1.416714</td>\n",
       "      <td>1.250196</td>\n",
       "      <td>0.576136</td>\n",
       "      <td>-0.280787</td>\n",
       "      <td>-0.661333</td>\n",
       "      <td>-2.080410</td>\n",
       "      <td>-1.195965</td>\n",
       "    </tr>\n",
       "    <tr>\n",
       "      <th>...</th>\n",
       "      <td>...</td>\n",
       "      <td>...</td>\n",
       "      <td>...</td>\n",
       "      <td>...</td>\n",
       "      <td>...</td>\n",
       "      <td>...</td>\n",
       "      <td>...</td>\n",
       "      <td>...</td>\n",
       "      <td>...</td>\n",
       "    </tr>\n",
       "    <tr>\n",
       "      <th>7196</th>\n",
       "      <td>-0.322619</td>\n",
       "      <td>-0.929960</td>\n",
       "      <td>-0.612976</td>\n",
       "      <td>-0.491386</td>\n",
       "      <td>0.058155</td>\n",
       "      <td>0.402422</td>\n",
       "      <td>0.322708</td>\n",
       "      <td>-0.454857</td>\n",
       "      <td>0.938470</td>\n",
       "    </tr>\n",
       "    <tr>\n",
       "      <th>7197</th>\n",
       "      <td>0.902061</td>\n",
       "      <td>-0.445428</td>\n",
       "      <td>-0.998451</td>\n",
       "      <td>-0.435735</td>\n",
       "      <td>-0.775119</td>\n",
       "      <td>-0.358857</td>\n",
       "      <td>-1.275943</td>\n",
       "      <td>0.526216</td>\n",
       "      <td>1.196903</td>\n",
       "    </tr>\n",
       "    <tr>\n",
       "      <th>7198</th>\n",
       "      <td>1.984056</td>\n",
       "      <td>-0.587092</td>\n",
       "      <td>-1.603167</td>\n",
       "      <td>-1.136411</td>\n",
       "      <td>-0.414835</td>\n",
       "      <td>-0.957006</td>\n",
       "      <td>-1.279329</td>\n",
       "      <td>-0.045623</td>\n",
       "      <td>0.341567</td>\n",
       "    </tr>\n",
       "    <tr>\n",
       "      <th>7199</th>\n",
       "      <td>-1.183888</td>\n",
       "      <td>-0.749961</td>\n",
       "      <td>0.675719</td>\n",
       "      <td>0.491015</td>\n",
       "      <td>-2.037105</td>\n",
       "      <td>0.775006</td>\n",
       "      <td>1.401139</td>\n",
       "      <td>0.168965</td>\n",
       "      <td>-0.441150</td>\n",
       "    </tr>\n",
       "    <tr>\n",
       "      <th>7200</th>\n",
       "      <td>-1.112405</td>\n",
       "      <td>-0.191294</td>\n",
       "      <td>0.785260</td>\n",
       "      <td>0.624175</td>\n",
       "      <td>-2.497061</td>\n",
       "      <td>0.988226</td>\n",
       "      <td>1.900336</td>\n",
       "      <td>1.253540</td>\n",
       "      <td>-1.135195</td>\n",
       "    </tr>\n",
       "  </tbody>\n",
       "</table>\n",
       "<p>7201 rows × 9 columns</p>\n",
       "</div>"
      ],
      "text/plain": [
       "      yj_work_from_home_perc  yj_underground_metro_perc  yj_train_perc  \\\n",
       "0                   1.094545                   1.965725       0.756826   \n",
       "1                  -1.009040                   1.957405       1.108707   \n",
       "2                  -0.780242                   1.943847       1.734370   \n",
       "3                  -1.025167                   1.923226       1.495577   \n",
       "4                  -1.065720                   1.941546       1.416714   \n",
       "...                      ...                        ...            ...   \n",
       "7196               -0.322619                  -0.929960      -0.612976   \n",
       "7197                0.902061                  -0.445428      -0.998451   \n",
       "7198                1.984056                  -0.587092      -1.603167   \n",
       "7199               -1.183888                  -0.749961       0.675719   \n",
       "7200               -1.112405                  -0.191294       0.785260   \n",
       "\n",
       "      yj_bus_perc  yj_motorcycle_perc  yj_bicycle_perc  yj_on_foot_perc  \\\n",
       "0        0.058967           -0.839575         1.275285         2.541451   \n",
       "1        1.222531            0.498862        -0.534930        -0.984309   \n",
       "2        0.828451           -0.053968        -1.106924        -0.540533   \n",
       "3        0.753078            0.937380        -0.533747        -0.292659   \n",
       "4        1.250196            0.576136        -0.280787        -0.661333   \n",
       "...           ...                 ...              ...              ...   \n",
       "7196    -0.491386            0.058155         0.402422         0.322708   \n",
       "7197    -0.435735           -0.775119        -0.358857        -1.275943   \n",
       "7198    -1.136411           -0.414835        -0.957006        -1.279329   \n",
       "7199     0.491015           -2.037105         0.775006         1.401139   \n",
       "7200     0.624175           -2.497061         0.988226         1.900336   \n",
       "\n",
       "      yj_other_perc  yj_car_perc  \n",
       "0          1.459227    -2.112126  \n",
       "1          0.228226    -1.111678  \n",
       "2          0.128016    -1.374803  \n",
       "3          0.088521    -0.963451  \n",
       "4         -2.080410    -1.195965  \n",
       "...             ...          ...  \n",
       "7196      -0.454857     0.938470  \n",
       "7197       0.526216     1.196903  \n",
       "7198      -0.045623     0.341567  \n",
       "7199       0.168965    -0.441150  \n",
       "7200       1.253540    -1.135195  \n",
       "\n",
       "[7201 rows x 9 columns]"
      ]
     },
     "execution_count": 5,
     "metadata": {},
     "output_type": "execute_result"
    }
   ],
   "source": [
    "# drop non numeric columns\n",
    "yj.drop(['Unnamed: 0', 'MSOA'], axis=1, inplace=True)\n",
    "yj"
   ]
  },
  {
   "cell_type": "code",
   "execution_count": 6,
   "metadata": {},
   "outputs": [
    {
     "data": {
      "text/plain": [
       "yj_work_from_home_perc       0\n",
       "yj_underground_metro_perc    0\n",
       "yj_train_perc                0\n",
       "yj_bus_perc                  0\n",
       "yj_motorcycle_perc           0\n",
       "yj_bicycle_perc              0\n",
       "yj_on_foot_perc              0\n",
       "yj_other_perc                0\n",
       "yj_car_perc                  0\n",
       "dtype: int64"
      ]
     },
     "execution_count": 6,
     "metadata": {},
     "output_type": "execute_result"
    }
   ],
   "source": [
    "yj.isna().sum() "
   ]
  },
  {
   "cell_type": "code",
   "execution_count": 7,
   "metadata": {},
   "outputs": [
    {
     "data": {
      "text/plain": [
       "yj_work_from_home_perc       0\n",
       "yj_underground_metro_perc    0\n",
       "yj_train_perc                0\n",
       "yj_bus_perc                  0\n",
       "yj_motorcycle_perc           0\n",
       "yj_bicycle_perc              0\n",
       "yj_on_foot_perc              0\n",
       "yj_other_perc                0\n",
       "yj_car_perc                  0\n",
       "dtype: int64"
      ]
     },
     "execution_count": 7,
     "metadata": {},
     "output_type": "execute_result"
    }
   ],
   "source": [
    "# drop any columns with NA values\n",
    "yj.dropna(axis = 1, how = 'any', inplace = True)\n",
    "yj.isna().sum() "
   ]
  },
  {
   "cell_type": "markdown",
   "metadata": {},
   "source": [
    "## DBSCAN"
   ]
  },
  {
   "cell_type": "code",
   "execution_count": 8,
   "metadata": {},
   "outputs": [
    {
     "data": {
      "text/plain": [
       "array([[0.        , 1.18475014],\n",
       "       [0.        , 0.54983287],\n",
       "       [0.        , 0.37518744],\n",
       "       ...,\n",
       "       [0.        , 0.85297093],\n",
       "       [0.        , 1.01752641],\n",
       "       [0.        , 1.13027073]])"
      ]
     },
     "execution_count": 8,
     "metadata": {},
     "output_type": "execute_result"
    }
   ],
   "source": [
    "# We need to select the epsilon and min_smaples parameters\n",
    "\n",
    "# https://towardsdatascience.com/machine-learning-clustering-dbscan-determine-the-optimal-value-for-epsilon-eps-python-example-3100091cfbc\n",
    "# eps: Two points are considered neighbors if the distance between the two points is below the threshold epsilon.\n",
    "# min_samples: The minimum number of neighbors a given point should have in order to be classified as a core point. \n",
    "from sklearn import neighbors\n",
    "\n",
    "neigh = neighbors.NearestNeighbors(n_neighbors=2)\n",
    "nbrs = neigh.fit(yj)\n",
    "distances, indices = nbrs.kneighbors(yj)\n",
    "distances"
   ]
  },
  {
   "cell_type": "code",
   "execution_count": 9,
   "metadata": {},
   "outputs": [
    {
     "data": {
      "text/plain": [
       "[<matplotlib.lines.Line2D at 0x10c148780>]"
      ]
     },
     "execution_count": 9,
     "metadata": {},
     "output_type": "execute_result"
    },
    {
     "data": {
      "image/png": "[encoded data removed]",
      "text/plain": [
       "<Figure size 432x288 with 1 Axes>"
      ]
     },
     "metadata": {
      "needs_background": "light"
     },
     "output_type": "display_data"
    }
   ],
   "source": [
    "# sort and plot the results\n",
    "distances = np.sort(distances, axis=0)\n",
    "distances = distances[:,1]\n",
    "plt.plot(distances)"
   ]
  },
  {
   "cell_type": "code",
   "execution_count": 10,
   "metadata": {},
   "outputs": [
    {
     "data": {
      "text/plain": [
       "DBSCAN(algorithm='auto', eps=2.5, leaf_size=30, metric='euclidean',\n",
       "       metric_params=None, min_samples=5, n_jobs=None, p=None)"
      ]
     },
     "execution_count": 10,
     "metadata": {},
     "output_type": "execute_result"
    }
   ],
   "source": [
    "# create DBSCAN cluster object\n",
    "\n",
    "# the eps is at the point of maximum curvature in the graph above\n",
    "dbscan = DBSCAN(eps=2.5, min_samples=5) \n",
    "\n",
    "#algorith to be used by the NearestNeighbors module to compute pointwise distance and find neighest neighbours - see NN module documentation\n",
    "# run the .fit() function on the scaled dataset\n",
    "dbscan.fit(yj) \n",
    "\n"
   ]
  },
  {
   "cell_type": "code",
   "execution_count": 11,
   "metadata": {},
   "outputs": [
    {
     "data": {
      "text/plain": [
       "1"
      ]
     },
     "execution_count": 11,
     "metadata": {},
     "output_type": "execute_result"
    }
   ],
   "source": [
    "#Get the labels from the clusters\n",
    "dbscan_labels = dbscan.labels_\n",
    "#dbscan_labels\n",
    "# to get number of clusters\n",
    "len(set(dbscan_labels)) - (1 if -1 in dbscan_labels else 0)"
   ]
  },
  {
   "cell_type": "code",
   "execution_count": 12,
   "metadata": {},
   "outputs": [
    {
     "data": {
      "text/plain": [
       "0.4128847950034862"
      ]
     },
     "execution_count": 12,
     "metadata": {},
     "output_type": "execute_result"
    }
   ],
   "source": [
    "#check the silhouette score\n",
    "# A silhouette score ranges from -1 to 1, with -1 being the worst score possible and 1 \n",
    "# being the best score. Silhouette scores of 0 suggest overlapping clusters.\n",
    "metrics.silhouette_score(yj, dbscan_labels)"
   ]
  },
  {
   "cell_type": "code",
   "execution_count": 13,
   "metadata": {},
   "outputs": [
    {
     "data": {
      "text/plain": [
       " 0    7200\n",
       "-1       1\n",
       "Name: label, dtype: int64"
      ]
     },
     "execution_count": 13,
     "metadata": {},
     "output_type": "execute_result"
    }
   ],
   "source": [
    "#assign the labels to the original dataframe\n",
    "yj_zscore_DB =yj.assign(label = dbscan_labels)\n",
    "\n",
    "#and check the value counts\n",
    "yj_zscore_DB.label.value_counts()"
   ]
  },
  {
   "cell_type": "code",
   "execution_count": 14,
   "metadata": {},
   "outputs": [],
   "source": [
    "# re-insert MSOA column\n",
    "yj_zscore_DB =pd.concat([MSOA, yj_zscore_DB], axis='columns')\n",
    "#save to csv\n",
    "yj_zscore_DB.to_csv('Data/Clustering_Results/yeojohnson_zscore_st_DBSCAN.csv')"
   ]
  },
  {
   "cell_type": "markdown",
   "metadata": {},
   "source": [
    "## kmeans clustering"
   ]
  },
  {
   "cell_type": "code",
   "execution_count": 15,
   "metadata": {},
   "outputs": [
    {
     "data": {
      "image/png": "[encoded data removed]",
      "text/plain": [
       "<Figure size 432x288 with 1 Axes>"
      ]
     },
     "metadata": {
      "needs_background": "light"
     },
     "output_type": "display_data"
    }
   ],
   "source": [
    "#elbow plot over multiple k's\n",
    "\n",
    "#calculate SSE for a range of number of cluster\n",
    "\n",
    "list_SSE = []\n",
    "min_k = 1\n",
    "max_k = 10\n",
    "range_k = range(min_k, max_k+1)\n",
    "for i in range_k:\n",
    "    km = KMeans(\n",
    "        n_clusters=i, init='random',\n",
    "        n_init=10, max_iter=300,\n",
    "        tol=1e-04, random_state=0\n",
    "    )\n",
    "    km.fit(yj)\n",
    "    # inertia is a concept in physics. Roughly it means SSE of clustering.\n",
    "    list_SSE.append(km.inertia_)\n",
    "\n",
    "# plot\n",
    "plt.plot(range_k, list_SSE, marker='o')\n",
    "plt.xlabel('Number of clusters')\n",
    "plt.ylabel('SSE')\n",
    "plt.show()"
   ]
  },
  {
   "cell_type": "code",
   "execution_count": 16,
   "metadata": {},
   "outputs": [],
   "source": [
    "#set the number of clusters to explore\n",
    "k_cluster = 3\n",
    "#set the random seed\n",
    "random_seed = 1\n",
    "#random state: int, default = None\n",
    "#determines random number generation for ecntroid intialisation, use an int to make the randomness deterministic"
   ]
  },
  {
   "cell_type": "code",
   "execution_count": 17,
   "metadata": {},
   "outputs": [
    {
     "data": {
      "text/plain": [
       "KMeans(algorithm='auto', copy_x=True, init='k-means++', max_iter=300,\n",
       "       n_clusters=3, n_init=10, n_jobs=None, precompute_distances='auto',\n",
       "       random_state=1, tol=0.0001, verbose=0)"
      ]
     },
     "execution_count": 17,
     "metadata": {},
     "output_type": "execute_result"
    }
   ],
   "source": [
    "#get the method for kmeans\n",
    "kmeans_method = KMeans(n_clusters=k_cluster,random_state=random_seed)\n",
    "#apply the fit to the scaled dataset\n",
    "kmeans_method.fit(yj)"
   ]
  },
  {
   "cell_type": "code",
   "execution_count": 18,
   "metadata": {},
   "outputs": [],
   "source": [
    "#assign the labels to original databse\n",
    "yj_zscore_kmeans = yj.assign(label = kmeans_method.labels_)"
   ]
  },
  {
   "cell_type": "code",
   "execution_count": 19,
   "metadata": {},
   "outputs": [],
   "source": [
    "# re-insert MSOA column\n",
    "yj_zscore_kmeans =pd.concat([MSOA, yj_zscore_kmeans], axis='columns')\n",
    "#save to csv\n",
    "yj_zscore_kmeans.to_csv('Data/Clustering_Results/yeojohnson_zscore_st_kmeans.csv')"
   ]
  },
  {
   "cell_type": "code",
   "execution_count": 20,
   "metadata": {},
   "outputs": [],
   "source": [
    "# #silhouette score over multiple k's\n",
    "\n",
    "# #empty array to hold the silhouette scores\n",
    "# silhouette = []\n",
    "\n",
    "# #iterate over the number of clusters from 2 to 10\n",
    "# for i in range(2, 10):\n",
    "#     #create an empty array to store the average\n",
    "#     average = []\n",
    "#     #repeat the kmeans clustering 10 times\n",
    "#     for x in range(1, 10):\n",
    "#         #setting the number of clusters as i\n",
    "#         k_cluster = i\n",
    "#         #create a random integer for the random seed\n",
    "#         random_seed = random.randint(1,101)\n",
    "#         #run the kmeans analysis\n",
    "#         kmeans_method = KMeans(n_clusters=k_cluster,random_state=random_seed)\n",
    "#         #fit it to the scaled dataset\n",
    "#         kmeans_method.fit(yj)\n",
    "#         #get the labels\n",
    "#         labels = kmeans_method.labels_\n",
    "#         #get the silhouette score\n",
    "#         a = metrics.silhouette_score(yj, labels)\n",
    "#         #append it to the average list\n",
    "#         average.append(a)\n",
    "#     #get the silhouette score and append it to the silhouette \n",
    "#     silhouette.append(sum(average)/len(average))\n",
    "    \n",
    "# #plot the silhouette score\n",
    "# plt.plot(silhouette)"
   ]
  },
  {
   "cell_type": "markdown",
   "metadata": {},
   "source": [
    "## Agglomerative clustering"
   ]
  },
  {
   "cell_type": "code",
   "execution_count": 21,
   "metadata": {},
   "outputs": [
    {
     "data": {
      "text/plain": [
       "AgglomerativeClustering(affinity='euclidean', compute_full_tree='auto',\n",
       "                        connectivity=None, distance_threshold=None,\n",
       "                        linkage='ward', memory=None, n_clusters=3,\n",
       "                        pooling_func='deprecated')"
      ]
     },
     "execution_count": 21,
     "metadata": {},
     "output_type": "execute_result"
    }
   ],
   "source": [
    "#set the number of clusters expected (from elbow diagram in kmeans part)\n",
    "n_clusters = 3\n",
    "\n",
    "#get the hierarchy method\n",
    "hierarchy = AgglomerativeClustering(n_clusters = n_clusters)\n",
    "\n",
    "#fit it to the data\n",
    "hierarchy.fit(yj)"
   ]
  },
  {
   "cell_type": "code",
   "execution_count": 22,
   "metadata": {},
   "outputs": [],
   "source": [
    "#assign labels to the original data\n",
    "yj_zscore_hierarchy = yj.assign(label = hierarchy.labels_)"
   ]
  },
  {
   "cell_type": "code",
   "execution_count": 23,
   "metadata": {},
   "outputs": [
    {
     "data": {
      "text/plain": [
       "0.13976662701244416"
      ]
     },
     "execution_count": 23,
     "metadata": {},
     "output_type": "execute_result"
    }
   ],
   "source": [
    "hierarchy_labels = hierarchy.labels_\n",
    "\n",
    "#check the silhouette score\n",
    "metrics.silhouette_score(yj, hierarchy_labels)"
   ]
  },
  {
   "cell_type": "code",
   "execution_count": 24,
   "metadata": {},
   "outputs": [],
   "source": [
    "# re-insert MSOA column\n",
    "yj_zscore_hierarchy =pd.concat([MSOA, yj_zscore_hierarchy], axis='columns')\n",
    "#save to csv\n",
    "yj_zscore_hierarchy.to_csv('Data/Clustering_Results/yeojohnson_zscore_st_heirarchy.csv')"
   ]
  },
  {
   "cell_type": "code",
   "execution_count": null,
   "metadata": {},
   "outputs": [],
   "source": []
  }
 ],
 "metadata": {
  "kernelspec": {
   "display_name": "Python 3",
   "language": "python",
   "name": "python3"
  },
  "language_info": {
   "codemirror_mode": {
    "name": "ipython",
    "version": 3
   },
   "file_extension": ".py",
   "mimetype": "text/x-python",
   "name": "python",
   "nbconvert_exporter": "python",
   "pygments_lexer": "ipython3",
   "version": "3.7.1"
  }
 },
 "nbformat": 4,
 "nbformat_minor": 2
}
