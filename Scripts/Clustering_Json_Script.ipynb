{
 "cells": [
  {
   "cell_type": "code",
   "execution_count": 1,
   "metadata": {},
   "outputs": [],
   "source": [
    "import pandas as pd"
   ]
  },
  {
   "cell_type": "code",
   "execution_count": 2,
   "metadata": {},
   "outputs": [
    {
     "data": {
      "text/plain": [
       "'C:\\\\Users\\\\cex\\\\Documents\\\\Smart Cities and Urban Analytics\\\\Term 2\\\\SDC\\\\Assessment\\\\Code repos\\\\spidercartographers\\\\Scripts'"
      ]
     },
     "execution_count": 2,
     "metadata": {},
     "output_type": "execute_result"
    }
   ],
   "source": [
    "import os\n",
    "\n",
    "os.getcwd()"
   ]
  },
  {
   "cell_type": "code",
   "execution_count": 3,
   "metadata": {},
   "outputs": [
    {
     "data": {
      "text/plain": [
       "Index(['Unnamed: 0', 'MSOA', 'yj_idr_Kmeans_cluster', 'yj_DB_cluster',\n",
       "       'HH_owning_cars_perc', 'work_from_home_perc', 'underground_metro_perc',\n",
       "       'train_perc', 'bus_perc', 'bicycle_perc', 'on_foot_perc',\n",
       "       'avg_time_from_origin_car_UNWEIGHTED', 'avg_time_car',\n",
       "       'avg_time_from_origin_bus_UNWEIGHTED', 'avg_time_bus',\n",
       "       'avg_time_from_origin_rail_UNWEIGHTED', 'avg_time_rail', 'car_perc',\n",
       "       'log_zscore_DB_cluster', 'log_zscore_kmeans_cluster',\n",
       "       'log_zscore_H_cluster', 'log_range_DB_cluster', 'log_range_H_cluster',\n",
       "       'log_range_kmeans_cluster', 'log_idr_DB_cluster',\n",
       "       'log_idr_kmeans_cluster', 'log_idr_H_cluster', 'yj_idr_DB_cluster',\n",
       "       'yj_idr_H_cluster', 'yj_H_cluster', 'yj_Kmeans_cluster',\n",
       "       'yj_Zscore_DB_cluster', 'yj_Zscore_H_cluster',\n",
       "       'yj_zscore_Kmeans_cluster'],\n",
       "      dtype='object')"
      ]
     },
     "execution_count": 3,
     "metadata": {},
     "output_type": "execute_result"
    }
   ],
   "source": [
    "clusters=  pd.read_csv(\"Data/Clustering_Results/clusterlabels_cleaneddata3.csv\")\n",
    "clusters\n",
    "\n",
    "clusters.columns"
   ]
  },
  {
   "cell_type": "code",
   "execution_count": 4,
   "metadata": {},
   "outputs": [],
   "source": [
    "clusters.drop(['Unnamed: 0','log_range_kmeans_cluster', 'yj_idr_DB_cluster', 'yj_idr_H_cluster',\n",
    "       'yj_H_cluster', 'yj_Kmeans_cluster', 'yj_Zscore_DB_cluster',\n",
    "       'yj_Zscore_H_cluster', 'yj_zscore_Kmeans_cluster', 'log_idr_H_cluster',\n",
    "       'log_idr_DB_cluster', 'log_idr_kmeans_cluster', 'yj_idr_Kmeans_cluster', 'yj_DB_cluster', 'log_zscore_DB_cluster',\n",
    "       'log_zscore_H_cluster', 'log_range_H_cluster',\n",
    "       'log_range_DB_cluster'], axis =1, inplace = True)"
   ]
  },
  {
   "cell_type": "code",
   "execution_count": 5,
   "metadata": {},
   "outputs": [
    {
     "data": {
      "text/plain": [
       "Index(['MSOA', 'HH_owning_cars_perc', 'work_from_home_perc',\n",
       "       'underground_metro_perc', 'train_perc', 'bus_perc', 'bicycle_perc',\n",
       "       'on_foot_perc', 'avg_time_from_origin_car_UNWEIGHTED', 'avg_time_car',\n",
       "       'avg_time_from_origin_bus_UNWEIGHTED', 'avg_time_bus',\n",
       "       'avg_time_from_origin_rail_UNWEIGHTED', 'avg_time_rail', 'car_perc',\n",
       "       'log_zscore_kmeans_cluster'],\n",
       "      dtype='object')"
      ]
     },
     "execution_count": 5,
     "metadata": {},
     "output_type": "execute_result"
    }
   ],
   "source": [
    "clusters.columns"
   ]
  },
  {
   "cell_type": "code",
   "execution_count": 6,
   "metadata": {},
   "outputs": [],
   "source": [
    "clusters.loc[clusters.log_zscore_kmeans_cluster == 0, 'log_zscore_kmeans_cluster'] = 5"
   ]
  },
  {
   "cell_type": "code",
   "execution_count": 14,
   "metadata": {},
   "outputs": [
    {
     "data": {
      "text/plain": [
       "array([3, 4, 5, 2, 1], dtype=int64)"
      ]
     },
     "execution_count": 14,
     "metadata": {},
     "output_type": "execute_result"
    }
   ],
   "source": [
    "clusters['log_zscore_kmeans_cluster'].unique()"
   ]
  },
  {
   "cell_type": "code",
   "execution_count": 15,
   "metadata": {},
   "outputs": [],
   "source": [
    "clusters.set_index(\"MSOA\", inplace = True)"
   ]
  },
  {
   "cell_type": "code",
   "execution_count": 16,
   "metadata": {},
   "outputs": [],
   "source": [
    "clusters.to_json(\"Data/Clustering_Results/clusters_final2.json\", orient = \"index\")"
   ]
  }
 ],
 "metadata": {
  "kernelspec": {
   "display_name": "Python 3",
   "language": "python",
   "name": "python3"
  },
  "language_info": {
   "codemirror_mode": {
    "name": "ipython",
    "version": 3
   },
   "file_extension": ".py",
   "mimetype": "text/x-python",
   "name": "python",
   "nbconvert_exporter": "python",
   "pygments_lexer": "ipython3",
   "version": "3.7.3"
  }
 },
 "nbformat": 4,
 "nbformat_minor": 2
}
