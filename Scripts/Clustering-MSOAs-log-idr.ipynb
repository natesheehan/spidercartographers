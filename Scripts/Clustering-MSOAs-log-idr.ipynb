{
 "cells": [
  {
   "cell_type": "markdown",
   "metadata": {},
   "source": [
    "## clustering python notebook"
   ]
  },
  {
   "cell_type": "code",
   "execution_count": 1,
   "metadata": {},
   "outputs": [
    {
     "data": {
      "text/plain": [
       "'/Users/Hussein/Documents/Code Repos/spidercartographers/Scripts'"
      ]
     },
     "execution_count": 1,
     "metadata": {},
     "output_type": "execute_result"
    }
   ],
   "source": [
    "import os \n",
    "os.getcwd()"
   ]
  },
  {
   "cell_type": "code",
   "execution_count": 2,
   "metadata": {},
   "outputs": [],
   "source": [
    "# importing libraries required\n",
    "import pandas as pd\n",
    "import plotly.express as px\n",
    "import sklearn.preprocessing as preprocessing\n",
    "from sklearn.cluster import DBSCAN\n",
    "from sklearn import metrics\n",
    "from sklearn.cluster import KMeans\n",
    "import matplotlib.pyplot as plt\n",
    "import random\n",
    "from sklearn.cluster import AgglomerativeClustering\n",
    "from sklearn import neighbors\n",
    "import numpy as np\n",
    "\n",
    "# run this command too - just to allow more data to be displayed than default\n",
    "pd.set_option('display.max_rows', 200)\n",
    "# this one ensures graphs properly display in the notebook\n",
    "%matplotlib inline"
   ]
  },
  {
   "cell_type": "code",
   "execution_count": 3,
   "metadata": {
    "scrolled": true
   },
   "outputs": [
    {
     "data": {
      "text/html": [
       "<div>\n",
       "<style scoped>\n",
       "    .dataframe tbody tr th:only-of-type {\n",
       "        vertical-align: middle;\n",
       "    }\n",
       "\n",
       "    .dataframe tbody tr th {\n",
       "        vertical-align: top;\n",
       "    }\n",
       "\n",
       "    .dataframe thead th {\n",
       "        text-align: right;\n",
       "    }\n",
       "</style>\n",
       "<table border=\"1\" class=\"dataframe\">\n",
       "  <thead>\n",
       "    <tr style=\"text-align: right;\">\n",
       "      <th></th>\n",
       "      <th>Unnamed: 0</th>\n",
       "      <th>work_from_home_perc</th>\n",
       "      <th>underground_metro_perc</th>\n",
       "      <th>train_perc</th>\n",
       "      <th>bus_perc</th>\n",
       "      <th>motorcycle_perc</th>\n",
       "      <th>bicycle_perc</th>\n",
       "      <th>on_foot_perc</th>\n",
       "      <th>other_perc</th>\n",
       "      <th>car_perc</th>\n",
       "      <th>MSOA</th>\n",
       "    </tr>\n",
       "  </thead>\n",
       "  <tbody>\n",
       "    <tr>\n",
       "      <th>0</th>\n",
       "      <td>0</td>\n",
       "      <td>3.211875</td>\n",
       "      <td>24.130140</td>\n",
       "      <td>1.014552</td>\n",
       "      <td>0.068626</td>\n",
       "      <td>-0.378707</td>\n",
       "      <td>1.382841</td>\n",
       "      <td>5.924758</td>\n",
       "      <td>0.896357</td>\n",
       "      <td>-7.121317</td>\n",
       "      <td>E02000001</td>\n",
       "    </tr>\n",
       "    <tr>\n",
       "      <th>1</th>\n",
       "      <td>1</td>\n",
       "      <td>-2.119479</td>\n",
       "      <td>23.287544</td>\n",
       "      <td>1.510024</td>\n",
       "      <td>2.361978</td>\n",
       "      <td>0.218113</td>\n",
       "      <td>-0.483132</td>\n",
       "      <td>-1.781474</td>\n",
       "      <td>0.131442</td>\n",
       "      <td>-0.767249</td>\n",
       "      <td>E02000002</td>\n",
       "    </tr>\n",
       "    <tr>\n",
       "      <th>2</th>\n",
       "      <td>2</td>\n",
       "      <td>-1.640021</td>\n",
       "      <td>22.221301</td>\n",
       "      <td>2.568671</td>\n",
       "      <td>1.594357</td>\n",
       "      <td>-0.018472</td>\n",
       "      <td>-1.054311</td>\n",
       "      <td>-0.988576</td>\n",
       "      <td>0.073750</td>\n",
       "      <td>-1.051207</td>\n",
       "      <td>E02000003</td>\n",
       "    </tr>\n",
       "    <tr>\n",
       "      <th>3</th>\n",
       "      <td>3</td>\n",
       "      <td>-2.152636</td>\n",
       "      <td>21.012597</td>\n",
       "      <td>2.128309</td>\n",
       "      <td>1.447008</td>\n",
       "      <td>0.402629</td>\n",
       "      <td>-0.481981</td>\n",
       "      <td>-0.534634</td>\n",
       "      <td>0.051074</td>\n",
       "      <td>-0.638882</td>\n",
       "      <td>E02000004</td>\n",
       "    </tr>\n",
       "    <tr>\n",
       "      <th>4</th>\n",
       "      <td>4</td>\n",
       "      <td>-2.235657</td>\n",
       "      <td>22.066407</td>\n",
       "      <td>1.994055</td>\n",
       "      <td>2.415786</td>\n",
       "      <td>0.250695</td>\n",
       "      <td>-0.237010</td>\n",
       "      <td>-1.206674</td>\n",
       "      <td>-1.287228</td>\n",
       "      <td>-0.849081</td>\n",
       "      <td>E02000005</td>\n",
       "    </tr>\n",
       "    <tr>\n",
       "      <th>...</th>\n",
       "      <td>...</td>\n",
       "      <td>...</td>\n",
       "      <td>...</td>\n",
       "      <td>...</td>\n",
       "      <td>...</td>\n",
       "      <td>...</td>\n",
       "      <td>...</td>\n",
       "      <td>...</td>\n",
       "      <td>...</td>\n",
       "      <td>...</td>\n",
       "      <td>...</td>\n",
       "    </tr>\n",
       "    <tr>\n",
       "      <th>7196</th>\n",
       "      <td>7196</td>\n",
       "      <td>-0.624563</td>\n",
       "      <td>-11.340200</td>\n",
       "      <td>-0.707881</td>\n",
       "      <td>-1.081348</td>\n",
       "      <td>0.030215</td>\n",
       "      <td>0.431886</td>\n",
       "      <td>0.639373</td>\n",
       "      <td>-0.260220</td>\n",
       "      <td>0.265646</td>\n",
       "      <td>W02000419</td>\n",
       "    </tr>\n",
       "    <tr>\n",
       "      <th>7197</th>\n",
       "      <td>7197</td>\n",
       "      <td>2.607917</td>\n",
       "      <td>-1.126144</td>\n",
       "      <td>-1.235384</td>\n",
       "      <td>-0.961280</td>\n",
       "      <td>-0.347440</td>\n",
       "      <td>-0.312457</td>\n",
       "      <td>-2.292347</td>\n",
       "      <td>0.305034</td>\n",
       "      <td>0.340745</td>\n",
       "      <td>W02000420</td>\n",
       "    </tr>\n",
       "    <tr>\n",
       "      <th>7198</th>\n",
       "      <td>7198</td>\n",
       "      <td>6.563763</td>\n",
       "      <td>-2.834091</td>\n",
       "      <td>-2.310024</td>\n",
       "      <td>-2.579455</td>\n",
       "      <td>-0.179002</td>\n",
       "      <td>-0.900740</td>\n",
       "      <td>-2.298244</td>\n",
       "      <td>-0.025777</td>\n",
       "      <td>0.064411</td>\n",
       "      <td>W02000421</td>\n",
       "    </tr>\n",
       "    <tr>\n",
       "      <th>7199</th>\n",
       "      <td>7199</td>\n",
       "      <td>-2.474743</td>\n",
       "      <td>-5.528346</td>\n",
       "      <td>0.906539</td>\n",
       "      <td>0.932101</td>\n",
       "      <td>-1.074700</td>\n",
       "      <td>0.817085</td>\n",
       "      <td>2.936665</td>\n",
       "      <td>0.097295</td>\n",
       "      <td>-0.291204</td>\n",
       "      <td>W02000422</td>\n",
       "    </tr>\n",
       "    <tr>\n",
       "      <th>7200</th>\n",
       "      <td>7200</td>\n",
       "      <td>-2.330610</td>\n",
       "      <td>1.245242</td>\n",
       "      <td>1.052886</td>\n",
       "      <td>1.194316</td>\n",
       "      <td>-1.459514</td>\n",
       "      <td>1.049709</td>\n",
       "      <td>4.152801</td>\n",
       "      <td>0.756116</td>\n",
       "      <td>-0.789361</td>\n",
       "      <td>W02000423</td>\n",
       "    </tr>\n",
       "  </tbody>\n",
       "</table>\n",
       "<p>7201 rows × 11 columns</p>\n",
       "</div>"
      ],
      "text/plain": [
       "      Unnamed: 0  work_from_home_perc  underground_metro_perc  train_perc  \\\n",
       "0              0             3.211875               24.130140    1.014552   \n",
       "1              1            -2.119479               23.287544    1.510024   \n",
       "2              2            -1.640021               22.221301    2.568671   \n",
       "3              3            -2.152636               21.012597    2.128309   \n",
       "4              4            -2.235657               22.066407    1.994055   \n",
       "...          ...                  ...                     ...         ...   \n",
       "7196        7196            -0.624563              -11.340200   -0.707881   \n",
       "7197        7197             2.607917               -1.126144   -1.235384   \n",
       "7198        7198             6.563763               -2.834091   -2.310024   \n",
       "7199        7199            -2.474743               -5.528346    0.906539   \n",
       "7200        7200            -2.330610                1.245242    1.052886   \n",
       "\n",
       "      bus_perc  motorcycle_perc  bicycle_perc  on_foot_perc  other_perc  \\\n",
       "0     0.068626        -0.378707      1.382841      5.924758    0.896357   \n",
       "1     2.361978         0.218113     -0.483132     -1.781474    0.131442   \n",
       "2     1.594357        -0.018472     -1.054311     -0.988576    0.073750   \n",
       "3     1.447008         0.402629     -0.481981     -0.534634    0.051074   \n",
       "4     2.415786         0.250695     -0.237010     -1.206674   -1.287228   \n",
       "...        ...              ...           ...           ...         ...   \n",
       "7196 -1.081348         0.030215      0.431886      0.639373   -0.260220   \n",
       "7197 -0.961280        -0.347440     -0.312457     -2.292347    0.305034   \n",
       "7198 -2.579455        -0.179002     -0.900740     -2.298244   -0.025777   \n",
       "7199  0.932101        -1.074700      0.817085      2.936665    0.097295   \n",
       "7200  1.194316        -1.459514      1.049709      4.152801    0.756116   \n",
       "\n",
       "      car_perc       MSOA  \n",
       "0    -7.121317  E02000001  \n",
       "1    -0.767249  E02000002  \n",
       "2    -1.051207  E02000003  \n",
       "3    -0.638882  E02000004  \n",
       "4    -0.849081  E02000005  \n",
       "...        ...        ...  \n",
       "7196  0.265646  W02000419  \n",
       "7197  0.340745  W02000420  \n",
       "7198  0.064411  W02000421  \n",
       "7199 -0.291204  W02000422  \n",
       "7200 -0.789361  W02000423  \n",
       "\n",
       "[7201 rows x 11 columns]"
      ]
     },
     "execution_count": 3,
     "metadata": {},
     "output_type": "execute_result"
    }
   ],
   "source": [
    "#put the data into a dataframe\n",
    "yj = pd.read_csv('Data/transport_log_then_idr.csv')\n",
    "#check that is has been read correctly\n",
    "yj"
   ]
  },
  {
   "cell_type": "code",
   "execution_count": 4,
   "metadata": {},
   "outputs": [],
   "source": [
    "# store MSOA column \n",
    "MSOA = yj[['MSOA']]"
   ]
  },
  {
   "cell_type": "code",
   "execution_count": 5,
   "metadata": {},
   "outputs": [
    {
     "data": {
      "text/html": [
       "<div>\n",
       "<style scoped>\n",
       "    .dataframe tbody tr th:only-of-type {\n",
       "        vertical-align: middle;\n",
       "    }\n",
       "\n",
       "    .dataframe tbody tr th {\n",
       "        vertical-align: top;\n",
       "    }\n",
       "\n",
       "    .dataframe thead th {\n",
       "        text-align: right;\n",
       "    }\n",
       "</style>\n",
       "<table border=\"1\" class=\"dataframe\">\n",
       "  <thead>\n",
       "    <tr style=\"text-align: right;\">\n",
       "      <th></th>\n",
       "      <th>work_from_home_perc</th>\n",
       "      <th>underground_metro_perc</th>\n",
       "      <th>train_perc</th>\n",
       "      <th>bus_perc</th>\n",
       "      <th>motorcycle_perc</th>\n",
       "      <th>bicycle_perc</th>\n",
       "      <th>on_foot_perc</th>\n",
       "      <th>other_perc</th>\n",
       "      <th>car_perc</th>\n",
       "    </tr>\n",
       "  </thead>\n",
       "  <tbody>\n",
       "    <tr>\n",
       "      <th>0</th>\n",
       "      <td>3.211875</td>\n",
       "      <td>24.130140</td>\n",
       "      <td>1.014552</td>\n",
       "      <td>0.068626</td>\n",
       "      <td>-0.378707</td>\n",
       "      <td>1.382841</td>\n",
       "      <td>5.924758</td>\n",
       "      <td>0.896357</td>\n",
       "      <td>-7.121317</td>\n",
       "    </tr>\n",
       "    <tr>\n",
       "      <th>1</th>\n",
       "      <td>-2.119479</td>\n",
       "      <td>23.287544</td>\n",
       "      <td>1.510024</td>\n",
       "      <td>2.361978</td>\n",
       "      <td>0.218113</td>\n",
       "      <td>-0.483132</td>\n",
       "      <td>-1.781474</td>\n",
       "      <td>0.131442</td>\n",
       "      <td>-0.767249</td>\n",
       "    </tr>\n",
       "    <tr>\n",
       "      <th>2</th>\n",
       "      <td>-1.640021</td>\n",
       "      <td>22.221301</td>\n",
       "      <td>2.568671</td>\n",
       "      <td>1.594357</td>\n",
       "      <td>-0.018472</td>\n",
       "      <td>-1.054311</td>\n",
       "      <td>-0.988576</td>\n",
       "      <td>0.073750</td>\n",
       "      <td>-1.051207</td>\n",
       "    </tr>\n",
       "    <tr>\n",
       "      <th>3</th>\n",
       "      <td>-2.152636</td>\n",
       "      <td>21.012597</td>\n",
       "      <td>2.128309</td>\n",
       "      <td>1.447008</td>\n",
       "      <td>0.402629</td>\n",
       "      <td>-0.481981</td>\n",
       "      <td>-0.534634</td>\n",
       "      <td>0.051074</td>\n",
       "      <td>-0.638882</td>\n",
       "    </tr>\n",
       "    <tr>\n",
       "      <th>4</th>\n",
       "      <td>-2.235657</td>\n",
       "      <td>22.066407</td>\n",
       "      <td>1.994055</td>\n",
       "      <td>2.415786</td>\n",
       "      <td>0.250695</td>\n",
       "      <td>-0.237010</td>\n",
       "      <td>-1.206674</td>\n",
       "      <td>-1.287228</td>\n",
       "      <td>-0.849081</td>\n",
       "    </tr>\n",
       "    <tr>\n",
       "      <th>...</th>\n",
       "      <td>...</td>\n",
       "      <td>...</td>\n",
       "      <td>...</td>\n",
       "      <td>...</td>\n",
       "      <td>...</td>\n",
       "      <td>...</td>\n",
       "      <td>...</td>\n",
       "      <td>...</td>\n",
       "      <td>...</td>\n",
       "    </tr>\n",
       "    <tr>\n",
       "      <th>7196</th>\n",
       "      <td>-0.624563</td>\n",
       "      <td>-11.340200</td>\n",
       "      <td>-0.707881</td>\n",
       "      <td>-1.081348</td>\n",
       "      <td>0.030215</td>\n",
       "      <td>0.431886</td>\n",
       "      <td>0.639373</td>\n",
       "      <td>-0.260220</td>\n",
       "      <td>0.265646</td>\n",
       "    </tr>\n",
       "    <tr>\n",
       "      <th>7197</th>\n",
       "      <td>2.607917</td>\n",
       "      <td>-1.126144</td>\n",
       "      <td>-1.235384</td>\n",
       "      <td>-0.961280</td>\n",
       "      <td>-0.347440</td>\n",
       "      <td>-0.312457</td>\n",
       "      <td>-2.292347</td>\n",
       "      <td>0.305034</td>\n",
       "      <td>0.340745</td>\n",
       "    </tr>\n",
       "    <tr>\n",
       "      <th>7198</th>\n",
       "      <td>6.563763</td>\n",
       "      <td>-2.834091</td>\n",
       "      <td>-2.310024</td>\n",
       "      <td>-2.579455</td>\n",
       "      <td>-0.179002</td>\n",
       "      <td>-0.900740</td>\n",
       "      <td>-2.298244</td>\n",
       "      <td>-0.025777</td>\n",
       "      <td>0.064411</td>\n",
       "    </tr>\n",
       "    <tr>\n",
       "      <th>7199</th>\n",
       "      <td>-2.474743</td>\n",
       "      <td>-5.528346</td>\n",
       "      <td>0.906539</td>\n",
       "      <td>0.932101</td>\n",
       "      <td>-1.074700</td>\n",
       "      <td>0.817085</td>\n",
       "      <td>2.936665</td>\n",
       "      <td>0.097295</td>\n",
       "      <td>-0.291204</td>\n",
       "    </tr>\n",
       "    <tr>\n",
       "      <th>7200</th>\n",
       "      <td>-2.330610</td>\n",
       "      <td>1.245242</td>\n",
       "      <td>1.052886</td>\n",
       "      <td>1.194316</td>\n",
       "      <td>-1.459514</td>\n",
       "      <td>1.049709</td>\n",
       "      <td>4.152801</td>\n",
       "      <td>0.756116</td>\n",
       "      <td>-0.789361</td>\n",
       "    </tr>\n",
       "  </tbody>\n",
       "</table>\n",
       "<p>7201 rows × 9 columns</p>\n",
       "</div>"
      ],
      "text/plain": [
       "      work_from_home_perc  underground_metro_perc  train_perc  bus_perc  \\\n",
       "0                3.211875               24.130140    1.014552  0.068626   \n",
       "1               -2.119479               23.287544    1.510024  2.361978   \n",
       "2               -1.640021               22.221301    2.568671  1.594357   \n",
       "3               -2.152636               21.012597    2.128309  1.447008   \n",
       "4               -2.235657               22.066407    1.994055  2.415786   \n",
       "...                   ...                     ...         ...       ...   \n",
       "7196            -0.624563              -11.340200   -0.707881 -1.081348   \n",
       "7197             2.607917               -1.126144   -1.235384 -0.961280   \n",
       "7198             6.563763               -2.834091   -2.310024 -2.579455   \n",
       "7199            -2.474743               -5.528346    0.906539  0.932101   \n",
       "7200            -2.330610                1.245242    1.052886  1.194316   \n",
       "\n",
       "      motorcycle_perc  bicycle_perc  on_foot_perc  other_perc  car_perc  \n",
       "0           -0.378707      1.382841      5.924758    0.896357 -7.121317  \n",
       "1            0.218113     -0.483132     -1.781474    0.131442 -0.767249  \n",
       "2           -0.018472     -1.054311     -0.988576    0.073750 -1.051207  \n",
       "3            0.402629     -0.481981     -0.534634    0.051074 -0.638882  \n",
       "4            0.250695     -0.237010     -1.206674   -1.287228 -0.849081  \n",
       "...               ...           ...           ...         ...       ...  \n",
       "7196         0.030215      0.431886      0.639373   -0.260220  0.265646  \n",
       "7197        -0.347440     -0.312457     -2.292347    0.305034  0.340745  \n",
       "7198        -0.179002     -0.900740     -2.298244   -0.025777  0.064411  \n",
       "7199        -1.074700      0.817085      2.936665    0.097295 -0.291204  \n",
       "7200        -1.459514      1.049709      4.152801    0.756116 -0.789361  \n",
       "\n",
       "[7201 rows x 9 columns]"
      ]
     },
     "execution_count": 5,
     "metadata": {},
     "output_type": "execute_result"
    }
   ],
   "source": [
    "# drop non numeric columns\n",
    "yj.drop(['Unnamed: 0', 'MSOA'], axis=1, inplace=True)\n",
    "yj"
   ]
  },
  {
   "cell_type": "markdown",
   "metadata": {},
   "source": [
    "## DBSCAN"
   ]
  },
  {
   "cell_type": "code",
   "execution_count": 6,
   "metadata": {},
   "outputs": [
    {
     "data": {
      "text/plain": [
       "array([[0.        , 2.28008893],\n",
       "       [0.        , 1.22882175],\n",
       "       [0.        , 1.28432866],\n",
       "       ...,\n",
       "       [0.        , 0.84576735],\n",
       "       [0.        , 1.78180502],\n",
       "       [0.        , 1.59112284]])"
      ]
     },
     "execution_count": 6,
     "metadata": {},
     "output_type": "execute_result"
    }
   ],
   "source": [
    "# We need to select the epsilon and min_smaples parameters\n",
    "\n",
    "# https://towardsdatascience.com/machine-learning-clustering-dbscan-determine-the-optimal-value-for-epsilon-eps-python-example-3100091cfbc\n",
    "# eps: Two points are considered neighbors if the distance between the two points is below the threshold epsilon.\n",
    "# min_samples: The minimum number of neighbors a given point should have in order to be classified as a core point. \n",
    "from sklearn import neighbors\n",
    "\n",
    "neigh = neighbors.NearestNeighbors(n_neighbors=2)\n",
    "nbrs = neigh.fit(yj)\n",
    "distances, indices = nbrs.kneighbors(yj)\n",
    "distances"
   ]
  },
  {
   "cell_type": "code",
   "execution_count": 7,
   "metadata": {},
   "outputs": [
    {
     "data": {
      "text/plain": [
       "[<matplotlib.lines.Line2D at 0x1020f8898>]"
      ]
     },
     "execution_count": 7,
     "metadata": {},
     "output_type": "execute_result"
    },
    {
     "data": {
      "image/png": "[encoded data removed]",
      "text/plain": [
       "<Figure size 432x288 with 1 Axes>"
      ]
     },
     "metadata": {
      "needs_background": "light"
     },
     "output_type": "display_data"
    }
   ],
   "source": [
    "# sort and plot the results\n",
    "distances = np.sort(distances, axis=0)\n",
    "distances = distances[:,1]\n",
    "plt.plot(distances)"
   ]
  },
  {
   "cell_type": "code",
   "execution_count": 8,
   "metadata": {},
   "outputs": [
    {
     "data": {
      "text/plain": [
       "DBSCAN(algorithm='auto', eps=2.2, leaf_size=30, metric='euclidean',\n",
       "       metric_params=None, min_samples=5, n_jobs=None, p=None)"
      ]
     },
     "execution_count": 8,
     "metadata": {},
     "output_type": "execute_result"
    }
   ],
   "source": [
    "# create DBSCAN cluster object\n",
    "\n",
    "# the eps is at the point of maximum curvature in the graph above\n",
    "dbscan = DBSCAN(eps=2.2, min_samples=5) \n",
    "\n",
    "#algorith to be used by the NearestNeighbors module to compute pointwise distance and find neighest neighbours - see NN module documentation\n",
    "# run the .fit() function on the scaled dataset\n",
    "dbscan.fit(yj) \n",
    "\n"
   ]
  },
  {
   "cell_type": "code",
   "execution_count": 9,
   "metadata": {},
   "outputs": [
    {
     "data": {
      "text/plain": [
       "4"
      ]
     },
     "execution_count": 9,
     "metadata": {},
     "output_type": "execute_result"
    }
   ],
   "source": [
    "#Get the labels from the clusters\n",
    "dbscan_labels = dbscan.labels_\n",
    "#dbscan_labels\n",
    "# to get number of clusters\n",
    "len(set(dbscan_labels)) - (1 if -1 in dbscan_labels else 0)"
   ]
  },
  {
   "cell_type": "code",
   "execution_count": 10,
   "metadata": {},
   "outputs": [],
   "source": [
    "#check the silhouette score\n",
    "# A silhouette score ranges from -1 to 1, with -1 being the worst score possible and 1 \n",
    "# being the best score. Silhouette scores of 0 suggest overlapping clusters.\n",
    "#metrics.silhouette_score(yj, dbscan_labels)"
   ]
  },
  {
   "cell_type": "code",
   "execution_count": 11,
   "metadata": {},
   "outputs": [
    {
     "data": {
      "text/plain": [
       " 0    6733\n",
       "-1     444\n",
       " 1      12\n",
       " 3       8\n",
       " 2       4\n",
       "Name: label, dtype: int64"
      ]
     },
     "execution_count": 11,
     "metadata": {},
     "output_type": "execute_result"
    }
   ],
   "source": [
    "#assign the labels to the original dataframe\n",
    "yj_idr_DB =yj.assign(label = dbscan_labels)\n",
    "\n",
    "#and check the value counts\n",
    "yj_idr_DB.label.value_counts()"
   ]
  },
  {
   "cell_type": "code",
   "execution_count": 12,
   "metadata": {},
   "outputs": [],
   "source": [
    "# re-insert MSOA column\n",
    "yj_idr_DB =pd.concat([MSOA, yj_idr_DB], axis='columns')\n",
    "#save to csv\n",
    "yj_idr_DB.to_csv('Data/Clustering_Results/log_idr_st_DBSCAN.csv')"
   ]
  },
  {
   "cell_type": "markdown",
   "metadata": {},
   "source": [
    "## kmeans clustering"
   ]
  },
  {
   "cell_type": "code",
   "execution_count": 13,
   "metadata": {},
   "outputs": [
    {
     "data": {
      "image/png": "[encoded data removed]",
      "text/plain": [
       "<Figure size 432x288 with 1 Axes>"
      ]
     },
     "metadata": {
      "needs_background": "light"
     },
     "output_type": "display_data"
    }
   ],
   "source": [
    "#elbow plot over multiple k's\n",
    "\n",
    "#calculate SSE for a range of number of cluster\n",
    "\n",
    "list_SSE = []\n",
    "min_k = 1\n",
    "max_k = 10\n",
    "range_k = range(min_k, max_k+1)\n",
    "for i in range_k:\n",
    "    km = KMeans(\n",
    "        n_clusters=i, init='random',\n",
    "        n_init=10, max_iter=300,\n",
    "        tol=1e-04, random_state=0\n",
    "    )\n",
    "    km.fit(yj)\n",
    "    # inertia is a concept in physics. Roughly it means SSE of clustering.\n",
    "    list_SSE.append(km.inertia_)\n",
    "\n",
    "# plot\n",
    "plt.plot(range_k, list_SSE, marker='o')\n",
    "plt.xlabel('Number of clusters')\n",
    "plt.ylabel('SSE')\n",
    "plt.show()"
   ]
  },
  {
   "cell_type": "code",
   "execution_count": 14,
   "metadata": {},
   "outputs": [],
   "source": [
    "#set the number of clusters to explore\n",
    "k_cluster = 2\n",
    "#set the random seed\n",
    "random_seed = 1\n",
    "#random state: int, default = None\n",
    "#determines random number generation for ecntroid intialisation, use an int to make the randomness deterministic"
   ]
  },
  {
   "cell_type": "code",
   "execution_count": 15,
   "metadata": {},
   "outputs": [
    {
     "data": {
      "text/plain": [
       "KMeans(algorithm='auto', copy_x=True, init='k-means++', max_iter=300,\n",
       "       n_clusters=2, n_init=10, n_jobs=None, precompute_distances='auto',\n",
       "       random_state=1, tol=0.0001, verbose=0)"
      ]
     },
     "execution_count": 15,
     "metadata": {},
     "output_type": "execute_result"
    }
   ],
   "source": [
    "#get the method for kmeans\n",
    "kmeans_method = KMeans(n_clusters=k_cluster,random_state=random_seed)\n",
    "#apply the fit to the scaled dataset\n",
    "kmeans_method.fit(yj)"
   ]
  },
  {
   "cell_type": "code",
   "execution_count": 16,
   "metadata": {},
   "outputs": [],
   "source": [
    "#assign the labels to original databse\n",
    "yj_idr_kmeans = yj.assign(label = kmeans_method.labels_)"
   ]
  },
  {
   "cell_type": "code",
   "execution_count": 17,
   "metadata": {},
   "outputs": [],
   "source": [
    "# re-insert MSOA column\n",
    "yj_idr_kmeans =pd.concat([MSOA, yj_idr_kmeans], axis='columns')\n",
    "#save to csv\n",
    "yj_idr_kmeans.to_csv('Data/Clustering_Results/log_idr_st_kmeans.csv')"
   ]
  },
  {
   "cell_type": "code",
   "execution_count": 18,
   "metadata": {},
   "outputs": [],
   "source": [
    "# #silhouette score over multiple k's\n",
    "\n",
    "# #empty array to hold the silhouette scores\n",
    "# silhouette = []\n",
    "\n",
    "# #iterate over the number of clusters from 2 to 10\n",
    "# for i in range(2, 10):\n",
    "#     #create an empty array to store the average\n",
    "#     average = []\n",
    "#     #repeat the kmeans clustering 10 times\n",
    "#     for x in range(1, 10):\n",
    "#         #setting the number of clusters as i\n",
    "#         k_cluster = i\n",
    "#         #create a random integer for the random seed\n",
    "#         random_seed = random.randint(1,101)\n",
    "#         #run the kmeans analysis\n",
    "#         kmeans_method = KMeans(n_clusters=k_cluster,random_state=random_seed)\n",
    "#         #fit it to the scaled dataset\n",
    "#         kmeans_method.fit(yj)\n",
    "#         #get the labels\n",
    "#         labels = kmeans_method.labels_\n",
    "#         #get the silhouette score\n",
    "#         a = metrics.silhouette_score(yj, labels)\n",
    "#         #append it to the average list\n",
    "#         average.append(a)\n",
    "#     #get the silhouette score and append it to the silhouette \n",
    "#     silhouette.append(sum(average)/len(average))\n",
    "    \n",
    "# #plot the silhouette score\n",
    "# plt.plot(silhouette)"
   ]
  },
  {
   "cell_type": "markdown",
   "metadata": {},
   "source": [
    "## Agglomerative clustering"
   ]
  },
  {
   "cell_type": "code",
   "execution_count": 19,
   "metadata": {},
   "outputs": [
    {
     "data": {
      "text/plain": [
       "AgglomerativeClustering(affinity='euclidean', compute_full_tree='auto',\n",
       "                        connectivity=None, distance_threshold=None,\n",
       "                        linkage='ward', memory=None, n_clusters=2,\n",
       "                        pooling_func='deprecated')"
      ]
     },
     "execution_count": 19,
     "metadata": {},
     "output_type": "execute_result"
    }
   ],
   "source": [
    "#set the number of clusters expected (from elbow diagram in kmeans part)\n",
    "n_clusters = 2\n",
    "\n",
    "#get the hierarchy method\n",
    "hierarchy = AgglomerativeClustering(n_clusters = n_clusters)\n",
    "\n",
    "#fit it to the data\n",
    "hierarchy.fit(yj)"
   ]
  },
  {
   "cell_type": "code",
   "execution_count": 20,
   "metadata": {},
   "outputs": [],
   "source": [
    "#assign labels to the original data\n",
    "yj_idr_hierarchy = yj.assign(label = hierarchy.labels_)"
   ]
  },
  {
   "cell_type": "code",
   "execution_count": 21,
   "metadata": {},
   "outputs": [
    {
     "data": {
      "text/plain": [
       "0.5012932555285935"
      ]
     },
     "execution_count": 21,
     "metadata": {},
     "output_type": "execute_result"
    }
   ],
   "source": [
    "hierarchy_labels = hierarchy.labels_\n",
    "\n",
    "#check the silhouette score\n",
    "metrics.silhouette_score(yj, hierarchy_labels)"
   ]
  },
  {
   "cell_type": "code",
   "execution_count": 22,
   "metadata": {},
   "outputs": [],
   "source": [
    "# re-insert MSOA column\n",
    "yj_idr_hierarchy =pd.concat([MSOA, yj_idr_hierarchy], axis='columns')\n",
    "#save to csv\n",
    "yj_idr_hierarchy.to_csv('Data/Clustering_Results/log_idr_st_heirarchy.csv')"
   ]
  },
  {
   "cell_type": "code",
   "execution_count": null,
   "metadata": {},
   "outputs": [],
   "source": []
  },
  {
   "cell_type": "code",
   "execution_count": null,
   "metadata": {},
   "outputs": [],
   "source": []
  }
 ],
 "metadata": {
  "kernelspec": {
   "display_name": "Python 3",
   "language": "python",
   "name": "python3"
  },
  "language_info": {
   "codemirror_mode": {
    "name": "ipython",
    "version": 3
   },
   "file_extension": ".py",
   "mimetype": "text/x-python",
   "name": "python",
   "nbconvert_exporter": "python",
   "pygments_lexer": "ipython3",
   "version": "3.7.1"
  }
 },
 "nbformat": 4,
 "nbformat_minor": 2
}
