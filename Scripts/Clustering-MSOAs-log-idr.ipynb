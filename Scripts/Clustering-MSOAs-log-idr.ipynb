{
 "cells": [
  {
   "cell_type": "markdown",
   "metadata": {},
   "source": [
    "## clustering python notebook"
   ]
  },
  {
   "cell_type": "code",
   "execution_count": 1,
   "metadata": {},
   "outputs": [
    {
     "data": {
      "text/plain": [
       "'/Users/Hussein/Documents/Code Repos/spidercartographers/Scripts'"
      ]
     },
     "execution_count": 1,
     "metadata": {},
     "output_type": "execute_result"
    }
   ],
   "source": [
    "import os \n",
    "os.getcwd()"
   ]
  },
  {
   "cell_type": "code",
   "execution_count": 2,
   "metadata": {},
   "outputs": [],
   "source": [
    "# importing libraries required\n",
    "import pandas as pd\n",
    "import plotly.express as px\n",
    "import sklearn.preprocessing as preprocessing\n",
    "from sklearn.cluster import DBSCAN\n",
    "from sklearn import metrics\n",
    "from sklearn.cluster import KMeans\n",
    "import matplotlib.pyplot as plt\n",
    "import random\n",
    "from sklearn.cluster import AgglomerativeClustering\n",
    "from sklearn import neighbors\n",
    "import numpy as np\n",
    "\n",
    "# run this command too - just to allow more data to be displayed than default\n",
    "pd.set_option('display.max_rows', 200)\n",
    "# this one ensures graphs properly display in the notebook\n",
    "%matplotlib inline"
   ]
  },
  {
   "cell_type": "code",
   "execution_count": 3,
   "metadata": {
    "scrolled": true
   },
   "outputs": [
    {
     "data": {
      "text/html": [
       "<div>\n",
       "<style scoped>\n",
       "    .dataframe tbody tr th:only-of-type {\n",
       "        vertical-align: middle;\n",
       "    }\n",
       "\n",
       "    .dataframe tbody tr th {\n",
       "        vertical-align: top;\n",
       "    }\n",
       "\n",
       "    .dataframe thead th {\n",
       "        text-align: right;\n",
       "    }\n",
       "</style>\n",
       "<table border=\"1\" class=\"dataframe\">\n",
       "  <thead>\n",
       "    <tr style=\"text-align: right;\">\n",
       "      <th></th>\n",
       "      <th>Unnamed: 0</th>\n",
       "      <th>HH_owning_cars_perc</th>\n",
       "      <th>work_from_home_perc</th>\n",
       "      <th>underground_metro_perc</th>\n",
       "      <th>train_perc</th>\n",
       "      <th>bus_perc</th>\n",
       "      <th>bicycle_perc</th>\n",
       "      <th>on_foot_perc</th>\n",
       "      <th>avg_time_from_origin_car_UNWEIGHTED</th>\n",
       "      <th>avg_time_car</th>\n",
       "      <th>avg_time_from_origin_bus_UNWEIGHTED</th>\n",
       "      <th>avg_time_bus</th>\n",
       "      <th>avg_time_from_origin_rail_UNWEIGHTED</th>\n",
       "      <th>avg_time_rail</th>\n",
       "      <th>car_perc</th>\n",
       "      <th>MSOA</th>\n",
       "    </tr>\n",
       "  </thead>\n",
       "  <tbody>\n",
       "    <tr>\n",
       "      <th>0</th>\n",
       "      <td>0</td>\n",
       "      <td>-4.546106</td>\n",
       "      <td>3.211875</td>\n",
       "      <td>24.130140</td>\n",
       "      <td>1.014552</td>\n",
       "      <td>0.068626</td>\n",
       "      <td>1.382841</td>\n",
       "      <td>5.924758</td>\n",
       "      <td>-9.697685</td>\n",
       "      <td>3.017386</td>\n",
       "      <td>-4.615036</td>\n",
       "      <td>-1.686968</td>\n",
       "      <td>-9.276571</td>\n",
       "      <td>-4.024264</td>\n",
       "      <td>-7.121317</td>\n",
       "      <td>E02000001</td>\n",
       "    </tr>\n",
       "    <tr>\n",
       "      <th>1</th>\n",
       "      <td>1</td>\n",
       "      <td>-1.092229</td>\n",
       "      <td>-2.119479</td>\n",
       "      <td>23.287544</td>\n",
       "      <td>1.510024</td>\n",
       "      <td>2.361978</td>\n",
       "      <td>-0.483132</td>\n",
       "      <td>-1.781474</td>\n",
       "      <td>-5.598392</td>\n",
       "      <td>-0.688157</td>\n",
       "      <td>0.155128</td>\n",
       "      <td>0.530151</td>\n",
       "      <td>-5.024872</td>\n",
       "      <td>-1.601349</td>\n",
       "      <td>-0.767249</td>\n",
       "      <td>E02000002</td>\n",
       "    </tr>\n",
       "    <tr>\n",
       "      <th>2</th>\n",
       "      <td>2</td>\n",
       "      <td>-0.618775</td>\n",
       "      <td>-1.640021</td>\n",
       "      <td>22.221301</td>\n",
       "      <td>2.568671</td>\n",
       "      <td>1.594357</td>\n",
       "      <td>-1.054311</td>\n",
       "      <td>-0.988576</td>\n",
       "      <td>-5.696521</td>\n",
       "      <td>-1.138749</td>\n",
       "      <td>0.097319</td>\n",
       "      <td>0.569303</td>\n",
       "      <td>-5.369385</td>\n",
       "      <td>-1.608841</td>\n",
       "      <td>-1.051207</td>\n",
       "      <td>E02000003</td>\n",
       "    </tr>\n",
       "    <tr>\n",
       "      <th>3</th>\n",
       "      <td>3</td>\n",
       "      <td>-0.135786</td>\n",
       "      <td>-2.152636</td>\n",
       "      <td>21.012597</td>\n",
       "      <td>2.128309</td>\n",
       "      <td>1.447008</td>\n",
       "      <td>-0.481981</td>\n",
       "      <td>-0.534634</td>\n",
       "      <td>-3.707987</td>\n",
       "      <td>-0.836599</td>\n",
       "      <td>0.459884</td>\n",
       "      <td>-0.321904</td>\n",
       "      <td>-4.879861</td>\n",
       "      <td>-1.906700</td>\n",
       "      <td>-0.638882</td>\n",
       "      <td>E02000004</td>\n",
       "    </tr>\n",
       "    <tr>\n",
       "      <th>4</th>\n",
       "      <td>4</td>\n",
       "      <td>-0.815455</td>\n",
       "      <td>-2.235657</td>\n",
       "      <td>22.066407</td>\n",
       "      <td>1.994055</td>\n",
       "      <td>2.415786</td>\n",
       "      <td>-0.237010</td>\n",
       "      <td>-1.206674</td>\n",
       "      <td>-5.433586</td>\n",
       "      <td>-1.474691</td>\n",
       "      <td>0.139540</td>\n",
       "      <td>0.179852</td>\n",
       "      <td>-5.399683</td>\n",
       "      <td>-1.775744</td>\n",
       "      <td>-0.849081</td>\n",
       "      <td>E02000005</td>\n",
       "    </tr>\n",
       "    <tr>\n",
       "      <th>...</th>\n",
       "      <td>...</td>\n",
       "      <td>...</td>\n",
       "      <td>...</td>\n",
       "      <td>...</td>\n",
       "      <td>...</td>\n",
       "      <td>...</td>\n",
       "      <td>...</td>\n",
       "      <td>...</td>\n",
       "      <td>...</td>\n",
       "      <td>...</td>\n",
       "      <td>...</td>\n",
       "      <td>...</td>\n",
       "      <td>...</td>\n",
       "      <td>...</td>\n",
       "      <td>...</td>\n",
       "      <td>...</td>\n",
       "    </tr>\n",
       "    <tr>\n",
       "      <th>7196</th>\n",
       "      <td>7196</td>\n",
       "      <td>0.026061</td>\n",
       "      <td>-0.624563</td>\n",
       "      <td>-11.340200</td>\n",
       "      <td>-0.707881</td>\n",
       "      <td>-1.081348</td>\n",
       "      <td>0.431886</td>\n",
       "      <td>0.639373</td>\n",
       "      <td>15.578412</td>\n",
       "      <td>-0.391570</td>\n",
       "      <td>8.895862</td>\n",
       "      <td>-1.541784</td>\n",
       "      <td>6.416051</td>\n",
       "      <td>4.627164</td>\n",
       "      <td>0.265646</td>\n",
       "      <td>W02000419</td>\n",
       "    </tr>\n",
       "    <tr>\n",
       "      <th>7197</th>\n",
       "      <td>7197</td>\n",
       "      <td>0.668167</td>\n",
       "      <td>2.607917</td>\n",
       "      <td>-1.126144</td>\n",
       "      <td>-1.235384</td>\n",
       "      <td>-0.961280</td>\n",
       "      <td>-0.312457</td>\n",
       "      <td>-2.292347</td>\n",
       "      <td>4.149563</td>\n",
       "      <td>1.940779</td>\n",
       "      <td>4.459327</td>\n",
       "      <td>-0.468306</td>\n",
       "      <td>4.551903</td>\n",
       "      <td>3.504974</td>\n",
       "      <td>0.340745</td>\n",
       "      <td>W02000420</td>\n",
       "    </tr>\n",
       "    <tr>\n",
       "      <th>7198</th>\n",
       "      <td>7198</td>\n",
       "      <td>0.641754</td>\n",
       "      <td>6.563763</td>\n",
       "      <td>-2.834091</td>\n",
       "      <td>-2.310024</td>\n",
       "      <td>-2.579455</td>\n",
       "      <td>-0.900740</td>\n",
       "      <td>-2.298244</td>\n",
       "      <td>26.966130</td>\n",
       "      <td>4.265214</td>\n",
       "      <td>8.057596</td>\n",
       "      <td>1.721847</td>\n",
       "      <td>18.614578</td>\n",
       "      <td>5.182104</td>\n",
       "      <td>0.064411</td>\n",
       "      <td>W02000421</td>\n",
       "    </tr>\n",
       "    <tr>\n",
       "      <th>7199</th>\n",
       "      <td>7199</td>\n",
       "      <td>0.257058</td>\n",
       "      <td>-2.474743</td>\n",
       "      <td>-5.528346</td>\n",
       "      <td>0.906539</td>\n",
       "      <td>0.932101</td>\n",
       "      <td>0.817085</td>\n",
       "      <td>2.936665</td>\n",
       "      <td>11.731811</td>\n",
       "      <td>1.114300</td>\n",
       "      <td>4.322726</td>\n",
       "      <td>-1.848609</td>\n",
       "      <td>7.474234</td>\n",
       "      <td>4.090633</td>\n",
       "      <td>-0.291204</td>\n",
       "      <td>W02000422</td>\n",
       "    </tr>\n",
       "    <tr>\n",
       "      <th>7200</th>\n",
       "      <td>7200</td>\n",
       "      <td>-1.070660</td>\n",
       "      <td>-2.330610</td>\n",
       "      <td>1.245242</td>\n",
       "      <td>1.052886</td>\n",
       "      <td>1.194316</td>\n",
       "      <td>1.049709</td>\n",
       "      <td>4.152801</td>\n",
       "      <td>11.270409</td>\n",
       "      <td>1.068607</td>\n",
       "      <td>4.015082</td>\n",
       "      <td>-0.180642</td>\n",
       "      <td>7.271664</td>\n",
       "      <td>2.004697</td>\n",
       "      <td>-0.789361</td>\n",
       "      <td>W02000423</td>\n",
       "    </tr>\n",
       "  </tbody>\n",
       "</table>\n",
       "<p>7201 rows × 16 columns</p>\n",
       "</div>"
      ],
      "text/plain": [
       "      Unnamed: 0  HH_owning_cars_perc  work_from_home_perc  \\\n",
       "0              0            -4.546106             3.211875   \n",
       "1              1            -1.092229            -2.119479   \n",
       "2              2            -0.618775            -1.640021   \n",
       "3              3            -0.135786            -2.152636   \n",
       "4              4            -0.815455            -2.235657   \n",
       "...          ...                  ...                  ...   \n",
       "7196        7196             0.026061            -0.624563   \n",
       "7197        7197             0.668167             2.607917   \n",
       "7198        7198             0.641754             6.563763   \n",
       "7199        7199             0.257058            -2.474743   \n",
       "7200        7200            -1.070660            -2.330610   \n",
       "\n",
       "      underground_metro_perc  train_perc  bus_perc  bicycle_perc  \\\n",
       "0                  24.130140    1.014552  0.068626      1.382841   \n",
       "1                  23.287544    1.510024  2.361978     -0.483132   \n",
       "2                  22.221301    2.568671  1.594357     -1.054311   \n",
       "3                  21.012597    2.128309  1.447008     -0.481981   \n",
       "4                  22.066407    1.994055  2.415786     -0.237010   \n",
       "...                      ...         ...       ...           ...   \n",
       "7196              -11.340200   -0.707881 -1.081348      0.431886   \n",
       "7197               -1.126144   -1.235384 -0.961280     -0.312457   \n",
       "7198               -2.834091   -2.310024 -2.579455     -0.900740   \n",
       "7199               -5.528346    0.906539  0.932101      0.817085   \n",
       "7200                1.245242    1.052886  1.194316      1.049709   \n",
       "\n",
       "      on_foot_perc  avg_time_from_origin_car_UNWEIGHTED  avg_time_car  \\\n",
       "0         5.924758                            -9.697685      3.017386   \n",
       "1        -1.781474                            -5.598392     -0.688157   \n",
       "2        -0.988576                            -5.696521     -1.138749   \n",
       "3        -0.534634                            -3.707987     -0.836599   \n",
       "4        -1.206674                            -5.433586     -1.474691   \n",
       "...            ...                                  ...           ...   \n",
       "7196      0.639373                            15.578412     -0.391570   \n",
       "7197     -2.292347                             4.149563      1.940779   \n",
       "7198     -2.298244                            26.966130      4.265214   \n",
       "7199      2.936665                            11.731811      1.114300   \n",
       "7200      4.152801                            11.270409      1.068607   \n",
       "\n",
       "      avg_time_from_origin_bus_UNWEIGHTED  avg_time_bus  \\\n",
       "0                               -4.615036     -1.686968   \n",
       "1                                0.155128      0.530151   \n",
       "2                                0.097319      0.569303   \n",
       "3                                0.459884     -0.321904   \n",
       "4                                0.139540      0.179852   \n",
       "...                                   ...           ...   \n",
       "7196                             8.895862     -1.541784   \n",
       "7197                             4.459327     -0.468306   \n",
       "7198                             8.057596      1.721847   \n",
       "7199                             4.322726     -1.848609   \n",
       "7200                             4.015082     -0.180642   \n",
       "\n",
       "      avg_time_from_origin_rail_UNWEIGHTED  avg_time_rail  car_perc       MSOA  \n",
       "0                                -9.276571      -4.024264 -7.121317  E02000001  \n",
       "1                                -5.024872      -1.601349 -0.767249  E02000002  \n",
       "2                                -5.369385      -1.608841 -1.051207  E02000003  \n",
       "3                                -4.879861      -1.906700 -0.638882  E02000004  \n",
       "4                                -5.399683      -1.775744 -0.849081  E02000005  \n",
       "...                                    ...            ...       ...        ...  \n",
       "7196                              6.416051       4.627164  0.265646  W02000419  \n",
       "7197                              4.551903       3.504974  0.340745  W02000420  \n",
       "7198                             18.614578       5.182104  0.064411  W02000421  \n",
       "7199                              7.474234       4.090633 -0.291204  W02000422  \n",
       "7200                              7.271664       2.004697 -0.789361  W02000423  \n",
       "\n",
       "[7201 rows x 16 columns]"
      ]
     },
     "execution_count": 3,
     "metadata": {},
     "output_type": "execute_result"
    }
   ],
   "source": [
    "#put the data into a dataframe\n",
    "yj = pd.read_csv('Data/transport_log_then_idr.csv')\n",
    "#check that is has been read correctly\n",
    "yj"
   ]
  },
  {
   "cell_type": "code",
   "execution_count": 4,
   "metadata": {},
   "outputs": [],
   "source": [
    "# store MSOA column \n",
    "MSOA = yj[['MSOA']]"
   ]
  },
  {
   "cell_type": "code",
   "execution_count": 5,
   "metadata": {},
   "outputs": [
    {
     "data": {
      "text/html": [
       "<div>\n",
       "<style scoped>\n",
       "    .dataframe tbody tr th:only-of-type {\n",
       "        vertical-align: middle;\n",
       "    }\n",
       "\n",
       "    .dataframe tbody tr th {\n",
       "        vertical-align: top;\n",
       "    }\n",
       "\n",
       "    .dataframe thead th {\n",
       "        text-align: right;\n",
       "    }\n",
       "</style>\n",
       "<table border=\"1\" class=\"dataframe\">\n",
       "  <thead>\n",
       "    <tr style=\"text-align: right;\">\n",
       "      <th></th>\n",
       "      <th>HH_owning_cars_perc</th>\n",
       "      <th>work_from_home_perc</th>\n",
       "      <th>underground_metro_perc</th>\n",
       "      <th>train_perc</th>\n",
       "      <th>bus_perc</th>\n",
       "      <th>bicycle_perc</th>\n",
       "      <th>on_foot_perc</th>\n",
       "      <th>avg_time_from_origin_car_UNWEIGHTED</th>\n",
       "      <th>avg_time_car</th>\n",
       "      <th>avg_time_from_origin_bus_UNWEIGHTED</th>\n",
       "      <th>avg_time_bus</th>\n",
       "      <th>avg_time_from_origin_rail_UNWEIGHTED</th>\n",
       "      <th>avg_time_rail</th>\n",
       "      <th>car_perc</th>\n",
       "    </tr>\n",
       "  </thead>\n",
       "  <tbody>\n",
       "    <tr>\n",
       "      <th>0</th>\n",
       "      <td>-4.546106</td>\n",
       "      <td>3.211875</td>\n",
       "      <td>24.130140</td>\n",
       "      <td>1.014552</td>\n",
       "      <td>0.068626</td>\n",
       "      <td>1.382841</td>\n",
       "      <td>5.924758</td>\n",
       "      <td>-9.697685</td>\n",
       "      <td>3.017386</td>\n",
       "      <td>-4.615036</td>\n",
       "      <td>-1.686968</td>\n",
       "      <td>-9.276571</td>\n",
       "      <td>-4.024264</td>\n",
       "      <td>-7.121317</td>\n",
       "    </tr>\n",
       "    <tr>\n",
       "      <th>1</th>\n",
       "      <td>-1.092229</td>\n",
       "      <td>-2.119479</td>\n",
       "      <td>23.287544</td>\n",
       "      <td>1.510024</td>\n",
       "      <td>2.361978</td>\n",
       "      <td>-0.483132</td>\n",
       "      <td>-1.781474</td>\n",
       "      <td>-5.598392</td>\n",
       "      <td>-0.688157</td>\n",
       "      <td>0.155128</td>\n",
       "      <td>0.530151</td>\n",
       "      <td>-5.024872</td>\n",
       "      <td>-1.601349</td>\n",
       "      <td>-0.767249</td>\n",
       "    </tr>\n",
       "    <tr>\n",
       "      <th>2</th>\n",
       "      <td>-0.618775</td>\n",
       "      <td>-1.640021</td>\n",
       "      <td>22.221301</td>\n",
       "      <td>2.568671</td>\n",
       "      <td>1.594357</td>\n",
       "      <td>-1.054311</td>\n",
       "      <td>-0.988576</td>\n",
       "      <td>-5.696521</td>\n",
       "      <td>-1.138749</td>\n",
       "      <td>0.097319</td>\n",
       "      <td>0.569303</td>\n",
       "      <td>-5.369385</td>\n",
       "      <td>-1.608841</td>\n",
       "      <td>-1.051207</td>\n",
       "    </tr>\n",
       "    <tr>\n",
       "      <th>3</th>\n",
       "      <td>-0.135786</td>\n",
       "      <td>-2.152636</td>\n",
       "      <td>21.012597</td>\n",
       "      <td>2.128309</td>\n",
       "      <td>1.447008</td>\n",
       "      <td>-0.481981</td>\n",
       "      <td>-0.534634</td>\n",
       "      <td>-3.707987</td>\n",
       "      <td>-0.836599</td>\n",
       "      <td>0.459884</td>\n",
       "      <td>-0.321904</td>\n",
       "      <td>-4.879861</td>\n",
       "      <td>-1.906700</td>\n",
       "      <td>-0.638882</td>\n",
       "    </tr>\n",
       "    <tr>\n",
       "      <th>4</th>\n",
       "      <td>-0.815455</td>\n",
       "      <td>-2.235657</td>\n",
       "      <td>22.066407</td>\n",
       "      <td>1.994055</td>\n",
       "      <td>2.415786</td>\n",
       "      <td>-0.237010</td>\n",
       "      <td>-1.206674</td>\n",
       "      <td>-5.433586</td>\n",
       "      <td>-1.474691</td>\n",
       "      <td>0.139540</td>\n",
       "      <td>0.179852</td>\n",
       "      <td>-5.399683</td>\n",
       "      <td>-1.775744</td>\n",
       "      <td>-0.849081</td>\n",
       "    </tr>\n",
       "    <tr>\n",
       "      <th>...</th>\n",
       "      <td>...</td>\n",
       "      <td>...</td>\n",
       "      <td>...</td>\n",
       "      <td>...</td>\n",
       "      <td>...</td>\n",
       "      <td>...</td>\n",
       "      <td>...</td>\n",
       "      <td>...</td>\n",
       "      <td>...</td>\n",
       "      <td>...</td>\n",
       "      <td>...</td>\n",
       "      <td>...</td>\n",
       "      <td>...</td>\n",
       "      <td>...</td>\n",
       "    </tr>\n",
       "    <tr>\n",
       "      <th>7196</th>\n",
       "      <td>0.026061</td>\n",
       "      <td>-0.624563</td>\n",
       "      <td>-11.340200</td>\n",
       "      <td>-0.707881</td>\n",
       "      <td>-1.081348</td>\n",
       "      <td>0.431886</td>\n",
       "      <td>0.639373</td>\n",
       "      <td>15.578412</td>\n",
       "      <td>-0.391570</td>\n",
       "      <td>8.895862</td>\n",
       "      <td>-1.541784</td>\n",
       "      <td>6.416051</td>\n",
       "      <td>4.627164</td>\n",
       "      <td>0.265646</td>\n",
       "    </tr>\n",
       "    <tr>\n",
       "      <th>7197</th>\n",
       "      <td>0.668167</td>\n",
       "      <td>2.607917</td>\n",
       "      <td>-1.126144</td>\n",
       "      <td>-1.235384</td>\n",
       "      <td>-0.961280</td>\n",
       "      <td>-0.312457</td>\n",
       "      <td>-2.292347</td>\n",
       "      <td>4.149563</td>\n",
       "      <td>1.940779</td>\n",
       "      <td>4.459327</td>\n",
       "      <td>-0.468306</td>\n",
       "      <td>4.551903</td>\n",
       "      <td>3.504974</td>\n",
       "      <td>0.340745</td>\n",
       "    </tr>\n",
       "    <tr>\n",
       "      <th>7198</th>\n",
       "      <td>0.641754</td>\n",
       "      <td>6.563763</td>\n",
       "      <td>-2.834091</td>\n",
       "      <td>-2.310024</td>\n",
       "      <td>-2.579455</td>\n",
       "      <td>-0.900740</td>\n",
       "      <td>-2.298244</td>\n",
       "      <td>26.966130</td>\n",
       "      <td>4.265214</td>\n",
       "      <td>8.057596</td>\n",
       "      <td>1.721847</td>\n",
       "      <td>18.614578</td>\n",
       "      <td>5.182104</td>\n",
       "      <td>0.064411</td>\n",
       "    </tr>\n",
       "    <tr>\n",
       "      <th>7199</th>\n",
       "      <td>0.257058</td>\n",
       "      <td>-2.474743</td>\n",
       "      <td>-5.528346</td>\n",
       "      <td>0.906539</td>\n",
       "      <td>0.932101</td>\n",
       "      <td>0.817085</td>\n",
       "      <td>2.936665</td>\n",
       "      <td>11.731811</td>\n",
       "      <td>1.114300</td>\n",
       "      <td>4.322726</td>\n",
       "      <td>-1.848609</td>\n",
       "      <td>7.474234</td>\n",
       "      <td>4.090633</td>\n",
       "      <td>-0.291204</td>\n",
       "    </tr>\n",
       "    <tr>\n",
       "      <th>7200</th>\n",
       "      <td>-1.070660</td>\n",
       "      <td>-2.330610</td>\n",
       "      <td>1.245242</td>\n",
       "      <td>1.052886</td>\n",
       "      <td>1.194316</td>\n",
       "      <td>1.049709</td>\n",
       "      <td>4.152801</td>\n",
       "      <td>11.270409</td>\n",
       "      <td>1.068607</td>\n",
       "      <td>4.015082</td>\n",
       "      <td>-0.180642</td>\n",
       "      <td>7.271664</td>\n",
       "      <td>2.004697</td>\n",
       "      <td>-0.789361</td>\n",
       "    </tr>\n",
       "  </tbody>\n",
       "</table>\n",
       "<p>7201 rows × 14 columns</p>\n",
       "</div>"
      ],
      "text/plain": [
       "      HH_owning_cars_perc  work_from_home_perc  underground_metro_perc  \\\n",
       "0               -4.546106             3.211875               24.130140   \n",
       "1               -1.092229            -2.119479               23.287544   \n",
       "2               -0.618775            -1.640021               22.221301   \n",
       "3               -0.135786            -2.152636               21.012597   \n",
       "4               -0.815455            -2.235657               22.066407   \n",
       "...                   ...                  ...                     ...   \n",
       "7196             0.026061            -0.624563              -11.340200   \n",
       "7197             0.668167             2.607917               -1.126144   \n",
       "7198             0.641754             6.563763               -2.834091   \n",
       "7199             0.257058            -2.474743               -5.528346   \n",
       "7200            -1.070660            -2.330610                1.245242   \n",
       "\n",
       "      train_perc  bus_perc  bicycle_perc  on_foot_perc  \\\n",
       "0       1.014552  0.068626      1.382841      5.924758   \n",
       "1       1.510024  2.361978     -0.483132     -1.781474   \n",
       "2       2.568671  1.594357     -1.054311     -0.988576   \n",
       "3       2.128309  1.447008     -0.481981     -0.534634   \n",
       "4       1.994055  2.415786     -0.237010     -1.206674   \n",
       "...          ...       ...           ...           ...   \n",
       "7196   -0.707881 -1.081348      0.431886      0.639373   \n",
       "7197   -1.235384 -0.961280     -0.312457     -2.292347   \n",
       "7198   -2.310024 -2.579455     -0.900740     -2.298244   \n",
       "7199    0.906539  0.932101      0.817085      2.936665   \n",
       "7200    1.052886  1.194316      1.049709      4.152801   \n",
       "\n",
       "      avg_time_from_origin_car_UNWEIGHTED  avg_time_car  \\\n",
       "0                               -9.697685      3.017386   \n",
       "1                               -5.598392     -0.688157   \n",
       "2                               -5.696521     -1.138749   \n",
       "3                               -3.707987     -0.836599   \n",
       "4                               -5.433586     -1.474691   \n",
       "...                                   ...           ...   \n",
       "7196                            15.578412     -0.391570   \n",
       "7197                             4.149563      1.940779   \n",
       "7198                            26.966130      4.265214   \n",
       "7199                            11.731811      1.114300   \n",
       "7200                            11.270409      1.068607   \n",
       "\n",
       "      avg_time_from_origin_bus_UNWEIGHTED  avg_time_bus  \\\n",
       "0                               -4.615036     -1.686968   \n",
       "1                                0.155128      0.530151   \n",
       "2                                0.097319      0.569303   \n",
       "3                                0.459884     -0.321904   \n",
       "4                                0.139540      0.179852   \n",
       "...                                   ...           ...   \n",
       "7196                             8.895862     -1.541784   \n",
       "7197                             4.459327     -0.468306   \n",
       "7198                             8.057596      1.721847   \n",
       "7199                             4.322726     -1.848609   \n",
       "7200                             4.015082     -0.180642   \n",
       "\n",
       "      avg_time_from_origin_rail_UNWEIGHTED  avg_time_rail  car_perc  \n",
       "0                                -9.276571      -4.024264 -7.121317  \n",
       "1                                -5.024872      -1.601349 -0.767249  \n",
       "2                                -5.369385      -1.608841 -1.051207  \n",
       "3                                -4.879861      -1.906700 -0.638882  \n",
       "4                                -5.399683      -1.775744 -0.849081  \n",
       "...                                    ...            ...       ...  \n",
       "7196                              6.416051       4.627164  0.265646  \n",
       "7197                              4.551903       3.504974  0.340745  \n",
       "7198                             18.614578       5.182104  0.064411  \n",
       "7199                              7.474234       4.090633 -0.291204  \n",
       "7200                              7.271664       2.004697 -0.789361  \n",
       "\n",
       "[7201 rows x 14 columns]"
      ]
     },
     "execution_count": 5,
     "metadata": {},
     "output_type": "execute_result"
    }
   ],
   "source": [
    "# drop non numeric columns\n",
    "yj.drop(['Unnamed: 0', 'MSOA'], axis=1, inplace=True)\n",
    "yj"
   ]
  },
  {
   "cell_type": "markdown",
   "metadata": {},
   "source": [
    "## DBSCAN"
   ]
  },
  {
   "cell_type": "code",
   "execution_count": 6,
   "metadata": {},
   "outputs": [
    {
     "data": {
      "text/plain": [
       "array([[0.        , 3.05710022],\n",
       "       [0.        , 1.776449  ],\n",
       "       [0.        , 1.47557469],\n",
       "       ...,\n",
       "       [0.        , 4.28607343],\n",
       "       [0.        , 3.38392634],\n",
       "       [0.        , 3.19303173]])"
      ]
     },
     "execution_count": 6,
     "metadata": {},
     "output_type": "execute_result"
    }
   ],
   "source": [
    "# We need to select the epsilon and min_smaples parameters\n",
    "\n",
    "# https://towardsdatascience.com/machine-learning-clustering-dbscan-determine-the-optimal-value-for-epsilon-eps-python-example-3100091cfbc\n",
    "# eps: Two points are considered neighbors if the distance between the two points is below the threshold epsilon.\n",
    "# min_samples: The minimum number of neighbors a given point should have in order to be classified as a core point. \n",
    "from sklearn import neighbors\n",
    "\n",
    "neigh = neighbors.NearestNeighbors(n_neighbors=2)\n",
    "nbrs = neigh.fit(yj)\n",
    "distances, indices = nbrs.kneighbors(yj)\n",
    "distances"
   ]
  },
  {
   "cell_type": "code",
   "execution_count": 7,
   "metadata": {},
   "outputs": [
    {
     "data": {
      "text/plain": [
       "[<matplotlib.lines.Line2D at 0x1222a5908>]"
      ]
     },
     "execution_count": 7,
     "metadata": {},
     "output_type": "execute_result"
    },
    {
     "data": {
      "image/png": "[encoded data removed]",
      "text/plain": [
       "<Figure size 432x288 with 1 Axes>"
      ]
     },
     "metadata": {
      "needs_background": "light"
     },
     "output_type": "display_data"
    }
   ],
   "source": [
    "# sort and plot the results\n",
    "distances = np.sort(distances, axis=0)\n",
    "distances = distances[:,1]\n",
    "plt.plot(distances)"
   ]
  },
  {
   "cell_type": "code",
   "execution_count": 8,
   "metadata": {},
   "outputs": [
    {
     "data": {
      "text/plain": [
       "DBSCAN(algorithm='auto', eps=6, leaf_size=30, metric='euclidean',\n",
       "       metric_params=None, min_samples=5, n_jobs=None, p=None)"
      ]
     },
     "execution_count": 8,
     "metadata": {},
     "output_type": "execute_result"
    }
   ],
   "source": [
    "# create DBSCAN cluster object\n",
    "\n",
    "# the eps is at the point of maximum curvature in the graph above\n",
    "dbscan = DBSCAN(eps=6, min_samples=5) \n",
    "\n",
    "#algorith to be used by the NearestNeighbors module to compute pointwise distance and find neighest neighbours - see NN module documentation\n",
    "# run the .fit() function on the scaled dataset\n",
    "dbscan.fit(yj) \n",
    "\n"
   ]
  },
  {
   "cell_type": "code",
   "execution_count": 9,
   "metadata": {},
   "outputs": [
    {
     "data": {
      "text/plain": [
       "8"
      ]
     },
     "execution_count": 9,
     "metadata": {},
     "output_type": "execute_result"
    }
   ],
   "source": [
    "#Get the labels from the clusters\n",
    "dbscan_labels = dbscan.labels_\n",
    "#dbscan_labels\n",
    "# to get number of clusters\n",
    "len(set(dbscan_labels)) - (1 if -1 in dbscan_labels else 0)"
   ]
  },
  {
   "cell_type": "code",
   "execution_count": 10,
   "metadata": {},
   "outputs": [],
   "source": [
    "#check the silhouette score\n",
    "# A silhouette score ranges from -1 to 1, with -1 being the worst score possible and 1 \n",
    "# being the best score. Silhouette scores of 0 suggest overlapping clusters.\n",
    "#metrics.silhouette_score(yj, dbscan_labels)"
   ]
  },
  {
   "cell_type": "code",
   "execution_count": 11,
   "metadata": {},
   "outputs": [
    {
     "data": {
      "text/plain": [
       " 0    6528\n",
       " 1     363\n",
       "-1     242\n",
       " 5      33\n",
       " 2      17\n",
       " 6       5\n",
       " 4       5\n",
       " 7       4\n",
       " 3       4\n",
       "Name: label, dtype: int64"
      ]
     },
     "execution_count": 11,
     "metadata": {},
     "output_type": "execute_result"
    }
   ],
   "source": [
    "#assign the labels to the original dataframe\n",
    "yj_idr_DB =yj.assign(label = dbscan_labels)\n",
    "\n",
    "#and check the value counts\n",
    "yj_idr_DB.label.value_counts()"
   ]
  },
  {
   "cell_type": "code",
   "execution_count": 12,
   "metadata": {},
   "outputs": [],
   "source": [
    "# re-insert MSOA column\n",
    "yj_idr_DB =pd.concat([MSOA, yj_idr_DB], axis='columns')\n",
    "#save to csv\n",
    "yj_idr_DB.to_csv('Data/Clustering_Results/log_idr_st_DBSCAN.csv')"
   ]
  },
  {
   "cell_type": "markdown",
   "metadata": {},
   "source": [
    "## kmeans clustering"
   ]
  },
  {
   "cell_type": "code",
   "execution_count": 13,
   "metadata": {},
   "outputs": [
    {
     "data": {
      "image/png": "[encoded data removed]",
      "text/plain": [
       "<Figure size 432x288 with 1 Axes>"
      ]
     },
     "metadata": {
      "needs_background": "light"
     },
     "output_type": "display_data"
    }
   ],
   "source": [
    "#elbow plot over multiple k's\n",
    "\n",
    "#calculate SSE for a range of number of cluster\n",
    "\n",
    "list_SSE = []\n",
    "min_k = 1\n",
    "max_k = 10\n",
    "range_k = range(min_k, max_k+1)\n",
    "for i in range_k:\n",
    "    km = KMeans(\n",
    "        n_clusters=i, init='random',\n",
    "        n_init=10, max_iter=300,\n",
    "        tol=1e-04, random_state=0\n",
    "    )\n",
    "    km.fit(yj)\n",
    "    # inertia is a concept in physics. Roughly it means SSE of clustering.\n",
    "    list_SSE.append(km.inertia_)\n",
    "\n",
    "# plot\n",
    "plt.plot(range_k, list_SSE, marker='o')\n",
    "plt.xlabel('Number of clusters')\n",
    "plt.ylabel('SSE')\n",
    "plt.show()"
   ]
  },
  {
   "cell_type": "code",
   "execution_count": 14,
   "metadata": {},
   "outputs": [],
   "source": [
    "#set the number of clusters to explore\n",
    "k_cluster = 4\n",
    "#set the random seed\n",
    "random_seed = 1\n",
    "#random state: int, default = None\n",
    "#determines random number generation for ecntroid intialisation, use an int to make the randomness deterministic"
   ]
  },
  {
   "cell_type": "code",
   "execution_count": 15,
   "metadata": {},
   "outputs": [
    {
     "data": {
      "text/plain": [
       "KMeans(algorithm='auto', copy_x=True, init='k-means++', max_iter=300,\n",
       "       n_clusters=4, n_init=10, n_jobs=None, precompute_distances='auto',\n",
       "       random_state=1, tol=0.0001, verbose=0)"
      ]
     },
     "execution_count": 15,
     "metadata": {},
     "output_type": "execute_result"
    }
   ],
   "source": [
    "#get the method for kmeans\n",
    "kmeans_method = KMeans(n_clusters=k_cluster,random_state=random_seed)\n",
    "#apply the fit to the scaled dataset\n",
    "kmeans_method.fit(yj)"
   ]
  },
  {
   "cell_type": "code",
   "execution_count": 16,
   "metadata": {},
   "outputs": [],
   "source": [
    "#assign the labels to original databse\n",
    "yj_idr_kmeans = yj.assign(label = kmeans_method.labels_)"
   ]
  },
  {
   "cell_type": "code",
   "execution_count": 17,
   "metadata": {},
   "outputs": [],
   "source": [
    "# re-insert MSOA column\n",
    "yj_idr_kmeans =pd.concat([MSOA, yj_idr_kmeans], axis='columns')\n",
    "#save to csv\n",
    "yj_idr_kmeans.to_csv('Data/Clustering_Results/log_idr_st_kmeans.csv')"
   ]
  },
  {
   "cell_type": "code",
   "execution_count": 18,
   "metadata": {},
   "outputs": [
    {
     "data": {
      "text/plain": [
       "[<matplotlib.lines.Line2D at 0x1a277cff28>]"
      ]
     },
     "execution_count": 18,
     "metadata": {},
     "output_type": "execute_result"
    },
    {
     "data": {
      "image/png": "[encoded data removed]",
      "text/plain": [
       "<Figure size 432x288 with 1 Axes>"
      ]
     },
     "metadata": {
      "needs_background": "light"
     },
     "output_type": "display_data"
    }
   ],
   "source": [
    "# #silhouette score over multiple k's\n",
    "\n",
    "# #empty array to hold the silhouette scores\n",
    "# silhouette = []\n",
    "\n",
    "# #iterate over the number of clusters from 2 to 10\n",
    "# for i in range(2, 10):\n",
    "#     #create an empty array to store the average\n",
    "#     average = []\n",
    "#     #repeat the kmeans clustering 10 times\n",
    "#     for x in range(1, 10):\n",
    "#         #setting the number of clusters as i\n",
    "#         k_cluster = i\n",
    "#         #create a random integer for the random seed\n",
    "#         random_seed = random.randint(1,101)\n",
    "#         #run the kmeans analysis\n",
    "#         kmeans_method = KMeans(n_clusters=k_cluster,random_state=random_seed)\n",
    "#         #fit it to the scaled dataset\n",
    "#         kmeans_method.fit(yj)\n",
    "#         #get the labels\n",
    "#         labels = kmeans_method.labels_\n",
    "#         #get the silhouette score\n",
    "#         a = metrics.silhouette_score(yj, labels)\n",
    "#         #append it to the average list\n",
    "#         average.append(a)\n",
    "#     #get the silhouette score and append it to the silhouette \n",
    "#     silhouette.append(sum(average)/len(average))\n",
    "    \n",
    "# #plot the silhouette score\n",
    "# plt.plot(silhouette)"
   ]
  },
  {
   "cell_type": "markdown",
   "metadata": {},
   "source": [
    "## Agglomerative clustering"
   ]
  },
  {
   "cell_type": "code",
   "execution_count": 19,
   "metadata": {},
   "outputs": [
    {
     "data": {
      "text/plain": [
       "AgglomerativeClustering(affinity='euclidean', compute_full_tree='auto',\n",
       "                        connectivity=None, distance_threshold=None,\n",
       "                        linkage='ward', memory=None, n_clusters=4,\n",
       "                        pooling_func='deprecated')"
      ]
     },
     "execution_count": 19,
     "metadata": {},
     "output_type": "execute_result"
    }
   ],
   "source": [
    "#set the number of clusters expected (from elbow diagram in kmeans part)\n",
    "n_clusters = 4\n",
    "\n",
    "#get the hierarchy method\n",
    "hierarchy = AgglomerativeClustering(n_clusters = n_clusters)\n",
    "\n",
    "#fit it to the data\n",
    "hierarchy.fit(yj)"
   ]
  },
  {
   "cell_type": "code",
   "execution_count": 20,
   "metadata": {},
   "outputs": [],
   "source": [
    "#assign labels to the original data\n",
    "yj_idr_hierarchy = yj.assign(label = hierarchy.labels_)"
   ]
  },
  {
   "cell_type": "code",
   "execution_count": 21,
   "metadata": {},
   "outputs": [
    {
     "data": {
      "text/plain": [
       "0.3364655409475912"
      ]
     },
     "execution_count": 21,
     "metadata": {},
     "output_type": "execute_result"
    }
   ],
   "source": [
    "hierarchy_labels = hierarchy.labels_\n",
    "\n",
    "#check the silhouette score\n",
    "metrics.silhouette_score(yj, hierarchy_labels)"
   ]
  },
  {
   "cell_type": "code",
   "execution_count": 22,
   "metadata": {},
   "outputs": [],
   "source": [
    "# re-insert MSOA column\n",
    "yj_idr_hierarchy =pd.concat([MSOA, yj_idr_hierarchy], axis='columns')\n",
    "#save to csv\n",
    "yj_idr_hierarchy.to_csv('Data/Clustering_Results/log_idr_st_heirarchy.csv')"
   ]
  },
  {
   "cell_type": "code",
   "execution_count": null,
   "metadata": {},
   "outputs": [],
   "source": []
  },
  {
   "cell_type": "code",
   "execution_count": null,
   "metadata": {},
   "outputs": [],
   "source": []
  }
 ],
 "metadata": {
  "kernelspec": {
   "display_name": "Python 3",
   "language": "python",
   "name": "python3"
  },
  "language_info": {
   "codemirror_mode": {
    "name": "ipython",
    "version": 3
   },
   "file_extension": ".py",
   "mimetype": "text/x-python",
   "name": "python",
   "nbconvert_exporter": "python",
   "pygments_lexer": "ipython3",
   "version": "3.7.3"
  }
 },
 "nbformat": 4,
 "nbformat_minor": 2
}
