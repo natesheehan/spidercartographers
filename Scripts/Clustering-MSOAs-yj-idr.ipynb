{
 "cells": [
  {
   "cell_type": "markdown",
   "metadata": {},
   "source": [
    "## clustering python notebook"
   ]
  },
  {
   "cell_type": "code",
   "execution_count": 1,
   "metadata": {},
   "outputs": [
    {
     "data": {
      "text/plain": [
       "'/Users/Hussein/Documents/Code Repos/spidercartographers/Scripts'"
      ]
     },
     "execution_count": 1,
     "metadata": {},
     "output_type": "execute_result"
    }
   ],
   "source": [
    "import os \n",
    "os.getcwd()"
   ]
  },
  {
   "cell_type": "code",
   "execution_count": 2,
   "metadata": {},
   "outputs": [],
   "source": [
    "# importing libraries required\n",
    "import pandas as pd\n",
    "import plotly.express as px\n",
    "import sklearn.preprocessing as preprocessing\n",
    "from sklearn.cluster import DBSCAN\n",
    "from sklearn import metrics\n",
    "from sklearn.cluster import KMeans\n",
    "import matplotlib.pyplot as plt\n",
    "import random\n",
    "from sklearn.cluster import AgglomerativeClustering\n",
    "from sklearn import neighbors\n",
    "import numpy as np\n",
    "\n",
    "# run this command too - just to allow more data to be displayed than default\n",
    "pd.set_option('display.max_rows', 200)\n",
    "# this one ensures graphs properly display in the notebook\n",
    "%matplotlib inline"
   ]
  },
  {
   "cell_type": "code",
   "execution_count": 3,
   "metadata": {
    "scrolled": true
   },
   "outputs": [
    {
     "data": {
      "text/html": [
       "<div>\n",
       "<style scoped>\n",
       "    .dataframe tbody tr th:only-of-type {\n",
       "        vertical-align: middle;\n",
       "    }\n",
       "\n",
       "    .dataframe tbody tr th {\n",
       "        vertical-align: top;\n",
       "    }\n",
       "\n",
       "    .dataframe thead th {\n",
       "        text-align: right;\n",
       "    }\n",
       "</style>\n",
       "<table border=\"1\" class=\"dataframe\">\n",
       "  <thead>\n",
       "    <tr style=\"text-align: right;\">\n",
       "      <th></th>\n",
       "      <th>Unnamed: 0</th>\n",
       "      <th>MSOA</th>\n",
       "      <th>yj_work_from_home_perc</th>\n",
       "      <th>yj_underground_metro_perc</th>\n",
       "      <th>yj_train_perc</th>\n",
       "      <th>yj_bus_perc</th>\n",
       "      <th>yj_motorcycle_perc</th>\n",
       "      <th>yj_bicycle_perc</th>\n",
       "      <th>yj_on_foot_perc</th>\n",
       "      <th>yj_other_perc</th>\n",
       "      <th>yj_car_perc</th>\n",
       "    </tr>\n",
       "  </thead>\n",
       "  <tbody>\n",
       "    <tr>\n",
       "      <th>0</th>\n",
       "      <td>0</td>\n",
       "      <td>E02000001</td>\n",
       "      <td>1.963946</td>\n",
       "      <td>0.514208</td>\n",
       "      <td>3.535595</td>\n",
       "      <td>0.156851</td>\n",
       "      <td>-1.111171</td>\n",
       "      <td>2.430043</td>\n",
       "      <td>4.454445</td>\n",
       "      <td>1.517130</td>\n",
       "      <td>-204.188301</td>\n",
       "    </tr>\n",
       "    <tr>\n",
       "      <th>1</th>\n",
       "      <td>1</td>\n",
       "      <td>E02000002</td>\n",
       "      <td>-1.617351</td>\n",
       "      <td>0.512418</td>\n",
       "      <td>5.085569</td>\n",
       "      <td>5.559558</td>\n",
       "      <td>0.684962</td>\n",
       "      <td>-0.925033</td>\n",
       "      <td>-1.706932</td>\n",
       "      <td>0.237799</td>\n",
       "      <td>-114.929407</td>\n",
       "    </tr>\n",
       "    <tr>\n",
       "      <th>2</th>\n",
       "      <td>2</td>\n",
       "      <td>E02000003</td>\n",
       "      <td>-1.227827</td>\n",
       "      <td>0.509502</td>\n",
       "      <td>7.841506</td>\n",
       "      <td>3.729747</td>\n",
       "      <td>-0.056916</td>\n",
       "      <td>-1.985175</td>\n",
       "      <td>-0.931420</td>\n",
       "      <td>0.133654</td>\n",
       "      <td>-138.405143</td>\n",
       "    </tr>\n",
       "    <tr>\n",
       "      <th>3</th>\n",
       "      <td>3</td>\n",
       "      <td>E02000004</td>\n",
       "      <td>-1.644807</td>\n",
       "      <td>0.505067</td>\n",
       "      <td>6.789664</td>\n",
       "      <td>3.379774</td>\n",
       "      <td>1.273438</td>\n",
       "      <td>-0.922841</td>\n",
       "      <td>-0.498251</td>\n",
       "      <td>0.092609</td>\n",
       "      <td>-101.704785</td>\n",
       "    </tr>\n",
       "    <tr>\n",
       "      <th>4</th>\n",
       "      <td>4</td>\n",
       "      <td>E02000005</td>\n",
       "      <td>-1.713847</td>\n",
       "      <td>0.509007</td>\n",
       "      <td>6.442286</td>\n",
       "      <td>5.688011</td>\n",
       "      <td>0.788661</td>\n",
       "      <td>-0.454003</td>\n",
       "      <td>-1.142521</td>\n",
       "      <td>-2.161476</td>\n",
       "      <td>-122.449438</td>\n",
       "    </tr>\n",
       "    <tr>\n",
       "      <th>...</th>\n",
       "      <td>...</td>\n",
       "      <td>...</td>\n",
       "      <td>...</td>\n",
       "      <td>...</td>\n",
       "      <td>...</td>\n",
       "      <td>...</td>\n",
       "      <td>...</td>\n",
       "      <td>...</td>\n",
       "      <td>...</td>\n",
       "      <td>...</td>\n",
       "      <td>...</td>\n",
       "    </tr>\n",
       "    <tr>\n",
       "      <th>7196</th>\n",
       "      <td>7196</td>\n",
       "      <td>W02000419</td>\n",
       "      <td>-0.448736</td>\n",
       "      <td>-0.108601</td>\n",
       "      <td>-2.498143</td>\n",
       "      <td>-2.398570</td>\n",
       "      <td>0.093549</td>\n",
       "      <td>0.812267</td>\n",
       "      <td>0.577121</td>\n",
       "      <td>-0.472103</td>\n",
       "      <td>67.982532</td>\n",
       "    </tr>\n",
       "    <tr>\n",
       "      <th>7197</th>\n",
       "      <td>7197</td>\n",
       "      <td>W02000420</td>\n",
       "      <td>1.636247</td>\n",
       "      <td>-0.004387</td>\n",
       "      <td>-4.196091</td>\n",
       "      <td>-2.140170</td>\n",
       "      <td>-1.024674</td>\n",
       "      <td>-0.598697</td>\n",
       "      <td>-2.216571</td>\n",
       "      <td>0.547488</td>\n",
       "      <td>91.039694</td>\n",
       "    </tr>\n",
       "    <tr>\n",
       "      <th>7198</th>\n",
       "      <td>7198</td>\n",
       "      <td>W02000421</td>\n",
       "      <td>3.478316</td>\n",
       "      <td>-0.034856</td>\n",
       "      <td>-6.859761</td>\n",
       "      <td>-5.393578</td>\n",
       "      <td>-0.541187</td>\n",
       "      <td>-1.707315</td>\n",
       "      <td>-2.222488</td>\n",
       "      <td>-0.046802</td>\n",
       "      <td>14.727538</td>\n",
       "    </tr>\n",
       "    <tr>\n",
       "      <th>7199</th>\n",
       "      <td>7199</td>\n",
       "      <td>W02000422</td>\n",
       "      <td>-1.915024</td>\n",
       "      <td>-0.069886</td>\n",
       "      <td>3.178333</td>\n",
       "      <td>2.162951</td>\n",
       "      <td>-2.718213</td>\n",
       "      <td>1.502818</td>\n",
       "      <td>2.461713</td>\n",
       "      <td>0.176211</td>\n",
       "      <td>-55.105640</td>\n",
       "    </tr>\n",
       "    <tr>\n",
       "      <th>7200</th>\n",
       "      <td>7200</td>\n",
       "      <td>W02000423</td>\n",
       "      <td>-1.793326</td>\n",
       "      <td>0.050273</td>\n",
       "      <td>3.660845</td>\n",
       "      <td>2.781245</td>\n",
       "      <td>-3.335458</td>\n",
       "      <td>1.898004</td>\n",
       "      <td>3.334076</td>\n",
       "      <td>1.303367</td>\n",
       "      <td>-117.027592</td>\n",
       "    </tr>\n",
       "  </tbody>\n",
       "</table>\n",
       "<p>7201 rows × 11 columns</p>\n",
       "</div>"
      ],
      "text/plain": [
       "      Unnamed: 0       MSOA  yj_work_from_home_perc  \\\n",
       "0              0  E02000001                1.963946   \n",
       "1              1  E02000002               -1.617351   \n",
       "2              2  E02000003               -1.227827   \n",
       "3              3  E02000004               -1.644807   \n",
       "4              4  E02000005               -1.713847   \n",
       "...          ...        ...                     ...   \n",
       "7196        7196  W02000419               -0.448736   \n",
       "7197        7197  W02000420                1.636247   \n",
       "7198        7198  W02000421                3.478316   \n",
       "7199        7199  W02000422               -1.915024   \n",
       "7200        7200  W02000423               -1.793326   \n",
       "\n",
       "      yj_underground_metro_perc  yj_train_perc  yj_bus_perc  \\\n",
       "0                      0.514208       3.535595     0.156851   \n",
       "1                      0.512418       5.085569     5.559558   \n",
       "2                      0.509502       7.841506     3.729747   \n",
       "3                      0.505067       6.789664     3.379774   \n",
       "4                      0.509007       6.442286     5.688011   \n",
       "...                         ...            ...          ...   \n",
       "7196                  -0.108601      -2.498143    -2.398570   \n",
       "7197                  -0.004387      -4.196091    -2.140170   \n",
       "7198                  -0.034856      -6.859761    -5.393578   \n",
       "7199                  -0.069886       3.178333     2.162951   \n",
       "7200                   0.050273       3.660845     2.781245   \n",
       "\n",
       "      yj_motorcycle_perc  yj_bicycle_perc  yj_on_foot_perc  yj_other_perc  \\\n",
       "0              -1.111171         2.430043         4.454445       1.517130   \n",
       "1               0.684962        -0.925033        -1.706932       0.237799   \n",
       "2              -0.056916        -1.985175        -0.931420       0.133654   \n",
       "3               1.273438        -0.922841        -0.498251       0.092609   \n",
       "4               0.788661        -0.454003        -1.142521      -2.161476   \n",
       "...                  ...              ...              ...            ...   \n",
       "7196            0.093549         0.812267         0.577121      -0.472103   \n",
       "7197           -1.024674        -0.598697        -2.216571       0.547488   \n",
       "7198           -0.541187        -1.707315        -2.222488      -0.046802   \n",
       "7199           -2.718213         1.502818         2.461713       0.176211   \n",
       "7200           -3.335458         1.898004         3.334076       1.303367   \n",
       "\n",
       "      yj_car_perc  \n",
       "0     -204.188301  \n",
       "1     -114.929407  \n",
       "2     -138.405143  \n",
       "3     -101.704785  \n",
       "4     -122.449438  \n",
       "...           ...  \n",
       "7196    67.982532  \n",
       "7197    91.039694  \n",
       "7198    14.727538  \n",
       "7199   -55.105640  \n",
       "7200  -117.027592  \n",
       "\n",
       "[7201 rows x 11 columns]"
      ]
     },
     "execution_count": 3,
     "metadata": {},
     "output_type": "execute_result"
    }
   ],
   "source": [
    "#put the data into a dataframe\n",
    "yj = pd.read_csv('Data/yeojohnson_idr_st.csv')\n",
    "#check that is has been read correctly\n",
    "yj"
   ]
  },
  {
   "cell_type": "code",
   "execution_count": 4,
   "metadata": {},
   "outputs": [],
   "source": [
    "# store MSOA column \n",
    "MSOA = yj[['MSOA']]"
   ]
  },
  {
   "cell_type": "code",
   "execution_count": 5,
   "metadata": {},
   "outputs": [
    {
     "data": {
      "text/html": [
       "<div>\n",
       "<style scoped>\n",
       "    .dataframe tbody tr th:only-of-type {\n",
       "        vertical-align: middle;\n",
       "    }\n",
       "\n",
       "    .dataframe tbody tr th {\n",
       "        vertical-align: top;\n",
       "    }\n",
       "\n",
       "    .dataframe thead th {\n",
       "        text-align: right;\n",
       "    }\n",
       "</style>\n",
       "<table border=\"1\" class=\"dataframe\">\n",
       "  <thead>\n",
       "    <tr style=\"text-align: right;\">\n",
       "      <th></th>\n",
       "      <th>yj_work_from_home_perc</th>\n",
       "      <th>yj_underground_metro_perc</th>\n",
       "      <th>yj_train_perc</th>\n",
       "      <th>yj_bus_perc</th>\n",
       "      <th>yj_motorcycle_perc</th>\n",
       "      <th>yj_bicycle_perc</th>\n",
       "      <th>yj_on_foot_perc</th>\n",
       "      <th>yj_other_perc</th>\n",
       "      <th>yj_car_perc</th>\n",
       "    </tr>\n",
       "  </thead>\n",
       "  <tbody>\n",
       "    <tr>\n",
       "      <th>0</th>\n",
       "      <td>1.963946</td>\n",
       "      <td>0.514208</td>\n",
       "      <td>3.535595</td>\n",
       "      <td>0.156851</td>\n",
       "      <td>-1.111171</td>\n",
       "      <td>2.430043</td>\n",
       "      <td>4.454445</td>\n",
       "      <td>1.517130</td>\n",
       "      <td>-204.188301</td>\n",
       "    </tr>\n",
       "    <tr>\n",
       "      <th>1</th>\n",
       "      <td>-1.617351</td>\n",
       "      <td>0.512418</td>\n",
       "      <td>5.085569</td>\n",
       "      <td>5.559558</td>\n",
       "      <td>0.684962</td>\n",
       "      <td>-0.925033</td>\n",
       "      <td>-1.706932</td>\n",
       "      <td>0.237799</td>\n",
       "      <td>-114.929407</td>\n",
       "    </tr>\n",
       "    <tr>\n",
       "      <th>2</th>\n",
       "      <td>-1.227827</td>\n",
       "      <td>0.509502</td>\n",
       "      <td>7.841506</td>\n",
       "      <td>3.729747</td>\n",
       "      <td>-0.056916</td>\n",
       "      <td>-1.985175</td>\n",
       "      <td>-0.931420</td>\n",
       "      <td>0.133654</td>\n",
       "      <td>-138.405143</td>\n",
       "    </tr>\n",
       "    <tr>\n",
       "      <th>3</th>\n",
       "      <td>-1.644807</td>\n",
       "      <td>0.505067</td>\n",
       "      <td>6.789664</td>\n",
       "      <td>3.379774</td>\n",
       "      <td>1.273438</td>\n",
       "      <td>-0.922841</td>\n",
       "      <td>-0.498251</td>\n",
       "      <td>0.092609</td>\n",
       "      <td>-101.704785</td>\n",
       "    </tr>\n",
       "    <tr>\n",
       "      <th>4</th>\n",
       "      <td>-1.713847</td>\n",
       "      <td>0.509007</td>\n",
       "      <td>6.442286</td>\n",
       "      <td>5.688011</td>\n",
       "      <td>0.788661</td>\n",
       "      <td>-0.454003</td>\n",
       "      <td>-1.142521</td>\n",
       "      <td>-2.161476</td>\n",
       "      <td>-122.449438</td>\n",
       "    </tr>\n",
       "    <tr>\n",
       "      <th>...</th>\n",
       "      <td>...</td>\n",
       "      <td>...</td>\n",
       "      <td>...</td>\n",
       "      <td>...</td>\n",
       "      <td>...</td>\n",
       "      <td>...</td>\n",
       "      <td>...</td>\n",
       "      <td>...</td>\n",
       "      <td>...</td>\n",
       "    </tr>\n",
       "    <tr>\n",
       "      <th>7196</th>\n",
       "      <td>-0.448736</td>\n",
       "      <td>-0.108601</td>\n",
       "      <td>-2.498143</td>\n",
       "      <td>-2.398570</td>\n",
       "      <td>0.093549</td>\n",
       "      <td>0.812267</td>\n",
       "      <td>0.577121</td>\n",
       "      <td>-0.472103</td>\n",
       "      <td>67.982532</td>\n",
       "    </tr>\n",
       "    <tr>\n",
       "      <th>7197</th>\n",
       "      <td>1.636247</td>\n",
       "      <td>-0.004387</td>\n",
       "      <td>-4.196091</td>\n",
       "      <td>-2.140170</td>\n",
       "      <td>-1.024674</td>\n",
       "      <td>-0.598697</td>\n",
       "      <td>-2.216571</td>\n",
       "      <td>0.547488</td>\n",
       "      <td>91.039694</td>\n",
       "    </tr>\n",
       "    <tr>\n",
       "      <th>7198</th>\n",
       "      <td>3.478316</td>\n",
       "      <td>-0.034856</td>\n",
       "      <td>-6.859761</td>\n",
       "      <td>-5.393578</td>\n",
       "      <td>-0.541187</td>\n",
       "      <td>-1.707315</td>\n",
       "      <td>-2.222488</td>\n",
       "      <td>-0.046802</td>\n",
       "      <td>14.727538</td>\n",
       "    </tr>\n",
       "    <tr>\n",
       "      <th>7199</th>\n",
       "      <td>-1.915024</td>\n",
       "      <td>-0.069886</td>\n",
       "      <td>3.178333</td>\n",
       "      <td>2.162951</td>\n",
       "      <td>-2.718213</td>\n",
       "      <td>1.502818</td>\n",
       "      <td>2.461713</td>\n",
       "      <td>0.176211</td>\n",
       "      <td>-55.105640</td>\n",
       "    </tr>\n",
       "    <tr>\n",
       "      <th>7200</th>\n",
       "      <td>-1.793326</td>\n",
       "      <td>0.050273</td>\n",
       "      <td>3.660845</td>\n",
       "      <td>2.781245</td>\n",
       "      <td>-3.335458</td>\n",
       "      <td>1.898004</td>\n",
       "      <td>3.334076</td>\n",
       "      <td>1.303367</td>\n",
       "      <td>-117.027592</td>\n",
       "    </tr>\n",
       "  </tbody>\n",
       "</table>\n",
       "<p>7201 rows × 9 columns</p>\n",
       "</div>"
      ],
      "text/plain": [
       "      yj_work_from_home_perc  yj_underground_metro_perc  yj_train_perc  \\\n",
       "0                   1.963946                   0.514208       3.535595   \n",
       "1                  -1.617351                   0.512418       5.085569   \n",
       "2                  -1.227827                   0.509502       7.841506   \n",
       "3                  -1.644807                   0.505067       6.789664   \n",
       "4                  -1.713847                   0.509007       6.442286   \n",
       "...                      ...                        ...            ...   \n",
       "7196               -0.448736                  -0.108601      -2.498143   \n",
       "7197                1.636247                  -0.004387      -4.196091   \n",
       "7198                3.478316                  -0.034856      -6.859761   \n",
       "7199               -1.915024                  -0.069886       3.178333   \n",
       "7200               -1.793326                   0.050273       3.660845   \n",
       "\n",
       "      yj_bus_perc  yj_motorcycle_perc  yj_bicycle_perc  yj_on_foot_perc  \\\n",
       "0        0.156851           -1.111171         2.430043         4.454445   \n",
       "1        5.559558            0.684962        -0.925033        -1.706932   \n",
       "2        3.729747           -0.056916        -1.985175        -0.931420   \n",
       "3        3.379774            1.273438        -0.922841        -0.498251   \n",
       "4        5.688011            0.788661        -0.454003        -1.142521   \n",
       "...           ...                 ...              ...              ...   \n",
       "7196    -2.398570            0.093549         0.812267         0.577121   \n",
       "7197    -2.140170           -1.024674        -0.598697        -2.216571   \n",
       "7198    -5.393578           -0.541187        -1.707315        -2.222488   \n",
       "7199     2.162951           -2.718213         1.502818         2.461713   \n",
       "7200     2.781245           -3.335458         1.898004         3.334076   \n",
       "\n",
       "      yj_other_perc  yj_car_perc  \n",
       "0          1.517130  -204.188301  \n",
       "1          0.237799  -114.929407  \n",
       "2          0.133654  -138.405143  \n",
       "3          0.092609  -101.704785  \n",
       "4         -2.161476  -122.449438  \n",
       "...             ...          ...  \n",
       "7196      -0.472103    67.982532  \n",
       "7197       0.547488    91.039694  \n",
       "7198      -0.046802    14.727538  \n",
       "7199       0.176211   -55.105640  \n",
       "7200       1.303367  -117.027592  \n",
       "\n",
       "[7201 rows x 9 columns]"
      ]
     },
     "execution_count": 5,
     "metadata": {},
     "output_type": "execute_result"
    }
   ],
   "source": [
    "# drop non numeric columns\n",
    "yj.drop(['Unnamed: 0', 'MSOA'], axis=1, inplace=True)\n",
    "yj"
   ]
  },
  {
   "cell_type": "markdown",
   "metadata": {},
   "source": [
    "## DBSCAN"
   ]
  },
  {
   "cell_type": "code",
   "execution_count": 6,
   "metadata": {},
   "outputs": [
    {
     "data": {
      "text/plain": [
       "array([[0.        , 2.59772446],\n",
       "       [0.        , 3.67918963],\n",
       "       [0.        , 2.13181882],\n",
       "       ...,\n",
       "       [0.        , 3.41089613],\n",
       "       [0.        , 2.97012706],\n",
       "       [0.        , 4.20228048]])"
      ]
     },
     "execution_count": 6,
     "metadata": {},
     "output_type": "execute_result"
    }
   ],
   "source": [
    "# We need to select the epsilon and min_smaples parameters\n",
    "\n",
    "# https://towardsdatascience.com/machine-learning-clustering-dbscan-determine-the-optimal-value-for-epsilon-eps-python-example-3100091cfbc\n",
    "# eps: Two points are considered neighbors if the distance between the two points is below the threshold epsilon.\n",
    "# min_samples: The minimum number of neighbors a given point should have in order to be classified as a core point. \n",
    "from sklearn import neighbors\n",
    "\n",
    "neigh = neighbors.NearestNeighbors(n_neighbors=2)\n",
    "nbrs = neigh.fit(yj)\n",
    "distances, indices = nbrs.kneighbors(yj)\n",
    "distances"
   ]
  },
  {
   "cell_type": "code",
   "execution_count": 7,
   "metadata": {},
   "outputs": [
    {
     "data": {
      "text/plain": [
       "[<matplotlib.lines.Line2D at 0x10eb7d940>]"
      ]
     },
     "execution_count": 7,
     "metadata": {},
     "output_type": "execute_result"
    },
    {
     "data": {
      "image/png": "[encoded data removed]",
      "text/plain": [
       "<Figure size 432x288 with 1 Axes>"
      ]
     },
     "metadata": {
      "needs_background": "light"
     },
     "output_type": "display_data"
    }
   ],
   "source": [
    "# sort and plot the results\n",
    "distances = np.sort(distances, axis=0)\n",
    "distances = distances[:,1]\n",
    "plt.plot(distances)"
   ]
  },
  {
   "cell_type": "code",
   "execution_count": 8,
   "metadata": {},
   "outputs": [
    {
     "data": {
      "text/plain": [
       "DBSCAN(algorithm='auto', eps=4, leaf_size=30, metric='euclidean',\n",
       "       metric_params=None, min_samples=5, n_jobs=None, p=None)"
      ]
     },
     "execution_count": 8,
     "metadata": {},
     "output_type": "execute_result"
    }
   ],
   "source": [
    "# create DBSCAN cluster object\n",
    "\n",
    "# the eps is at the point of maximum curvature in the graph above\n",
    "dbscan = DBSCAN(eps=4, min_samples=5) \n",
    "\n",
    "#algorith to be used by the NearestNeighbors module to compute pointwise distance and find neighest neighbours - see NN module documentation\n",
    "# run the .fit() function on the scaled dataset\n",
    "dbscan.fit(yj) \n",
    "\n"
   ]
  },
  {
   "cell_type": "code",
   "execution_count": 9,
   "metadata": {},
   "outputs": [
    {
     "data": {
      "text/plain": [
       "44"
      ]
     },
     "execution_count": 9,
     "metadata": {},
     "output_type": "execute_result"
    }
   ],
   "source": [
    "#Get the labels from the clusters\n",
    "dbscan_labels = dbscan.labels_\n",
    "#dbscan_labels\n",
    "# to get number of clusters\n",
    "len(set(dbscan_labels)) - (1 if -1 in dbscan_labels else 0)"
   ]
  },
  {
   "cell_type": "code",
   "execution_count": 10,
   "metadata": {},
   "outputs": [
    {
     "data": {
      "text/plain": [
       "-0.7044287221347298"
      ]
     },
     "execution_count": 10,
     "metadata": {},
     "output_type": "execute_result"
    }
   ],
   "source": [
    "#check the silhouette score\n",
    "# A silhouette score ranges from -1 to 1, with -1 being the worst score possible and 1 \n",
    "# being the best score. Silhouette scores of 0 suggest overlapping clusters.\n",
    "metrics.silhouette_score(yj, dbscan_labels)"
   ]
  },
  {
   "cell_type": "code",
   "execution_count": 11,
   "metadata": {},
   "outputs": [
    {
     "data": {
      "text/plain": [
       " 0     6029\n",
       "-1      807\n",
       " 8       34\n",
       " 18      23\n",
       " 16      18\n",
       " 22      17\n",
       " 24      17\n",
       " 14      15\n",
       " 37      14\n",
       " 6       13\n",
       " 9       11\n",
       " 10      10\n",
       " 19      10\n",
       " 28       9\n",
       " 32       9\n",
       " 29       8\n",
       " 3        8\n",
       " 23       8\n",
       " 21       7\n",
       " 30       7\n",
       " 27       7\n",
       " 40       7\n",
       " 17       6\n",
       " 2        6\n",
       " 42       6\n",
       " 34       6\n",
       " 11       6\n",
       " 7        6\n",
       " 33       5\n",
       " 4        5\n",
       " 12       5\n",
       " 31       5\n",
       " 15       5\n",
       " 41       5\n",
       " 1        5\n",
       " 38       5\n",
       " 13       5\n",
       " 25       5\n",
       " 39       5\n",
       " 43       5\n",
       " 36       4\n",
       " 26       4\n",
       " 35       4\n",
       " 20       3\n",
       " 5        2\n",
       "Name: label, dtype: int64"
      ]
     },
     "execution_count": 11,
     "metadata": {},
     "output_type": "execute_result"
    }
   ],
   "source": [
    "#assign the labels to the original dataframe\n",
    "yj_idr_DB =yj.assign(label = dbscan_labels)\n",
    "\n",
    "#and check the value counts\n",
    "yj_idr_DB.label.value_counts()"
   ]
  },
  {
   "cell_type": "code",
   "execution_count": 12,
   "metadata": {},
   "outputs": [],
   "source": [
    "# re-insert MSOA column\n",
    "yj_idr_DB =pd.concat([MSOA, yj_idr_DB], axis='columns')\n",
    "#save to csv\n",
    "yj_idr_DB.to_csv('Data/Clustering_Results/yeojohnson_idr_st_DBSCAN.csv')"
   ]
  },
  {
   "cell_type": "markdown",
   "metadata": {},
   "source": [
    "## kmeans clustering"
   ]
  },
  {
   "cell_type": "code",
   "execution_count": 13,
   "metadata": {},
   "outputs": [
    {
     "data": {
      "image/png": "[encoded data removed]",
      "text/plain": [
       "<Figure size 432x288 with 1 Axes>"
      ]
     },
     "metadata": {
      "needs_background": "light"
     },
     "output_type": "display_data"
    }
   ],
   "source": [
    "#elbow plot over multiple k's\n",
    "\n",
    "#calculate SSE for a range of number of cluster\n",
    "\n",
    "list_SSE = []\n",
    "min_k = 1\n",
    "max_k = 10\n",
    "range_k = range(min_k, max_k+1)\n",
    "for i in range_k:\n",
    "    km = KMeans(\n",
    "        n_clusters=i, init='random',\n",
    "        n_init=10, max_iter=300,\n",
    "        tol=1e-04, random_state=0\n",
    "    )\n",
    "    km.fit(yj)\n",
    "    # inertia is a concept in physics. Roughly it means SSE of clustering.\n",
    "    list_SSE.append(km.inertia_)\n",
    "\n",
    "# plot\n",
    "plt.plot(range_k, list_SSE, marker='o')\n",
    "plt.xlabel('Number of clusters')\n",
    "plt.ylabel('SSE')\n",
    "plt.show()"
   ]
  },
  {
   "cell_type": "code",
   "execution_count": 14,
   "metadata": {},
   "outputs": [],
   "source": [
    "#set the number of clusters to explore\n",
    "k_cluster = 3\n",
    "#set the random seed\n",
    "random_seed = 1\n",
    "#random state: int, default = None\n",
    "#determines random number generation for ecntroid intialisation, use an int to make the randomness deterministic"
   ]
  },
  {
   "cell_type": "code",
   "execution_count": 15,
   "metadata": {},
   "outputs": [
    {
     "data": {
      "text/plain": [
       "KMeans(algorithm='auto', copy_x=True, init='k-means++', max_iter=300,\n",
       "       n_clusters=3, n_init=10, n_jobs=None, precompute_distances='auto',\n",
       "       random_state=1, tol=0.0001, verbose=0)"
      ]
     },
     "execution_count": 15,
     "metadata": {},
     "output_type": "execute_result"
    }
   ],
   "source": [
    "#get the method for kmeans\n",
    "kmeans_method = KMeans(n_clusters=k_cluster,random_state=random_seed)\n",
    "#apply the fit to the scaled dataset\n",
    "kmeans_method.fit(yj)"
   ]
  },
  {
   "cell_type": "code",
   "execution_count": 16,
   "metadata": {},
   "outputs": [],
   "source": [
    "#assign the labels to original databse\n",
    "yj_idr_kmeans = yj.assign(label = kmeans_method.labels_)"
   ]
  },
  {
   "cell_type": "code",
   "execution_count": 17,
   "metadata": {},
   "outputs": [],
   "source": [
    "# re-insert MSOA column\n",
    "yj_idr_kmeans =pd.concat([MSOA, yj_idr_kmeans], axis='columns')\n",
    "#save to csv\n",
    "yj_idr_kmeans.to_csv('Data/Clustering_Results/yeojohnson_idr_st_kmeans.csv')"
   ]
  },
  {
   "cell_type": "code",
   "execution_count": 18,
   "metadata": {},
   "outputs": [],
   "source": [
    "# #silhouette score over multiple k's\n",
    "\n",
    "# #empty array to hold the silhouette scores\n",
    "# silhouette = []\n",
    "\n",
    "# #iterate over the number of clusters from 2 to 10\n",
    "# for i in range(2, 10):\n",
    "#     #create an empty array to store the average\n",
    "#     average = []\n",
    "#     #repeat the kmeans clustering 10 times\n",
    "#     for x in range(1, 10):\n",
    "#         #setting the number of clusters as i\n",
    "#         k_cluster = i\n",
    "#         #create a random integer for the random seed\n",
    "#         random_seed = random.randint(1,101)\n",
    "#         #run the kmeans analysis\n",
    "#         kmeans_method = KMeans(n_clusters=k_cluster,random_state=random_seed)\n",
    "#         #fit it to the scaled dataset\n",
    "#         kmeans_method.fit(yj)\n",
    "#         #get the labels\n",
    "#         labels = kmeans_method.labels_\n",
    "#         #get the silhouette score\n",
    "#         a = metrics.silhouette_score(yj, labels)\n",
    "#         #append it to the average list\n",
    "#         average.append(a)\n",
    "#     #get the silhouette score and append it to the silhouette \n",
    "#     silhouette.append(sum(average)/len(average))\n",
    "    \n",
    "# #plot the silhouette score\n",
    "# plt.plot(silhouette)"
   ]
  },
  {
   "cell_type": "markdown",
   "metadata": {},
   "source": [
    "## Agglomerative clustering"
   ]
  },
  {
   "cell_type": "code",
   "execution_count": 19,
   "metadata": {},
   "outputs": [
    {
     "data": {
      "text/plain": [
       "AgglomerativeClustering(affinity='euclidean', compute_full_tree='auto',\n",
       "                        connectivity=None, distance_threshold=None,\n",
       "                        linkage='ward', memory=None, n_clusters=3,\n",
       "                        pooling_func='deprecated')"
      ]
     },
     "execution_count": 19,
     "metadata": {},
     "output_type": "execute_result"
    }
   ],
   "source": [
    "#set the number of clusters expected (from elbow diagram in kmeans part)\n",
    "n_clusters = 3\n",
    "\n",
    "#get the hierarchy method\n",
    "hierarchy = AgglomerativeClustering(n_clusters = n_clusters)\n",
    "\n",
    "#fit it to the data\n",
    "hierarchy.fit(yj)"
   ]
  },
  {
   "cell_type": "code",
   "execution_count": 20,
   "metadata": {},
   "outputs": [],
   "source": [
    "#assign labels to the original data\n",
    "yj_idr_hierarchy = yj.assign(label = hierarchy.labels_)"
   ]
  },
  {
   "cell_type": "code",
   "execution_count": 21,
   "metadata": {},
   "outputs": [
    {
     "data": {
      "text/plain": [
       "0.5116303165504898"
      ]
     },
     "execution_count": 21,
     "metadata": {},
     "output_type": "execute_result"
    }
   ],
   "source": [
    "hierarchy_labels = hierarchy.labels_\n",
    "\n",
    "#check the silhouette score\n",
    "metrics.silhouette_score(yj, hierarchy_labels)"
   ]
  },
  {
   "cell_type": "code",
   "execution_count": 22,
   "metadata": {},
   "outputs": [],
   "source": [
    "# re-insert MSOA column\n",
    "yj_idr_hierarchy =pd.concat([MSOA, yj_idr_hierarchy], axis='columns')\n",
    "#save to csv\n",
    "yj_idr_hierarchy.to_csv('Data/Clustering_Results/yeojohnson_idr_st_heirarchy.csv')"
   ]
  },
  {
   "cell_type": "code",
   "execution_count": null,
   "metadata": {},
   "outputs": [],
   "source": []
  },
  {
   "cell_type": "code",
   "execution_count": null,
   "metadata": {},
   "outputs": [],
   "source": []
  }
 ],
 "metadata": {
  "kernelspec": {
   "display_name": "Python 3",
   "language": "python",
   "name": "python3"
  },
  "language_info": {
   "codemirror_mode": {
    "name": "ipython",
    "version": 3
   },
   "file_extension": ".py",
   "mimetype": "text/x-python",
   "name": "python",
   "nbconvert_exporter": "python",
   "pygments_lexer": "ipython3",
   "version": "3.7.1"
  }
 },
 "nbformat": 4,
 "nbformat_minor": 2
}
