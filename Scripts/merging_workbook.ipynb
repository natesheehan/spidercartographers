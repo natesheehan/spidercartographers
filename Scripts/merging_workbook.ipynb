{
 "cells": [
  {
   "cell_type": "code",
   "execution_count": null,
   "metadata": {},
   "outputs": [],
   "source": [
    "import pandas as pd\n",
    "\n",
    "#import the transport csv\n",
    "\n",
    "#the is Data for the whole thing\n",
    "transport = pd.read_csv('Data/wu03ew_msoa.csv')\n",
    "\n",
    "\n",
    "bus_loc = pd.read_csv('Data/Bus_locations.csv')\n",
    "train_loc = pd.read_csv('Data/Train locations.csv')\n",
    "metro_loc = pd.read_csv('Data/Metro_locations.csv')"
   ]
  },
  {
   "cell_type": "code",
   "execution_count": null,
   "metadata": {},
   "outputs": [],
   "source": [
    "#merge by origin MSOA and sum over all transport options\n",
    "transport_msoa = transport.groupby(\"Area of residence\", as_index=False).sum()\n",
    "transport_msoa"
   ]
  },
  {
   "cell_type": "code",
   "execution_count": null,
   "metadata": {},
   "outputs": [],
   "source": [
    "\n",
    "bus_loc = bus_loc.rename(columns = {'Freq': 'Bus_stops'})\n",
    "bus_loc"
   ]
  },
  {
   "cell_type": "code",
   "execution_count": null,
   "metadata": {},
   "outputs": [],
   "source": [
    "train_loc = train_loc.rename(columns = {'Freq': 'Train_stations'})"
   ]
  },
  {
   "cell_type": "code",
   "execution_count": null,
   "metadata": {},
   "outputs": [],
   "source": [
    "metro_loc = metro_loc.rename(columns = {'Freq': 'metro_stations'})"
   ]
  },
  {
   "cell_type": "code",
   "execution_count": null,
   "metadata": {},
   "outputs": [],
   "source": [
    "transport_msoa1 = pd.merge(transport_msoa,\n",
    "                          bus_loc,\n",
    "                           left_on = \"Area of residence\",\n",
    "                           right_on = \"Var1\",\n",
    "                          how = 'left')"
   ]
  },
  {
   "cell_type": "code",
   "execution_count": null,
   "metadata": {},
   "outputs": [],
   "source": [
    "transport_msoa1.isna().sum()"
   ]
  },
  {
   "cell_type": "code",
   "execution_count": null,
   "metadata": {},
   "outputs": [],
   "source": [
    "transport_msoa2 = pd.merge(transport_msoa1,\n",
    "                          train_loc,\n",
    "                          left_on = \"Area of residence\",\n",
    "                          right_on = \"Var1\",\n",
    "                          how = 'left')"
   ]
  },
  {
   "cell_type": "code",
   "execution_count": null,
   "metadata": {},
   "outputs": [],
   "source": [
    "transport_msoa3 = pd.merge(transport_msoa2,\n",
    "                          metro_loc,\n",
    "                          left_on = \"Area of residence\",\n",
    "                          right_on = \"Var1\",\n",
    "                          how = 'left')"
   ]
  },
  {
   "cell_type": "code",
   "execution_count": null,
   "metadata": {},
   "outputs": [],
   "source": [
    "transport_msoa3.isna().sum()"
   ]
  },
  {
   "cell_type": "code",
   "execution_count": null,
   "metadata": {},
   "outputs": [],
   "source": [
    "#transport_msoa3.to_csv(\"Data/transport_msoa.csv\", index=False)"
   ]
  },
  {
   "cell_type": "code",
   "execution_count": null,
   "metadata": {},
   "outputs": [],
   "source": [
    "transport_msoa3"
   ]
  },
  {
   "cell_type": "code",
   "execution_count": null,
   "metadata": {},
   "outputs": [],
   "source": [
    "households = pd.read_csv(\"Data/MSOA households.csv\")\n",
    "cars = pd.read_csv(\"Data/household cars.csv\")"
   ]
  },
  {
   "cell_type": "code",
   "execution_count": null,
   "metadata": {},
   "outputs": [],
   "source": [
    "households"
   ]
  },
  {
   "cell_type": "code",
   "execution_count": null,
   "metadata": {},
   "outputs": [],
   "source": [
    "cars"
   ]
  },
  {
   "cell_type": "code",
   "execution_count": null,
   "metadata": {},
   "outputs": [],
   "source": [
    "household_cars= pd.merge(households,\n",
    "                          cars,\n",
    "                           left_on = \"MSOA Code\",\n",
    "                         right_on = \"geography code\",\n",
    "                          how = 'left')"
   ]
  },
  {
   "cell_type": "code",
   "execution_count": null,
   "metadata": {},
   "outputs": [],
   "source": [
    "pd.set_option('display.max_columns', None)\n",
    "household_cars"
   ]
  },
  {
   "cell_type": "code",
   "execution_count": null,
   "metadata": {},
   "outputs": [],
   "source": [
    "household_cars[\"HHs_owning cars\"] = household_cars[\"Cars: All categories: Car or van availability; measures: Value\"] - household_cars[\"Cars: No cars or vans in household; measures: Value\"]"
   ]
  },
  {
   "cell_type": "code",
   "execution_count": null,
   "metadata": {},
   "outputs": [],
   "source": [
    "household_cars[\"HH_owning_cars_perc\"] = household_cars[\"HHs_owning cars\"] / household_cars[\"Cars: All categories: Car or van availability; measures: Value\"]  "
   ]
  },
  {
   "cell_type": "code",
   "execution_count": null,
   "metadata": {},
   "outputs": [],
   "source": [
    "household_cars"
   ]
  },
  {
   "cell_type": "code",
   "execution_count": null,
   "metadata": {},
   "outputs": [],
   "source": [
    "#merging on household cars owned\n",
    "transport_msoa4 = pd.merge(transport_msoa3,\n",
    "                          household_cars[[\"HH_owning_cars_perc\", \"MSOA Code\"]],\n",
    "                          left_on = \"Area of residence\",\n",
    "                          right_on = \"MSOA Code\",\n",
    "                          how = 'left')"
   ]
  },
  {
   "cell_type": "code",
   "execution_count": null,
   "metadata": {},
   "outputs": [],
   "source": [
    "#filling all NaNs with 0\n",
    "transport_msoa4.fillna(0)"
   ]
  },
  {
   "cell_type": "code",
   "execution_count": null,
   "metadata": {},
   "outputs": [],
   "source": [
    "#writing to the csv\n",
    "#transport_msoa4.to_csv(\"Data/transport_msoa2.csv\", index=False)"
   ]
  },
  {
   "cell_type": "code",
   "execution_count": null,
   "metadata": {},
   "outputs": [],
   "source": [
    "#reading in the csv written to before\n",
    "transport = pd.read_csv(\"Data/transport_msoa2.csv\")"
   ]
  },
  {
   "cell_type": "code",
   "execution_count": null,
   "metadata": {},
   "outputs": [],
   "source": [
    "#changing all modes of transport to percentages\n",
    "transport[\"work_from_home_perc\"] = transport[\"Work mainly at or from home\"] / transport[\"All categories: Method of travel to work\"] *100\n",
    "transport[\"underground_metro_perc\"] = transport[\"Underground, metro, light rail, tram\"] / transport[\"All categories: Method of travel to work\"] *100\n",
    "transport[\"train_perc\"] = transport[\"Train\"] / transport[\"All categories: Method of travel to work\"] *100\n",
    "transport[\"bus_perc\"] = transport[\"Bus, minibus or coach\"] / transport[\"All categories: Method of travel to work\"] *100\n",
    "transport[\"taxi_perc\"] = transport[\"Taxi\"] / transport[\"All categories: Method of travel to work\"] *100\n",
    "transport[\"motorcycle_perc\"] = transport[\"Motorcycle, scooter or moped\"] / transport[\"All categories: Method of travel to work\"] *100\n",
    "transport[\"car_or_van_drive_perc\"] = transport[\"Driving a car or van\"] / transport[\"All categories: Method of travel to work\"] *100\n",
    "transport[\"car_or_van_passenger_perc\"] = transport[\"Passenger in a car or van\"] / transport[\"All categories: Method of travel to work\"] *100\n",
    "transport[\"bicycle_perc\"] = transport[\"Bicycle\"] / transport[\"All categories: Method of travel to work\"] *100\n",
    "transport[\"on_foot_perc\"] = transport[\"On foot\"] / transport[\"All categories: Method of travel to work\"] *100\n",
    "transport[\"other_perc\"] = transport[\"Other method of travel to work\"] / transport[\"All categories: Method of travel to work\"] *100"
   ]
  },
  {
   "cell_type": "code",
   "execution_count": null,
   "metadata": {},
   "outputs": [],
   "source": [
    "#checking that the transport percentage has worked\n",
    "transport"
   ]
  },
  {
   "cell_type": "code",
   "execution_count": null,
   "metadata": {},
   "outputs": [],
   "source": [
    "#reading in the travel times\n",
    "travel_car = pd.read_csv(\"Data/travel_time_car.csv\")\n",
    "travel_bus = pd.read_csv(\"Data/travel_time_bus.csv\")\n",
    "travel_rail = pd.read_csv(\"Data/travel_time_rail.csv\")"
   ]
  },
  {
   "cell_type": "code",
   "execution_count": null,
   "metadata": {},
   "outputs": [],
   "source": [
    "\n",
    "#merging transport with travel by car time\n",
    "transport = pd.merge(transport,\n",
    "                    travel_car,\n",
    "                    left_on = \"Area of residence\",\n",
    "                    right_on = \"origin_msoacode\",\n",
    "                    how = 'left')"
   ]
  },
  {
   "cell_type": "code",
   "execution_count": null,
   "metadata": {},
   "outputs": [],
   "source": [
    "#merging with travel by bus times\n",
    "transport = pd.merge(transport,\n",
    "                    travel_bus,\n",
    "                    left_on = \"Area of residence\",\n",
    "                    right_on = \"origin_msoacode\",\n",
    "                    how = 'left')"
   ]
  },
  {
   "cell_type": "code",
   "execution_count": null,
   "metadata": {},
   "outputs": [],
   "source": [
    "#merging with travel by rail times\n",
    "transport = pd.merge(transport,\n",
    "                    travel_rail,\n",
    "                    left_on = \"Area of residence\",\n",
    "                    right_on = \"origin_msoacode\",\n",
    "                    how = 'left')"
   ]
  },
  {
   "cell_type": "code",
   "execution_count": null,
   "metadata": {},
   "outputs": [],
   "source": [
    "transport.to_csv(\"Data/transport_msoa3.csv\", index=False)"
   ]
  },
  {
   "cell_type": "code",
   "execution_count": null,
   "metadata": {},
   "outputs": [],
   "source": [
    "transport"
   ]
  },
  {
   "cell_type": "code",
   "execution_count": null,
   "metadata": {},
   "outputs": [],
   "source": [
    "#transport.isna().sum()"
   ]
  },
  {
   "cell_type": "code",
   "execution_count": null,
   "metadata": {},
   "outputs": [],
   "source": [
    "# Create a new clean dataframe\n",
    "\n",
    "# Remove all flow census counts\n",
    "transport_final = transport.drop(transport.columns[1:13], axis=1)\n",
    "\n",
    "# remove other columns by name\n",
    "transport_final.drop(['Var1_x', 'Var1_y', 'Var1', 'MSOA Code', 'origin_msoacode_x', 'car', 'cumulative_time_car',\n",
    "                     'origin_msoacode_y', 'Bus, minibus or coach_y', 'cumulative_time_bus', 'origin_msoacode',\n",
    "                     'Underground, metro, light rail, tram_y', 'cumulative_time_rail'], axis=1, inplace=True)\n",
    "transport_final"
   ]
  },
  {
   "cell_type": "code",
   "execution_count": null,
   "metadata": {},
   "outputs": [],
   "source": [
    "# merge car owners with car passengers\n",
    "transport_final['car_perc'] = transport_final['car_or_van_drive_perc'] + transport_final['car_or_van_passenger_perc']\n",
    "# remove the old columns\n",
    "transport_final.drop(['car_or_van_drive_perc', 'car_or_van_passenger_perc'], axis=1, inplace=True)"
   ]
  },
  {
   "cell_type": "code",
   "execution_count": null,
   "metadata": {},
   "outputs": [],
   "source": [
    "# change car ownership to % (just need to multiply by 100)\n",
    "transport_final['HH_owning_cars_perc'] = transport_final['HH_owning_cars_perc'] * 100\n",
    "transport_final"
   ]
  },
  {
   "cell_type": "code",
   "execution_count": null,
   "metadata": {},
   "outputs": [],
   "source": [
    "# rename first column\n",
    "transport_final.rename({'Area of residence': 'MSOA'}, axis=1, inplace=True)"
   ]
  },
  {
   "cell_type": "code",
   "execution_count": null,
   "metadata": {},
   "outputs": [],
   "source": [
    "# save as csv\n",
    "transport_final.to_csv(\"Data/cleaned_transport.csv\", index=False)"
   ]
  },
  {
   "cell_type": "code",
   "execution_count": null,
   "metadata": {},
   "outputs": [],
   "source": []
  }
 ],
 "metadata": {
  "kernelspec": {
   "display_name": "Python 3",
   "language": "python",
   "name": "python3"
  },
  "language_info": {
   "codemirror_mode": {
    "name": "ipython",
    "version": 3
   },
   "file_extension": ".py",
   "mimetype": "text/x-python",
   "name": "python",
   "nbconvert_exporter": "python",
   "pygments_lexer": "ipython3",
   "version": "3.7.1"
  }
 },
 "nbformat": 4,
 "nbformat_minor": 2
}
